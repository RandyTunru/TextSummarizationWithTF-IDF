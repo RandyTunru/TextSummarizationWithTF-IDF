{
  "nbformat": 4,
  "nbformat_minor": 0,
  "metadata": {
    "colab": {
      "provenance": [],
      "toc_visible": true,
      "mount_file_id": "1Lg1bcuKMTMp77T1UQJxsgp8J-nvELjci",
      "authorship_tag": "ABX9TyMhHw72K+TYCHetu4eXFvLq",
      "include_colab_link": true
    },
    "kernelspec": {
      "name": "python3",
      "display_name": "Python 3"
    },
    "language_info": {
      "name": "python"
    }
  },
  "cells": [
    {
      "cell_type": "markdown",
      "metadata": {
        "id": "view-in-github",
        "colab_type": "text"
      },
      "source": [
        "<a href=\"https://colab.research.google.com/github/RandyTunru/TextSummarizationWithTF-IDF/blob/main/NLP_TextSummarization.ipynb\" target=\"_parent\"><img src=\"https://colab.research.google.com/assets/colab-badge.svg\" alt=\"Open In Colab\"/></a>"
      ]
    },
    {
      "cell_type": "markdown",
      "source": [
        "#Introduction"
      ],
      "metadata": {
        "id": "Ebe6NsPiVLO7"
      }
    },
    {
      "cell_type": "markdown",
      "source": [
        "Program ini merupakan sistem extractive Text Summarization, program ini menggunakan beberapa library seperti nltk, math, re(regex) dan pandas. Program ini memanfaatkan tokenization dari NLTK, serta menggunakan Porter Stemmer, Text summarization ini menggunakan TF-IDF sebagai word embeddings nya.\n",
        "\n",
        "Secara sederhana, program akan membagi artikel menjadi beberapa sentence (yang akan dianggap sebagai dokumen untuk TF-IDF) lalu program akan menghitung nilai TF-IDF dari setiap token, setelah itu program akan menjumlahkan bobot TF-IDF dalam suatu sentence sehingga menjelaskan apakah suatu sentence dianggap penting atau tidak, program akan menghitung rata rata nilai TF-IDF dari setiap sentence untuk mendapatkan threshold, dan akhirnya program akan mengenerate summary berdasarkan sentences yang memiliki nilai TF-IDF diatas dari threshold\n",
        "\n",
        "Referensi : https://medium.com/@ashins1997/text-summarization-f2542bc6a167"
      ],
      "metadata": {
        "id": "14yxHurAVPDB"
      }
    },
    {
      "cell_type": "markdown",
      "source": [
        "# Data Preparation"
      ],
      "metadata": {
        "id": "bSwJ5YZ8-hyU"
      }
    },
    {
      "cell_type": "markdown",
      "source": [
        "## 1. Mount Drive"
      ],
      "metadata": {
        "id": "8KSFK4IC4vnv"
      }
    },
    {
      "cell_type": "code",
      "source": [
        "from google.colab import drive\n",
        "drive.mount('/content/drive')"
      ],
      "metadata": {
        "id": "_GqXHmLfbgTy",
        "colab": {
          "base_uri": "https://localhost:8080/"
        },
        "outputId": "114d74ec-f42c-44b0-8bff-d5af2b9ebea3"
      },
      "execution_count": null,
      "outputs": [
        {
          "output_type": "stream",
          "name": "stdout",
          "text": [
            "Drive already mounted at /content/drive; to attempt to forcibly remount, call drive.mount(\"/content/drive\", force_remount=True).\n"
          ]
        }
      ]
    },
    {
      "cell_type": "markdown",
      "source": [],
      "metadata": {
        "id": "UV1EflrFpL0g"
      }
    },
    {
      "cell_type": "markdown",
      "source": [
        "## 2. Import Modules"
      ],
      "metadata": {
        "id": "Vw-BQ8_9413l"
      }
    },
    {
      "cell_type": "code",
      "source": [
        "import pandas as pd"
      ],
      "metadata": {
        "id": "rj56Ad7Lo7C1"
      },
      "execution_count": null,
      "outputs": []
    },
    {
      "cell_type": "code",
      "source": [
        "from nltk.corpus import stopwords\n",
        "from nltk.tokenize import word_tokenize, sent_tokenize\n",
        "from nltk.stem import PorterStemmer\n",
        "import math\n",
        "\n",
        "ps = PorterStemmer()"
      ],
      "metadata": {
        "id": "djC4WEqv6wbS"
      },
      "execution_count": null,
      "outputs": []
    },
    {
      "cell_type": "code",
      "source": [
        "import nltk"
      ],
      "metadata": {
        "id": "5Os2WdRu6_Qj"
      },
      "execution_count": null,
      "outputs": []
    },
    {
      "cell_type": "code",
      "source": [
        "nltk.download('punkt')\n",
        "nltk.download('stopwords')"
      ],
      "metadata": {
        "colab": {
          "base_uri": "https://localhost:8080/"
        },
        "id": "Ueh-MXD4693P",
        "outputId": "f139db5e-eab9-46c6-c6d4-fa2272a8d5c3"
      },
      "execution_count": null,
      "outputs": [
        {
          "output_type": "stream",
          "name": "stderr",
          "text": [
            "[nltk_data] Downloading package punkt to /root/nltk_data...\n",
            "[nltk_data]   Unzipping tokenizers/punkt.zip.\n",
            "[nltk_data] Downloading package stopwords to /root/nltk_data...\n",
            "[nltk_data]   Unzipping corpora/stopwords.zip.\n"
          ]
        },
        {
          "output_type": "execute_result",
          "data": {
            "text/plain": [
              "True"
            ]
          },
          "metadata": {},
          "execution_count": 5
        }
      ]
    },
    {
      "cell_type": "code",
      "source": [
        "import re"
      ],
      "metadata": {
        "id": "4uH-8Z1C6ych"
      },
      "execution_count": null,
      "outputs": []
    },
    {
      "cell_type": "markdown",
      "source": [
        "## 3. Setting up csv and dataframe"
      ],
      "metadata": {
        "id": "I-A5sENn47xC"
      }
    },
    {
      "cell_type": "code",
      "source": [
        "#Creating a dataframe from the CSV\n",
        "df = pd.read_csv('/content/drive/MyDrive/csv_coll/CNN_Articels_clean/CNN_Articels_clean.csv')"
      ],
      "metadata": {
        "id": "mAJlhO_r4Pdb"
      },
      "execution_count": null,
      "outputs": []
    },
    {
      "cell_type": "code",
      "source": [
        "df"
      ],
      "metadata": {
        "colab": {
          "base_uri": "https://localhost:8080/"
        },
        "id": "U8pMScg67ebs",
        "outputId": "f6e475a1-b3e0-4963-d79e-9236cd532afc"
      },
      "execution_count": null,
      "outputs": [
        {
          "output_type": "execute_result",
          "data": {
            "text/plain": [
              "      Index                                             Author  \\\n",
              "0         0                                 Jacopo Prisco, CNN   \n",
              "1         2                              Stephanie Bailey, CNN   \n",
              "2         3  Words by Stephanie Bailey, video by Zahra Jamshed   \n",
              "3         4                    Paul R. La Monica, CNN Business   \n",
              "4         7                                            Reuters   \n",
              "...     ...                                                ...   \n",
              "4071   4725                                   Story by Reuters   \n",
              "4072   4726                           Homero De la Fuente, CNN   \n",
              "4073   4727                                  Amy Woodyatt, CNN   \n",
              "4074   4728                                   Story by Reuters   \n",
              "4075   4729                 Analysis by Stephen Collinson, CNN   \n",
              "\n",
              "           Date published  Category    Section  \\\n",
              "0     2021-07-15 02:46:59      news      world   \n",
              "1     2021-05-12 07:52:09      news      world   \n",
              "2     2021-06-16 02:51:30      news       asia   \n",
              "3     2022-03-15 09:57:36  business  investing   \n",
              "4     2022-03-15 11:27:02  business   business   \n",
              "...                   ...       ...        ...   \n",
              "4071  2021-12-01 10:01:29     sport     tennis   \n",
              "4072  2021-12-01 17:56:15     sport       golf   \n",
              "4073  2021-12-01 11:32:15     sport     tennis   \n",
              "4074  2021-12-01 17:27:34      news     europe   \n",
              "4075  2021-12-01 14:32:33     sport       golf   \n",
              "\n",
              "                                                    Url  \\\n",
              "0     https://www.cnn.com/2021/07/14/world/tusimple-...   \n",
              "1     https://www.cnn.com/2021/05/12/world/ironhand-...   \n",
              "2     https://www.cnn.com/2021/06/15/asia/swarm-robo...   \n",
              "3     https://www.cnn.com/2022/03/15/investing/brics...   \n",
              "4     https://www.cnn.com/2022/03/15/business/russia...   \n",
              "...                                                 ...   \n",
              "4071  https://www.cnn.com/2021/12/01/tennis/australi...   \n",
              "4072  https://www.cnn.com/2021/12/01/golf/south-afri...   \n",
              "4073  https://www.cnn.com/2021/12/01/tennis/peng-shu...   \n",
              "4074  https://www.cnn.com/2021/12/01/europe/cow-dung...   \n",
              "4075  https://www.cnn.com/2021/12/01/golf/tiger-wood...   \n",
              "\n",
              "                                               Headline  \\\n",
              "0     There's a shortage of truckers, but TuSimple t...   \n",
              "1     Bioservo's robotic 'Ironhand' could protect fa...   \n",
              "2     This swarm of robots gets smarter the more it ...   \n",
              "3     Russia is no longer an option for investors. T...   \n",
              "4     Russian energy investment ban part of new EU s...   \n",
              "...                                                 ...   \n",
              "4071  Australian Open: Australia's vaccine mandate i...   \n",
              "4072  Four golfers test positive ahead of South Afri...   \n",
              "4073  Peng Shuai: 'Unanimous conclusion' that tennis...   \n",
              "4074  This company is \"zapping\" cow dung with lightn...   \n",
              "4075     Tiger Woods: Is this the end of his era? - CNN   \n",
              "\n",
              "                                            Description  \\\n",
              "0     The e-commerce boom has exacerbated a global t...   \n",
              "1     Working in a factory can mean doing the same t...   \n",
              "2     In a Hong Kong warehouse, a swarm of autonomou...   \n",
              "3     For many years, the world's most popular emerg...   \n",
              "4     The European Union formally approved on Tuesda...   \n",
              "...                                                 ...   \n",
              "4071  The Australian Open's Covid-19 vaccine mandate...   \n",
              "4072  Four golfers scheduled to play in the South Af...   \n",
              "4073  Long-time International Olympic Committee (IOC...   \n",
              "4074  A Norwegian technology company has found a way...   \n",
              "4075  Tiger Woods is the rarest of athletes. At his ...   \n",
              "\n",
              "                                               Keywords  \\\n",
              "0     world, There's a shortage of truckers, but TuS...   \n",
              "1     world, Bioservo's robotic 'Ironhand' could pro...   \n",
              "2     asia, This swarm of robots gets smarter the mo...   \n",
              "3     investing, Russia is no longer an option for i...   \n",
              "4     business, Russian energy investment ban part o...   \n",
              "...                                                 ...   \n",
              "4071  tennis, Australian Open: Australia's vaccine m...   \n",
              "4072  golf, Four golfers test positive ahead of Sout...   \n",
              "4073  tennis, Peng Shuai: 'Unanimous conclusion' tha...   \n",
              "4074  europe, This company is \"zapping\" cow dung wit...   \n",
              "4075  golf, Tiger Woods: Is this the end of his era?...   \n",
              "\n",
              "                                        Second headline  \\\n",
              "0     There's a shortage of truckers, but TuSimple t...   \n",
              "1     A robotic 'Ironhand' could protect factory wor...   \n",
              "2     This swarm of robots gets smarter the more it ...   \n",
              "3     Russia is no longer an option for investors. T...   \n",
              "4     EU bans investment in Russian energy in new sa...   \n",
              "...                                                 ...   \n",
              "4071  Australia's vaccine mandate is not to 'blackma...   \n",
              "4072  Four golfers test positive ahead of South Afri...   \n",
              "4073  'Unanimous conclusion' that Peng Shuai is 'fin...   \n",
              "4074  Zapping cow dung with lightning is helping to ...   \n",
              "4075            Is this the end of the Tiger Woods era?   \n",
              "\n",
              "                                           Article text  \n",
              "0      (CNN)Right now, there's a shortage of truck d...  \n",
              "1      (CNN)Working in a factory or warehouse can me...  \n",
              "2      (CNN)In a Hong Kong warehouse, a swarm of aut...  \n",
              "3     New York (CNN Business)For many years, the wor...  \n",
              "4     The European Union formally approved on Tuesda...  \n",
              "...                                                 ...  \n",
              "4071   (Reuters)The Australian Open's Covid-19 vacci...  \n",
              "4072   (CNN)Four golfers scheduled to play in the So...  \n",
              "4073   (CNN)Long-time International Olympic Committe...  \n",
              "4074  A Norwegian technology company has found a way...  \n",
              "4075  This story was excerpted from the November 23 ...  \n",
              "\n",
              "[4076 rows x 11 columns]"
            ],
            "text/html": [
              "\n",
              "  <div id=\"df-c6614657-69c7-4362-9ad2-2f48a5f32409\" class=\"colab-df-container\">\n",
              "    <div>\n",
              "<style scoped>\n",
              "    .dataframe tbody tr th:only-of-type {\n",
              "        vertical-align: middle;\n",
              "    }\n",
              "\n",
              "    .dataframe tbody tr th {\n",
              "        vertical-align: top;\n",
              "    }\n",
              "\n",
              "    .dataframe thead th {\n",
              "        text-align: right;\n",
              "    }\n",
              "</style>\n",
              "<table border=\"1\" class=\"dataframe\">\n",
              "  <thead>\n",
              "    <tr style=\"text-align: right;\">\n",
              "      <th></th>\n",
              "      <th>Index</th>\n",
              "      <th>Author</th>\n",
              "      <th>Date published</th>\n",
              "      <th>Category</th>\n",
              "      <th>Section</th>\n",
              "      <th>Url</th>\n",
              "      <th>Headline</th>\n",
              "      <th>Description</th>\n",
              "      <th>Keywords</th>\n",
              "      <th>Second headline</th>\n",
              "      <th>Article text</th>\n",
              "    </tr>\n",
              "  </thead>\n",
              "  <tbody>\n",
              "    <tr>\n",
              "      <th>0</th>\n",
              "      <td>0</td>\n",
              "      <td>Jacopo Prisco, CNN</td>\n",
              "      <td>2021-07-15 02:46:59</td>\n",
              "      <td>news</td>\n",
              "      <td>world</td>\n",
              "      <td>https://www.cnn.com/2021/07/14/world/tusimple-...</td>\n",
              "      <td>There's a shortage of truckers, but TuSimple t...</td>\n",
              "      <td>The e-commerce boom has exacerbated a global t...</td>\n",
              "      <td>world, There's a shortage of truckers, but TuS...</td>\n",
              "      <td>There's a shortage of truckers, but TuSimple t...</td>\n",
              "      <td>(CNN)Right now, there's a shortage of truck d...</td>\n",
              "    </tr>\n",
              "    <tr>\n",
              "      <th>1</th>\n",
              "      <td>2</td>\n",
              "      <td>Stephanie Bailey, CNN</td>\n",
              "      <td>2021-05-12 07:52:09</td>\n",
              "      <td>news</td>\n",
              "      <td>world</td>\n",
              "      <td>https://www.cnn.com/2021/05/12/world/ironhand-...</td>\n",
              "      <td>Bioservo's robotic 'Ironhand' could protect fa...</td>\n",
              "      <td>Working in a factory can mean doing the same t...</td>\n",
              "      <td>world, Bioservo's robotic 'Ironhand' could pro...</td>\n",
              "      <td>A robotic 'Ironhand' could protect factory wor...</td>\n",
              "      <td>(CNN)Working in a factory or warehouse can me...</td>\n",
              "    </tr>\n",
              "    <tr>\n",
              "      <th>2</th>\n",
              "      <td>3</td>\n",
              "      <td>Words by Stephanie Bailey, video by Zahra Jamshed</td>\n",
              "      <td>2021-06-16 02:51:30</td>\n",
              "      <td>news</td>\n",
              "      <td>asia</td>\n",
              "      <td>https://www.cnn.com/2021/06/15/asia/swarm-robo...</td>\n",
              "      <td>This swarm of robots gets smarter the more it ...</td>\n",
              "      <td>In a Hong Kong warehouse, a swarm of autonomou...</td>\n",
              "      <td>asia, This swarm of robots gets smarter the mo...</td>\n",
              "      <td>This swarm of robots gets smarter the more it ...</td>\n",
              "      <td>(CNN)In a Hong Kong warehouse, a swarm of aut...</td>\n",
              "    </tr>\n",
              "    <tr>\n",
              "      <th>3</th>\n",
              "      <td>4</td>\n",
              "      <td>Paul R. La Monica, CNN Business</td>\n",
              "      <td>2022-03-15 09:57:36</td>\n",
              "      <td>business</td>\n",
              "      <td>investing</td>\n",
              "      <td>https://www.cnn.com/2022/03/15/investing/brics...</td>\n",
              "      <td>Russia is no longer an option for investors. T...</td>\n",
              "      <td>For many years, the world's most popular emerg...</td>\n",
              "      <td>investing, Russia is no longer an option for i...</td>\n",
              "      <td>Russia is no longer an option for investors. T...</td>\n",
              "      <td>New York (CNN Business)For many years, the wor...</td>\n",
              "    </tr>\n",
              "    <tr>\n",
              "      <th>4</th>\n",
              "      <td>7</td>\n",
              "      <td>Reuters</td>\n",
              "      <td>2022-03-15 11:27:02</td>\n",
              "      <td>business</td>\n",
              "      <td>business</td>\n",
              "      <td>https://www.cnn.com/2022/03/15/business/russia...</td>\n",
              "      <td>Russian energy investment ban part of new EU s...</td>\n",
              "      <td>The European Union formally approved on Tuesda...</td>\n",
              "      <td>business, Russian energy investment ban part o...</td>\n",
              "      <td>EU bans investment in Russian energy in new sa...</td>\n",
              "      <td>The European Union formally approved on Tuesda...</td>\n",
              "    </tr>\n",
              "    <tr>\n",
              "      <th>...</th>\n",
              "      <td>...</td>\n",
              "      <td>...</td>\n",
              "      <td>...</td>\n",
              "      <td>...</td>\n",
              "      <td>...</td>\n",
              "      <td>...</td>\n",
              "      <td>...</td>\n",
              "      <td>...</td>\n",
              "      <td>...</td>\n",
              "      <td>...</td>\n",
              "      <td>...</td>\n",
              "    </tr>\n",
              "    <tr>\n",
              "      <th>4071</th>\n",
              "      <td>4725</td>\n",
              "      <td>Story by Reuters</td>\n",
              "      <td>2021-12-01 10:01:29</td>\n",
              "      <td>sport</td>\n",
              "      <td>tennis</td>\n",
              "      <td>https://www.cnn.com/2021/12/01/tennis/australi...</td>\n",
              "      <td>Australian Open: Australia's vaccine mandate i...</td>\n",
              "      <td>The Australian Open's Covid-19 vaccine mandate...</td>\n",
              "      <td>tennis, Australian Open: Australia's vaccine m...</td>\n",
              "      <td>Australia's vaccine mandate is not to 'blackma...</td>\n",
              "      <td>(Reuters)The Australian Open's Covid-19 vacci...</td>\n",
              "    </tr>\n",
              "    <tr>\n",
              "      <th>4072</th>\n",
              "      <td>4726</td>\n",
              "      <td>Homero De la Fuente, CNN</td>\n",
              "      <td>2021-12-01 17:56:15</td>\n",
              "      <td>sport</td>\n",
              "      <td>golf</td>\n",
              "      <td>https://www.cnn.com/2021/12/01/golf/south-afri...</td>\n",
              "      <td>Four golfers test positive ahead of South Afri...</td>\n",
              "      <td>Four golfers scheduled to play in the South Af...</td>\n",
              "      <td>golf, Four golfers test positive ahead of Sout...</td>\n",
              "      <td>Four golfers test positive ahead of South Afri...</td>\n",
              "      <td>(CNN)Four golfers scheduled to play in the So...</td>\n",
              "    </tr>\n",
              "    <tr>\n",
              "      <th>4073</th>\n",
              "      <td>4727</td>\n",
              "      <td>Amy Woodyatt, CNN</td>\n",
              "      <td>2021-12-01 11:32:15</td>\n",
              "      <td>sport</td>\n",
              "      <td>tennis</td>\n",
              "      <td>https://www.cnn.com/2021/12/01/tennis/peng-shu...</td>\n",
              "      <td>Peng Shuai: 'Unanimous conclusion' that tennis...</td>\n",
              "      <td>Long-time International Olympic Committee (IOC...</td>\n",
              "      <td>tennis, Peng Shuai: 'Unanimous conclusion' tha...</td>\n",
              "      <td>'Unanimous conclusion' that Peng Shuai is 'fin...</td>\n",
              "      <td>(CNN)Long-time International Olympic Committe...</td>\n",
              "    </tr>\n",
              "    <tr>\n",
              "      <th>4074</th>\n",
              "      <td>4728</td>\n",
              "      <td>Story by Reuters</td>\n",
              "      <td>2021-12-01 17:27:34</td>\n",
              "      <td>news</td>\n",
              "      <td>europe</td>\n",
              "      <td>https://www.cnn.com/2021/12/01/europe/cow-dung...</td>\n",
              "      <td>This company is \"zapping\" cow dung with lightn...</td>\n",
              "      <td>A Norwegian technology company has found a way...</td>\n",
              "      <td>europe, This company is \"zapping\" cow dung wit...</td>\n",
              "      <td>Zapping cow dung with lightning is helping to ...</td>\n",
              "      <td>A Norwegian technology company has found a way...</td>\n",
              "    </tr>\n",
              "    <tr>\n",
              "      <th>4075</th>\n",
              "      <td>4729</td>\n",
              "      <td>Analysis by Stephen Collinson, CNN</td>\n",
              "      <td>2021-12-01 14:32:33</td>\n",
              "      <td>sport</td>\n",
              "      <td>golf</td>\n",
              "      <td>https://www.cnn.com/2021/12/01/golf/tiger-wood...</td>\n",
              "      <td>Tiger Woods: Is this the end of his era? - CNN</td>\n",
              "      <td>Tiger Woods is the rarest of athletes. At his ...</td>\n",
              "      <td>golf, Tiger Woods: Is this the end of his era?...</td>\n",
              "      <td>Is this the end of the Tiger Woods era?</td>\n",
              "      <td>This story was excerpted from the November 23 ...</td>\n",
              "    </tr>\n",
              "  </tbody>\n",
              "</table>\n",
              "<p>4076 rows × 11 columns</p>\n",
              "</div>\n",
              "    <div class=\"colab-df-buttons\">\n",
              "\n",
              "  <div class=\"colab-df-container\">\n",
              "    <button class=\"colab-df-convert\" onclick=\"convertToInteractive('df-c6614657-69c7-4362-9ad2-2f48a5f32409')\"\n",
              "            title=\"Convert this dataframe to an interactive table.\"\n",
              "            style=\"display:none;\">\n",
              "\n",
              "  <svg xmlns=\"http://www.w3.org/2000/svg\" height=\"24px\" viewBox=\"0 -960 960 960\">\n",
              "    <path d=\"M120-120v-720h720v720H120Zm60-500h600v-160H180v160Zm220 220h160v-160H400v160Zm0 220h160v-160H400v160ZM180-400h160v-160H180v160Zm440 0h160v-160H620v160ZM180-180h160v-160H180v160Zm440 0h160v-160H620v160Z\"/>\n",
              "  </svg>\n",
              "    </button>\n",
              "\n",
              "  <style>\n",
              "    .colab-df-container {\n",
              "      display:flex;\n",
              "      gap: 12px;\n",
              "    }\n",
              "\n",
              "    .colab-df-convert {\n",
              "      background-color: #E8F0FE;\n",
              "      border: none;\n",
              "      border-radius: 50%;\n",
              "      cursor: pointer;\n",
              "      display: none;\n",
              "      fill: #1967D2;\n",
              "      height: 32px;\n",
              "      padding: 0 0 0 0;\n",
              "      width: 32px;\n",
              "    }\n",
              "\n",
              "    .colab-df-convert:hover {\n",
              "      background-color: #E2EBFA;\n",
              "      box-shadow: 0px 1px 2px rgba(60, 64, 67, 0.3), 0px 1px 3px 1px rgba(60, 64, 67, 0.15);\n",
              "      fill: #174EA6;\n",
              "    }\n",
              "\n",
              "    .colab-df-buttons div {\n",
              "      margin-bottom: 4px;\n",
              "    }\n",
              "\n",
              "    [theme=dark] .colab-df-convert {\n",
              "      background-color: #3B4455;\n",
              "      fill: #D2E3FC;\n",
              "    }\n",
              "\n",
              "    [theme=dark] .colab-df-convert:hover {\n",
              "      background-color: #434B5C;\n",
              "      box-shadow: 0px 1px 3px 1px rgba(0, 0, 0, 0.15);\n",
              "      filter: drop-shadow(0px 1px 2px rgba(0, 0, 0, 0.3));\n",
              "      fill: #FFFFFF;\n",
              "    }\n",
              "  </style>\n",
              "\n",
              "    <script>\n",
              "      const buttonEl =\n",
              "        document.querySelector('#df-c6614657-69c7-4362-9ad2-2f48a5f32409 button.colab-df-convert');\n",
              "      buttonEl.style.display =\n",
              "        google.colab.kernel.accessAllowed ? 'block' : 'none';\n",
              "\n",
              "      async function convertToInteractive(key) {\n",
              "        const element = document.querySelector('#df-c6614657-69c7-4362-9ad2-2f48a5f32409');\n",
              "        const dataTable =\n",
              "          await google.colab.kernel.invokeFunction('convertToInteractive',\n",
              "                                                    [key], {});\n",
              "        if (!dataTable) return;\n",
              "\n",
              "        const docLinkHtml = 'Like what you see? Visit the ' +\n",
              "          '<a target=\"_blank\" href=https://colab.research.google.com/notebooks/data_table.ipynb>data table notebook</a>'\n",
              "          + ' to learn more about interactive tables.';\n",
              "        element.innerHTML = '';\n",
              "        dataTable['output_type'] = 'display_data';\n",
              "        await google.colab.output.renderOutput(dataTable, element);\n",
              "        const docLink = document.createElement('div');\n",
              "        docLink.innerHTML = docLinkHtml;\n",
              "        element.appendChild(docLink);\n",
              "      }\n",
              "    </script>\n",
              "  </div>\n",
              "\n",
              "\n",
              "<div id=\"df-412489b8-0efd-470f-8f0c-1eef215c4f57\">\n",
              "  <button class=\"colab-df-quickchart\" onclick=\"quickchart('df-412489b8-0efd-470f-8f0c-1eef215c4f57')\"\n",
              "            title=\"Suggest charts.\"\n",
              "            style=\"display:none;\">\n",
              "\n",
              "<svg xmlns=\"http://www.w3.org/2000/svg\" height=\"24px\"viewBox=\"0 0 24 24\"\n",
              "     width=\"24px\">\n",
              "    <g>\n",
              "        <path d=\"M19 3H5c-1.1 0-2 .9-2 2v14c0 1.1.9 2 2 2h14c1.1 0 2-.9 2-2V5c0-1.1-.9-2-2-2zM9 17H7v-7h2v7zm4 0h-2V7h2v10zm4 0h-2v-4h2v4z\"/>\n",
              "    </g>\n",
              "</svg>\n",
              "  </button>\n",
              "\n",
              "<style>\n",
              "  .colab-df-quickchart {\n",
              "      --bg-color: #E8F0FE;\n",
              "      --fill-color: #1967D2;\n",
              "      --hover-bg-color: #E2EBFA;\n",
              "      --hover-fill-color: #174EA6;\n",
              "      --disabled-fill-color: #AAA;\n",
              "      --disabled-bg-color: #DDD;\n",
              "  }\n",
              "\n",
              "  [theme=dark] .colab-df-quickchart {\n",
              "      --bg-color: #3B4455;\n",
              "      --fill-color: #D2E3FC;\n",
              "      --hover-bg-color: #434B5C;\n",
              "      --hover-fill-color: #FFFFFF;\n",
              "      --disabled-bg-color: #3B4455;\n",
              "      --disabled-fill-color: #666;\n",
              "  }\n",
              "\n",
              "  .colab-df-quickchart {\n",
              "    background-color: var(--bg-color);\n",
              "    border: none;\n",
              "    border-radius: 50%;\n",
              "    cursor: pointer;\n",
              "    display: none;\n",
              "    fill: var(--fill-color);\n",
              "    height: 32px;\n",
              "    padding: 0;\n",
              "    width: 32px;\n",
              "  }\n",
              "\n",
              "  .colab-df-quickchart:hover {\n",
              "    background-color: var(--hover-bg-color);\n",
              "    box-shadow: 0 1px 2px rgba(60, 64, 67, 0.3), 0 1px 3px 1px rgba(60, 64, 67, 0.15);\n",
              "    fill: var(--button-hover-fill-color);\n",
              "  }\n",
              "\n",
              "  .colab-df-quickchart-complete:disabled,\n",
              "  .colab-df-quickchart-complete:disabled:hover {\n",
              "    background-color: var(--disabled-bg-color);\n",
              "    fill: var(--disabled-fill-color);\n",
              "    box-shadow: none;\n",
              "  }\n",
              "\n",
              "  .colab-df-spinner {\n",
              "    border: 2px solid var(--fill-color);\n",
              "    border-color: transparent;\n",
              "    border-bottom-color: var(--fill-color);\n",
              "    animation:\n",
              "      spin 1s steps(1) infinite;\n",
              "  }\n",
              "\n",
              "  @keyframes spin {\n",
              "    0% {\n",
              "      border-color: transparent;\n",
              "      border-bottom-color: var(--fill-color);\n",
              "      border-left-color: var(--fill-color);\n",
              "    }\n",
              "    20% {\n",
              "      border-color: transparent;\n",
              "      border-left-color: var(--fill-color);\n",
              "      border-top-color: var(--fill-color);\n",
              "    }\n",
              "    30% {\n",
              "      border-color: transparent;\n",
              "      border-left-color: var(--fill-color);\n",
              "      border-top-color: var(--fill-color);\n",
              "      border-right-color: var(--fill-color);\n",
              "    }\n",
              "    40% {\n",
              "      border-color: transparent;\n",
              "      border-right-color: var(--fill-color);\n",
              "      border-top-color: var(--fill-color);\n",
              "    }\n",
              "    60% {\n",
              "      border-color: transparent;\n",
              "      border-right-color: var(--fill-color);\n",
              "    }\n",
              "    80% {\n",
              "      border-color: transparent;\n",
              "      border-right-color: var(--fill-color);\n",
              "      border-bottom-color: var(--fill-color);\n",
              "    }\n",
              "    90% {\n",
              "      border-color: transparent;\n",
              "      border-bottom-color: var(--fill-color);\n",
              "    }\n",
              "  }\n",
              "</style>\n",
              "\n",
              "  <script>\n",
              "    async function quickchart(key) {\n",
              "      const quickchartButtonEl =\n",
              "        document.querySelector('#' + key + ' button');\n",
              "      quickchartButtonEl.disabled = true;  // To prevent multiple clicks.\n",
              "      quickchartButtonEl.classList.add('colab-df-spinner');\n",
              "      try {\n",
              "        const charts = await google.colab.kernel.invokeFunction(\n",
              "            'suggestCharts', [key], {});\n",
              "      } catch (error) {\n",
              "        console.error('Error during call to suggestCharts:', error);\n",
              "      }\n",
              "      quickchartButtonEl.classList.remove('colab-df-spinner');\n",
              "      quickchartButtonEl.classList.add('colab-df-quickchart-complete');\n",
              "    }\n",
              "    (() => {\n",
              "      let quickchartButtonEl =\n",
              "        document.querySelector('#df-412489b8-0efd-470f-8f0c-1eef215c4f57 button');\n",
              "      quickchartButtonEl.style.display =\n",
              "        google.colab.kernel.accessAllowed ? 'block' : 'none';\n",
              "    })();\n",
              "  </script>\n",
              "</div>\n",
              "    </div>\n",
              "  </div>\n"
            ]
          },
          "metadata": {},
          "execution_count": 8
        }
      ]
    },
    {
      "cell_type": "markdown",
      "source": [
        "## 4. Copying Article Text series from dataframe to be processed"
      ],
      "metadata": {
        "id": "-6WFJQN0-wzw"
      }
    },
    {
      "cell_type": "code",
      "source": [
        "#Creating an array that only contains column 'Article Text\" from the dataframe\n",
        "articleText = df['Article text'].copy(deep=True)"
      ],
      "metadata": {
        "id": "UXYUw_eJ78Dk"
      },
      "execution_count": null,
      "outputs": []
    },
    {
      "cell_type": "code",
      "source": [
        "articleText"
      ],
      "metadata": {
        "colab": {
          "base_uri": "https://localhost:8080/"
        },
        "id": "n14SVK-4Cjmk",
        "outputId": "1d6b51f3-59bc-4733-eeb4-f198898759eb"
      },
      "execution_count": null,
      "outputs": [
        {
          "output_type": "execute_result",
          "data": {
            "text/plain": [
              "0        (CNN)Right now, there's a shortage of truck d...\n",
              "1        (CNN)Working in a factory or warehouse can me...\n",
              "2        (CNN)In a Hong Kong warehouse, a swarm of aut...\n",
              "3       New York (CNN Business)For many years, the wor...\n",
              "4       The European Union formally approved on Tuesda...\n",
              "                              ...                        \n",
              "4071     (Reuters)The Australian Open's Covid-19 vacci...\n",
              "4072     (CNN)Four golfers scheduled to play in the So...\n",
              "4073     (CNN)Long-time International Olympic Committe...\n",
              "4074    A Norwegian technology company has found a way...\n",
              "4075    This story was excerpted from the November 23 ...\n",
              "Name: Article text, Length: 4076, dtype: object"
            ]
          },
          "metadata": {},
          "execution_count": 10
        }
      ]
    },
    {
      "cell_type": "code",
      "source": [
        "articleText[0]"
      ],
      "metadata": {
        "colab": {
          "base_uri": "https://localhost:8080/"
        },
        "id": "EgjvklGP8RDV",
        "outputId": "3b4959a1-a99a-4983-e2a0-8bdcbd533b8a"
      },
      "execution_count": null,
      "outputs": [
        {
          "output_type": "execute_result",
          "data": {
            "text/plain": [
              "' (CNN)Right now, there\\'s a shortage of truck drivers in the US and worldwide, exacerbated by the e-commerce boom brought on by the pandemic. One solution to the problem is autonomous trucks, and several companies are in a race to be the first to launch one. Among them is San Diego-based TuSimple.Founded in 2015, TuSimple has completed about 2 million miles of road tests with its 70 prototype trucks across the US, China and Europe. Although these are simply commercially available trucks retrofitted with its technology, TuSimple has deals in place with two of the world\\'s largest truck manufacturers -- Navistar in the US and Traton, Volkswagen\\'s trucking business, in Europe -- to design and build fully autonomous models, which it hopes to launch by 2024. Photos: The Yara Birkeland is what its builders call the world\\'s first zero-emission, autonomous cargo ship. The ship is scheduled to make its first journey between two Norwegian towns before the end of the year. Click through to see more forms of transport set to transform the future.Hide Caption 1 of 13 Photos: Pictured here as a rendering, Oceanbird is a wind-powered transatlantic car carrier that cuts carbon emissions by 90%, compared to a standard car carrier.Hide Caption 2 of 13 Photos: It\\'s not just maritime ships that are going green. Cities around the world are adopting electric ferries. Norwegian startup Zeabuz hopes its self-driving electric ferry (pictured here as a rendering) will help revive urban waterways.Hide Caption 3 of 13 Photos: In China, a new Maglev high-speed train rolls off the production line in Qingdao, east China\\'s Shandong Province, on July 20. It has a top speed of 600 km per hour -- currently the fastest ground vehicle available globally. Hide Caption 4 of 13 Photos: Reaching speeds of up to 1,000 kilometers (620 miles) per hour, Hyperloop could be a sustainable replacement to short-haul flights. Dutch company Hardt (shown here as a rendering) started work on its Hyperloop test facility in Europe, anticipated to open in 2022.Hide Caption 5 of 13 Photos: Hyperloop is like a bullet train, without tracks and rails. Floating pods are propelled through a low-pressure steel tube using magnetic levitation. Virgin has been running tests with passengers on its XP-2 vehicle, pictured here.Hide Caption 6 of 13 Photos: Low carbon travel isn\\'t just about switching to sustainable fuel sources -- it\\'s also about redesigning the transport itself. A \"Flying-V\" plane designed by Delft\\'s University of Technology in the Netherlands and Dutch airline KLM can cut fuel consumption by 20%. Ultimately, researchers hope to switch out the kerosene with a sustainable fuel source, like liquid hydrogen.Hide Caption 7 of 13 Photos: Hydrogen aviation could provide a sustainable solution for short and medium-haul flights. In September, Airbus unveiled plans for three hydrogen-powered, zero-emission aircraft which can carry 100 to 200 passengers. It hopes to launch the first ZEROe aircraft in 2035.Hide Caption 8 of 13 Photos: In December 2019, Canadian airline Harbour Air flew the world\\'s first all-electric, zero-emission commercial aircraft. The six-seater seaplane was retrofitted with magniX\\'s magni500 all-electric motor. Harbour Air -- which carries half a million passengers annually -- hopes to become the world\\'s first all-electric airline. Hide Caption 9 of 13 Photos: In the case of electric bikes, the future is now: one retailer reported the sale of e-bikes and e-scooters had increased 230% this year. E-bikes give the user a boost to their pedaling, allowing them to go further with less effort. E-bikes are now even available on ride-share apps, like Uber.Hide Caption 10 of 13 Photos: While sleeper trains or buses might be the way most of us get some shut-eye on overnight travel, this rendering of a self-driving hotel suite from Toronto-based designer Steve Lee of Aprilli Design Studio might offer a plush alternative in the future.Hide Caption 11 of 13 Photos: In the UAE, these futuristic-looking pods are undergoing testing on a 400-meter line in Sharjah, which borders Dubai. Belarus-based uSky Transport says its pods can help cities solve traffic problems.Hide Caption 12 of 13 Photos: The Coradia iLint by French rail transport company Alstom is the world\\'s first hydrogen-powered passenger train. It began testing in Germany in 2018, and in September 2020 entered regular service in Austria.Hide Caption 13 of 13No sleepTuSimple\\'s latest road test involved hauling fresh produce 951 miles, from Nogales, Arizona to Oklahoma City. The pickup and the dropoff were handled by a human driver, but for the bulk of the route -- from Tucson to Dallas -- the truck drove itself. Read More\"Today, because the system is not fully ready, we have a safety driver and a safety engineer on board at all times when we\\'re testing, but we drove in full autonomy: the driver wasn\\'t touching the wheel,\" said Cheng Lu, TuSimple\\'s president and CEO. The journey was completed in 14 hours versus the usual 24 with a human driver, mostly because a truck doesn\\'t need to sleep. \"In the US, a driver can only work 11 hours a day. We simply had a handoff when our first pair of drivers had to stop because they reached their 11 hours of operation,\" said Lu. That, of course, negates the advantage of an autonomous system, so the idea is that once TuSimple\\'s trucks hit the market, there will be no need to have anyone onboard. Picking up the watermelons still required the human touch.Unlike self-driving cars, which are a still a way from being commercially available, TuSimple trucks won\\'t be required to operate in bustling city traffic, but only on stretches of highway that have been thoroughly mapped via the company\\'s own software. \"We collect data from the roads, and we create this very detailed, high definition map of each route. That adds another layer of safety for the vehicles,\" said Lu. As a result, TuSimple\\'s trucks will only be able to self-drive along these pre-mapped trade corridors, which Lu calls \"virtual railroads,\" and nowhere else. This swarm of robots gets smarter the more it worksAccording to the company, in the US 80% of goods travel through just 10% of the nation\\'s trade corridors, so even selective mapping allows for capturing a large portion of the business. TuSimple is currently mapping routes between Arizona and Texas, and plans to have mapped routes across the nation by 2024. Its plans are dependent on state legislation, however, because currently some states do not allow for testing of autonomous trucks on public roads. Happier drivers?The technology will add about $50,000 to the cost of a truck, making the final price roughly $200,000. According to Lu, that\\'s still cheaper than paying for a human driver. \"If you take $50,000 and divide it by 1 million miles, the average lifespan of a truck, that means you\\'re adding five cents per mile. But you\\'re saving the cost of a human driver, which based on average US wages is about $80,000 to $120,000 per year -- or 80 cents to $1.20 per mile. Today, the direct labor cost is about 50% of the cost of operating a truck,\" he said. Read: A robotic \\'Ironhand\\' could protect factory workers from injuriesThat doesn\\'t mean driverless trucks will take away jobs, according to Lu. By focusing on the \"middle mile,\" rather than on the pickup and delivery of the goods, TuSimple believes it can create new freight capacity without creating new demand for drivers, while at the same time protecting existing jobs. \"A UPS driver is dropping off 200 packages a day -- that\\'s not what autonomy is meant for. We believe that every driver will be able to retire as a driver, even if they enter the workforce today,\" said Lu. TuSimple\\'s autonomous fleet.Instead, TuSimple aims to take over the routes between terminals and distribution centers, which involve long stretches of monotonous driving. \"Take Phoenix to El Paso: that\\'s a six-hour drive. A person cannot make the round trip, because it\\'s more than 11 hours. But the truck can go back and forth all day, the most mundane job that drivers don\\'t want to do. That means you free up that human driver to do the first and the last mile (pickup and delivery).They get to work a full day, which is a more efficient use of their time, and they get to go home at night to their family,\" said Lu.No distractions Although Lu says that the reliability of both the software and the hardware still needs to be increased, TuSimple is planning its first fully autonomous tests, without a human safety driver in the cabin at all, before the end of the year. The results of such tests will indicate whether the company can meet its goal to launch its own trucks by 2024. Lu says that 7,000 have been reserved in the US alone. Photos: The robots running our warehouses Photos: The robots running our warehousesRobots are an increasingly familiar presence in warehouses. At the south-east London warehouse run by British online supermarket Ocado, 3,000 robots fulfill shopping orders. When an order is sent to the warehouse, the bots spring to life and head towards the container they require. Scroll through to see more robots that are revolutionizing warehouses.Hide Caption 1 of 8 Photos: The robots running our warehousesIn response to the coronavirus pandemic, MIT collaborated with Ava Robotics and the Greater Boston Food Bank to design a robot that can use UV light to sanitize the floor of a 4,000-square foot warehouse in just 30 minutes. Hide Caption 2 of 8 Photos: The robots running our warehousesSeven-foot \"Model-T\" robots produced by Japanese startup Telexistence have been stacking shelves in two of Tokyo\\'s largest convenience store franchises. Featuring cameras, microphones and sensors, the Model-T uses three \"fingers\" to stock items such as bottled drinks, cans and rice bowls. The robot is controlled by shop staff remotely.Hide Caption 3 of 8 Photos: The robots running our warehousesUS company Boston Dynamics has become known for its advanced work robots. \"Handle\" is made for the warehouse and equipped with an on-board vision system. It can lift boxes weighing over 30 pounds. Hide Caption 4 of 8 Photos: The robots running our warehousesStretch is the latest robot from Boston Dynamics and can work in warehouses and distribution centers. Designed to keep human workers out of harm\\'s way, Stretch\\'s tentacle-like grippers mean it can manipulate boxes. Hide Caption 5 of 8 Photos: The robots running our warehousesAlthough not specifically designed for warehouses, Boston Dynamics\\' dog-like robot \"Spot\" can lift objects, pick itself up after a fall, open and walk through doors, and even remind people to practice social distancing. Hide Caption 6 of 8 Photos: The robots running our warehousesThis robot is used to plant seeds and check plants at the \"Nordic Harvest\" vertical farm  based in Taastrup, Denmark. The indoor farm is one of the biggest in Europe.Hide Caption 7 of 8 Photos: The robots running our warehousesRobots sort packages at a warehouse run by JD.com -- one of China\\'s largest e-commerce firms, in Wuhan, China, ahead of the annual Singles Day online shopping bonanza, in 2019.Hide Caption 8 of 8 TuSimple has prominent competitors, such as Google spinoff Waymo and Uber-backed Aurora, but those are working on a wider range of self-driving vehicles, including passenger cars. TuSimple is working exclusively on driverless trucks, like US companies Plus and Embark. Grayson Brulte, an autonomy expert at consulting firm Brulte & Co., believes TuSimple is on the right track. \"The biggest competitive advantage that TuSimple has over its competitors is that their technology was purpose-built for trucking. They\\'re not trying to port an autonomy system built for passenger vehicles in dense urban environments to trucking or to build a virtual driver which can both drive passenger vehicles and class-8 trucks. These are different skills and different systems altogether,\" he said. Removing the human element on long trucking routes has other benefits. The company says its trucks react 15 times faster than human drivers, and can see farther down the road, even at night. \"In the US every year there are about 5,000 fatalities involving trucks, and most are due to human error,\" said Lu. \"The truck doesn\\'t get tired, doesn\\'t watch a movie or look at a phone. It doesn\\'t get distracted.\" '"
            ],
            "application/vnd.google.colaboratory.intrinsic+json": {
              "type": "string"
            }
          },
          "metadata": {},
          "execution_count": 11
        }
      ]
    },
    {
      "cell_type": "markdown",
      "source": [
        "# Data Cleaning"
      ],
      "metadata": {
        "id": "NQib9xDX-53W"
      }
    },
    {
      "cell_type": "markdown",
      "source": [
        "##Lower Case"
      ],
      "metadata": {
        "id": "nIWfGrS3wpCy"
      }
    },
    {
      "cell_type": "code",
      "source": [
        "#Modifying articles to all lowercase\n",
        "for a in range(len(articleText)) :\n",
        "  articleText[a] = articleText[a].lower()"
      ],
      "metadata": {
        "id": "lZzSjLKq_ADE"
      },
      "execution_count": null,
      "outputs": []
    },
    {
      "cell_type": "code",
      "source": [
        "articleText"
      ],
      "metadata": {
        "colab": {
          "base_uri": "https://localhost:8080/"
        },
        "id": "ZO5cV5MhAWhA",
        "outputId": "8f2dee57-c6e6-446e-f774-dfff839084ff"
      },
      "execution_count": null,
      "outputs": [
        {
          "output_type": "execute_result",
          "data": {
            "text/plain": [
              "0        (cnn)right now, there's a shortage of truck d...\n",
              "1        (cnn)working in a factory or warehouse can me...\n",
              "2        (cnn)in a hong kong warehouse, a swarm of aut...\n",
              "3       new york (cnn business)for many years, the wor...\n",
              "4       the european union formally approved on tuesda...\n",
              "                              ...                        \n",
              "4071     (reuters)the australian open's covid-19 vacci...\n",
              "4072     (cnn)four golfers scheduled to play in the so...\n",
              "4073     (cnn)long-time international olympic committe...\n",
              "4074    a norwegian technology company has found a way...\n",
              "4075    this story was excerpted from the november 23 ...\n",
              "Name: Article text, Length: 4076, dtype: object"
            ]
          },
          "metadata": {},
          "execution_count": 13
        }
      ]
    },
    {
      "cell_type": "markdown",
      "source": [
        "##Removing news source"
      ],
      "metadata": {
        "id": "6X9pOk3hkZ3F"
      }
    },
    {
      "cell_type": "code",
      "source": [
        "#Removing news source prefix from articles\n",
        "for a in range(len(articleText)):\n",
        "  articleText[a] = articleText[a].replace(articleText[a], re.sub(\"\\(.*?\\)\", \"\", articleText[a]))"
      ],
      "metadata": {
        "id": "F2y2eM2wSJv1"
      },
      "execution_count": null,
      "outputs": []
    },
    {
      "cell_type": "code",
      "source": [
        "articleText"
      ],
      "metadata": {
        "colab": {
          "base_uri": "https://localhost:8080/"
        },
        "id": "E-gbHTJDSahy",
        "outputId": "78ead0e8-8fdc-48dc-f3db-e98d9431afb7"
      },
      "execution_count": null,
      "outputs": [
        {
          "output_type": "execute_result",
          "data": {
            "text/plain": [
              "0        right now, there's a shortage of truck driver...\n",
              "1        working in a factory or warehouse can mean do...\n",
              "2        in a hong kong warehouse, a swarm of autonomo...\n",
              "3       new york for many years, the world's most popu...\n",
              "4       the european union formally approved on tuesda...\n",
              "                              ...                        \n",
              "4071     the australian open's covid-19 vaccine mandat...\n",
              "4072     four golfers scheduled to play in the south a...\n",
              "4073     long-time international olympic committee  me...\n",
              "4074    a norwegian technology company has found a way...\n",
              "4075    this story was excerpted from the november 23 ...\n",
              "Name: Article text, Length: 4076, dtype: object"
            ]
          },
          "metadata": {},
          "execution_count": 15
        }
      ]
    },
    {
      "cell_type": "code",
      "source": [
        "articleText[0]"
      ],
      "metadata": {
        "colab": {
          "base_uri": "https://localhost:8080/"
        },
        "id": "5TRLItIc7n2R",
        "outputId": "23e86811-e29c-44bc-cfab-72d1a75d5626"
      },
      "execution_count": null,
      "outputs": [
        {
          "output_type": "execute_result",
          "data": {
            "text/plain": [
              "' right now, there\\'s a shortage of truck drivers in the us and worldwide, exacerbated by the e-commerce boom brought on by the pandemic. one solution to the problem is autonomous trucks, and several companies are in a race to be the first to launch one. among them is san diego-based tusimple.founded in 2015, tusimple has completed about 2 million miles of road tests with its 70 prototype trucks across the us, china and europe. although these are simply commercially available trucks retrofitted with its technology, tusimple has deals in place with two of the world\\'s largest truck manufacturers -- navistar in the us and traton, volkswagen\\'s trucking business, in europe -- to design and build fully autonomous models, which it hopes to launch by 2024. photos: the yara birkeland is what its builders call the world\\'s first zero-emission, autonomous cargo ship. the ship is scheduled to make its first journey between two norwegian towns before the end of the year. click through to see more forms of transport set to transform the future.hide caption 1 of 13 photos: pictured here as a rendering, oceanbird is a wind-powered transatlantic car carrier that cuts carbon emissions by 90%, compared to a standard car carrier.hide caption 2 of 13 photos: it\\'s not just maritime ships that are going green. cities around the world are adopting electric ferries. norwegian startup zeabuz hopes its self-driving electric ferry  will help revive urban waterways.hide caption 3 of 13 photos: in china, a new maglev high-speed train rolls off the production line in qingdao, east china\\'s shandong province, on july 20. it has a top speed of 600 km per hour -- currently the fastest ground vehicle available globally. hide caption 4 of 13 photos: reaching speeds of up to 1,000 kilometers  per hour, hyperloop could be a sustainable replacement to short-haul flights. dutch company hardt  started work on its hyperloop test facility in europe, anticipated to open in 2022.hide caption 5 of 13 photos: hyperloop is like a bullet train, without tracks and rails. floating pods are propelled through a low-pressure steel tube using magnetic levitation. virgin has been running tests with passengers on its xp-2 vehicle, pictured here.hide caption 6 of 13 photos: low carbon travel isn\\'t just about switching to sustainable fuel sources -- it\\'s also about redesigning the transport itself. a \"flying-v\" plane designed by delft\\'s university of technology in the netherlands and dutch airline klm can cut fuel consumption by 20%. ultimately, researchers hope to switch out the kerosene with a sustainable fuel source, like liquid hydrogen.hide caption 7 of 13 photos: hydrogen aviation could provide a sustainable solution for short and medium-haul flights. in september, airbus unveiled plans for three hydrogen-powered, zero-emission aircraft which can carry 100 to 200 passengers. it hopes to launch the first zeroe aircraft in 2035.hide caption 8 of 13 photos: in december 2019, canadian airline harbour air flew the world\\'s first all-electric, zero-emission commercial aircraft. the six-seater seaplane was retrofitted with magnix\\'s magni500 all-electric motor. harbour air -- which carries half a million passengers annually -- hopes to become the world\\'s first all-electric airline. hide caption 9 of 13 photos: in the case of electric bikes, the future is now: one retailer reported the sale of e-bikes and e-scooters had increased 230% this year. e-bikes give the user a boost to their pedaling, allowing them to go further with less effort. e-bikes are now even available on ride-share apps, like uber.hide caption 10 of 13 photos: while sleeper trains or buses might be the way most of us get some shut-eye on overnight travel, this rendering of a self-driving hotel suite from toronto-based designer steve lee of aprilli design studio might offer a plush alternative in the future.hide caption 11 of 13 photos: in the uae, these futuristic-looking pods are undergoing testing on a 400-meter line in sharjah, which borders dubai. belarus-based usky transport says its pods can help cities solve traffic problems.hide caption 12 of 13 photos: the coradia ilint by french rail transport company alstom is the world\\'s first hydrogen-powered passenger train. it began testing in germany in 2018, and in september 2020 entered regular service in austria.hide caption 13 of 13no sleeptusimple\\'s latest road test involved hauling fresh produce 951 miles, from nogales, arizona to oklahoma city. the pickup and the dropoff were handled by a human driver, but for the bulk of the route -- from tucson to dallas -- the truck drove itself. read more\"today, because the system is not fully ready, we have a safety driver and a safety engineer on board at all times when we\\'re testing, but we drove in full autonomy: the driver wasn\\'t touching the wheel,\" said cheng lu, tusimple\\'s president and ceo. the journey was completed in 14 hours versus the usual 24 with a human driver, mostly because a truck doesn\\'t need to sleep. \"in the us, a driver can only work 11 hours a day. we simply had a handoff when our first pair of drivers had to stop because they reached their 11 hours of operation,\" said lu. that, of course, negates the advantage of an autonomous system, so the idea is that once tusimple\\'s trucks hit the market, there will be no need to have anyone onboard. picking up the watermelons still required the human touch.unlike self-driving cars, which are a still a way from being commercially available, tusimple trucks won\\'t be required to operate in bustling city traffic, but only on stretches of highway that have been thoroughly mapped via the company\\'s own software. \"we collect data from the roads, and we create this very detailed, high definition map of each route. that adds another layer of safety for the vehicles,\" said lu. as a result, tusimple\\'s trucks will only be able to self-drive along these pre-mapped trade corridors, which lu calls \"virtual railroads,\" and nowhere else. this swarm of robots gets smarter the more it worksaccording to the company, in the us 80% of goods travel through just 10% of the nation\\'s trade corridors, so even selective mapping allows for capturing a large portion of the business. tusimple is currently mapping routes between arizona and texas, and plans to have mapped routes across the nation by 2024. its plans are dependent on state legislation, however, because currently some states do not allow for testing of autonomous trucks on public roads. happier drivers?the technology will add about $50,000 to the cost of a truck, making the final price roughly $200,000. according to lu, that\\'s still cheaper than paying for a human driver. \"if you take $50,000 and divide it by 1 million miles, the average lifespan of a truck, that means you\\'re adding five cents per mile. but you\\'re saving the cost of a human driver, which based on average us wages is about $80,000 to $120,000 per year -- or 80 cents to $1.20 per mile. today, the direct labor cost is about 50% of the cost of operating a truck,\" he said. read: a robotic \\'ironhand\\' could protect factory workers from injuriesthat doesn\\'t mean driverless trucks will take away jobs, according to lu. by focusing on the \"middle mile,\" rather than on the pickup and delivery of the goods, tusimple believes it can create new freight capacity without creating new demand for drivers, while at the same time protecting existing jobs. \"a ups driver is dropping off 200 packages a day -- that\\'s not what autonomy is meant for. we believe that every driver will be able to retire as a driver, even if they enter the workforce today,\" said lu. tusimple\\'s autonomous fleet.instead, tusimple aims to take over the routes between terminals and distribution centers, which involve long stretches of monotonous driving. \"take phoenix to el paso: that\\'s a six-hour drive. a person cannot make the round trip, because it\\'s more than 11 hours. but the truck can go back and forth all day, the most mundane job that drivers don\\'t want to do. that means you free up that human driver to do the first and the last mile .they get to work a full day, which is a more efficient use of their time, and they get to go home at night to their family,\" said lu.no distractions although lu says that the reliability of both the software and the hardware still needs to be increased, tusimple is planning its first fully autonomous tests, without a human safety driver in the cabin at all, before the end of the year. the results of such tests will indicate whether the company can meet its goal to launch its own trucks by 2024. lu says that 7,000 have been reserved in the us alone. photos: the robots running our warehouses photos: the robots running our warehousesrobots are an increasingly familiar presence in warehouses. at the south-east london warehouse run by british online supermarket ocado, 3,000 robots fulfill shopping orders. when an order is sent to the warehouse, the bots spring to life and head towards the container they require. scroll through to see more robots that are revolutionizing warehouses.hide caption 1 of 8 photos: the robots running our warehousesin response to the coronavirus pandemic, mit collaborated with ava robotics and the greater boston food bank to design a robot that can use uv light to sanitize the floor of a 4,000-square foot warehouse in just 30 minutes. hide caption 2 of 8 photos: the robots running our warehousesseven-foot \"model-t\" robots produced by japanese startup telexistence have been stacking shelves in two of tokyo\\'s largest convenience store franchises. featuring cameras, microphones and sensors, the model-t uses three \"fingers\" to stock items such as bottled drinks, cans and rice bowls. the robot is controlled by shop staff remotely.hide caption 3 of 8 photos: the robots running our warehousesus company boston dynamics has become known for its advanced work robots. \"handle\" is made for the warehouse and equipped with an on-board vision system. it can lift boxes weighing over 30 pounds. hide caption 4 of 8 photos: the robots running our warehousesstretch is the latest robot from boston dynamics and can work in warehouses and distribution centers. designed to keep human workers out of harm\\'s way, stretch\\'s tentacle-like grippers mean it can manipulate boxes. hide caption 5 of 8 photos: the robots running our warehousesalthough not specifically designed for warehouses, boston dynamics\\' dog-like robot \"spot\" can lift objects, pick itself up after a fall, open and walk through doors, and even remind people to practice social distancing. hide caption 6 of 8 photos: the robots running our warehousesthis robot is used to plant seeds and check plants at the \"nordic harvest\" vertical farm  based in taastrup, denmark. the indoor farm is one of the biggest in europe.hide caption 7 of 8 photos: the robots running our warehousesrobots sort packages at a warehouse run by jd.com -- one of china\\'s largest e-commerce firms, in wuhan, china, ahead of the annual singles day online shopping bonanza, in 2019.hide caption 8 of 8 tusimple has prominent competitors, such as google spinoff waymo and uber-backed aurora, but those are working on a wider range of self-driving vehicles, including passenger cars. tusimple is working exclusively on driverless trucks, like us companies plus and embark. grayson brulte, an autonomy expert at consulting firm brulte & co., believes tusimple is on the right track. \"the biggest competitive advantage that tusimple has over its competitors is that their technology was purpose-built for trucking. they\\'re not trying to port an autonomy system built for passenger vehicles in dense urban environments to trucking or to build a virtual driver which can both drive passenger vehicles and class-8 trucks. these are different skills and different systems altogether,\" he said. removing the human element on long trucking routes has other benefits. the company says its trucks react 15 times faster than human drivers, and can see farther down the road, even at night. \"in the us every year there are about 5,000 fatalities involving trucks, and most are due to human error,\" said lu. \"the truck doesn\\'t get tired, doesn\\'t watch a movie or look at a phone. it doesn\\'t get distracted.\" '"
            ],
            "application/vnd.google.colaboratory.intrinsic+json": {
              "type": "string"
            }
          },
          "metadata": {},
          "execution_count": 16
        }
      ]
    },
    {
      "cell_type": "markdown",
      "source": [
        "##Removing symbols"
      ],
      "metadata": {
        "id": "Ql_UF6_ukjRx"
      }
    },
    {
      "cell_type": "code",
      "source": [
        "#for a in range(len(articleText)):\n",
        "  #articleText[a] = articleText[a].replace(articleText[a], re.sub(\"[^a-zA-Z0-9_\\s]\", \"\", articleText[a]))"
      ],
      "metadata": {
        "id": "tF-9977SjO4k"
      },
      "execution_count": null,
      "outputs": []
    },
    {
      "cell_type": "code",
      "source": [
        "articleText"
      ],
      "metadata": {
        "colab": {
          "base_uri": "https://localhost:8080/"
        },
        "id": "1yvcxebx5rKa",
        "outputId": "8039cb2d-f798-4059-e5a5-71dad7953768"
      },
      "execution_count": null,
      "outputs": [
        {
          "output_type": "execute_result",
          "data": {
            "text/plain": [
              "0        right now, there's a shortage of truck driver...\n",
              "1        working in a factory or warehouse can mean do...\n",
              "2        in a hong kong warehouse, a swarm of autonomo...\n",
              "3       new york for many years, the world's most popu...\n",
              "4       the european union formally approved on tuesda...\n",
              "                              ...                        \n",
              "4071     the australian open's covid-19 vaccine mandat...\n",
              "4072     four golfers scheduled to play in the south a...\n",
              "4073     long-time international olympic committee  me...\n",
              "4074    a norwegian technology company has found a way...\n",
              "4075    this story was excerpted from the november 23 ...\n",
              "Name: Article text, Length: 4076, dtype: object"
            ]
          },
          "metadata": {},
          "execution_count": 18
        }
      ]
    },
    {
      "cell_type": "markdown",
      "source": [
        "#Text Preprocessing"
      ],
      "metadata": {
        "id": "DEHyk09OdJzA"
      }
    },
    {
      "cell_type": "markdown",
      "source": [
        "Stemming and Stopwords removal"
      ],
      "metadata": {
        "id": "UzALjJV8gRO5"
      }
    },
    {
      "cell_type": "code",
      "source": [
        "def text_preprocessing(sentences: list):\n",
        "    \"\"\"\n",
        "    Pre processing text to remove unnecessary words.\n",
        "    \"\"\"\n",
        "    # print('Preprocessing text')\n",
        "\n",
        "    stop_words = set(stopwords.words('english'))\n",
        "\n",
        "    clean_words = None\n",
        "    for sent in sentences:\n",
        "        words = word_tokenize(sent)\n",
        "        words = [ps.stem(word.lower()) for word in words if word.isalnum()]\n",
        "        clean_words = [word for word in words if word not in stop_words]\n",
        "\n",
        "    return clean_words\n"
      ],
      "metadata": {
        "id": "Z-7ToapN0QXD"
      },
      "execution_count": null,
      "outputs": []
    },
    {
      "cell_type": "markdown",
      "source": [
        "#Process"
      ],
      "metadata": {
        "id": "3QvAt4K5dO-H"
      }
    },
    {
      "cell_type": "code",
      "source": [
        "def create_tf_matrix(sentences: list) -> dict:\n",
        "    \"\"\"\n",
        "    Here document refers to a sentence.\n",
        "    TF(t) = (Number of times the term t appears in a document) / (Total number of terms in the document)\n",
        "    \"\"\"\n",
        "    # print('Creating tf matrix.')\n",
        "\n",
        "    tf_matrix = {}\n",
        "\n",
        "    for sentence in sentences:\n",
        "        tf_table = {}\n",
        "\n",
        "        clean_words = text_preprocessing([sentence])\n",
        "        words_count = len(word_tokenize(sentence))\n",
        "\n",
        "        # Determining frequency of words in the sentence\n",
        "        word_freq = {}\n",
        "        for word in clean_words:\n",
        "            word_freq[word] = (word_freq[word] + 1) if word in word_freq else 1\n",
        "\n",
        "        # Calculating relative tf of the words in the sentence\n",
        "        for word, count in word_freq.items():\n",
        "            tf_table[word] = count / words_count\n",
        "\n",
        "        tf_matrix[sentence[:15]] = tf_table\n",
        "\n",
        "    return tf_matrix"
      ],
      "metadata": {
        "id": "tISv7qAi0RJy"
      },
      "execution_count": null,
      "outputs": []
    },
    {
      "cell_type": "code",
      "source": [
        "def create_idf_matrix(sentences: list) -> dict:\n",
        "    \"\"\"\n",
        "    Inverse Document Frequency.\n",
        "    IDF(t) = log_e(Total number of documents / Number of documents with term t in it)\n",
        "    \"\"\"\n",
        "    # print('Creating idf matrix.')\n",
        "\n",
        "    idf_matrix = {}\n",
        "    documents_count = len(sentences)\n",
        "    sentence_word_table = {}\n",
        "\n",
        "    # Getting words in the sentence\n",
        "    for sentence in sentences:\n",
        "        clean_words = text_preprocessing([sentence])\n",
        "        sentence_word_table[sentence[:15]] = clean_words\n",
        "\n",
        "    # Determining word count table with the count of sentences which contains the word.\n",
        "    word_in_docs = {}\n",
        "    for sent, words in sentence_word_table.items():\n",
        "        for word in words:\n",
        "            word_in_docs[word] = (word_in_docs[word] + 1) if word in word_in_docs else 1\n",
        "\n",
        "    # Determining idf of the words in the sentence.\n",
        "    for sent, words in sentence_word_table.items():\n",
        "        idf_table = {}\n",
        "        for word in words:\n",
        "            idf_table[word] = math.log10(documents_count / float(word_in_docs[word]))\n",
        "\n",
        "        idf_matrix[sent] = idf_table\n",
        "\n",
        "    return idf_matrix"
      ],
      "metadata": {
        "id": "MnVR-q7s0RNM"
      },
      "execution_count": null,
      "outputs": []
    },
    {
      "cell_type": "code",
      "source": [
        "def create_tf_idf_matrix(tf_matrix, idf_matrix) -> dict:\n",
        "    \"\"\"\n",
        "    Create a tf-idf matrix which is multiplication of tf * idf individual words\n",
        "    \"\"\"\n",
        "    # print('Calculating tf-idf of sentences.')\n",
        "\n",
        "    tf_idf_matrix = {}\n",
        "\n",
        "    for (sent1, f_table1), (sent2, f_table2) in zip(tf_matrix.items(), idf_matrix.items()):\n",
        "        tf_idf_table = {}\n",
        "\n",
        "        for (word1, value1), (word2, value2) in zip(f_table1.items(), f_table2.items()):\n",
        "            tf_idf_table[word1] = float(value1 * value2)\n",
        "\n",
        "        tf_idf_matrix[sent1] = tf_idf_table\n",
        "\n",
        "    return tf_idf_matrix"
      ],
      "metadata": {
        "id": "hbJFd0ng0dox"
      },
      "execution_count": null,
      "outputs": []
    },
    {
      "cell_type": "code",
      "source": [
        "def create_sentence_score_table(tf_idf_matrix) -> dict:\n",
        "    \"\"\"\n",
        "    Determining average score of words of the sentence with its words tf-idf value.\n",
        "    \"\"\"\n",
        "    # print('Creating sentence score table.')\n",
        "\n",
        "    sentence_value = {}\n",
        "\n",
        "    for sent, f_table in tf_idf_matrix.items():\n",
        "        total_score_per_sentence = 0\n",
        "        count_words_in_sentence = len(f_table)\n",
        "        for word, score in f_table.items():\n",
        "            total_score_per_sentence += score\n",
        "\n",
        "        smoothing = 1\n",
        "        sentence_value[sent] = (total_score_per_sentence + smoothing) / (count_words_in_sentence + smoothing)\n",
        "\n",
        "    return sentence_value"
      ],
      "metadata": {
        "id": "9Nbn3waf0hQ_"
      },
      "execution_count": null,
      "outputs": []
    },
    {
      "cell_type": "code",
      "source": [
        "def find_average_score(sentence_value):\n",
        "    \"\"\"\n",
        "    Calculate average value of a sentence form the sentence score table.\n",
        "    \"\"\"\n",
        "    # print('Finding average score')\n",
        "\n",
        "    sum = 0\n",
        "    for val in sentence_value:\n",
        "        sum += sentence_value[val]\n",
        "\n",
        "    average = sum / len(sentence_value)\n",
        "\n",
        "    return average"
      ],
      "metadata": {
        "id": "VXIgKvGs0hBB"
      },
      "execution_count": null,
      "outputs": []
    },
    {
      "cell_type": "code",
      "source": [
        "def generate_summary(sentences, sentence_value, threshold):\n",
        "    \"\"\"\n",
        "    Generate a sentence for sentence score greater than average.\n",
        "    \"\"\"\n",
        "    # print('Generating summary')\n",
        "\n",
        "    sentence_count = 0\n",
        "    summary = ''\n",
        "\n",
        "    for sentence in sentences:\n",
        "        if sentence[:15] in sentence_value and sentence_value[sentence[:15]] >= threshold:\n",
        "            summary += sentence + \" \"\n",
        "            sentence_count += 1\n",
        "\n",
        "    return summary"
      ],
      "metadata": {
        "id": "IN40s0d50pIn"
      },
      "execution_count": null,
      "outputs": []
    },
    {
      "cell_type": "code",
      "source": [
        "text = articleText[0] #Taking a sample article from the corpus\n",
        "\n",
        "sentences = sent_tokenize(text) #Tokenizing the article into sentences to be used as documents for TF-IDF\n",
        "print('Sentences', sentences)\n",
        "\n",
        "tf_matrix = create_tf_matrix(sentences) #Finding the TF matrix of the article\n",
        "print('TF matrix', tf_matrix)\n",
        "\n",
        "idf_matrix = create_idf_matrix(sentences) #Finding the IDF matrix of the article\n",
        "print('IDF matrix',idf_matrix)\n",
        "\n",
        "tf_idf_matrix = create_tf_idf_matrix(tf_matrix, idf_matrix) #Finding the TF-IDF matrix of the article\n",
        "print('TF-IDF matrix', tf_idf_matrix)\n",
        "# print('First document tfidf',tf_idf_matrix[list(tf_idf_matrix.keys())[0]])\n",
        "\n",
        "sentence_value = create_sentence_score_table(tf_idf_matrix) #Calculating the TF-IDF score of each sentences\n",
        "print('Sentence Scores', sentence_value)\n",
        "\n",
        "threshold = find_average_score(sentence_value) #Finding the threshold based on average score of the sentences\n",
        "print('Threshold', threshold)\n",
        "\n",
        "summary = generate_summary(sentences, sentence_value, threshold) #Generate the summary\n",
        "\n",
        "print('\\nOriginal document\\n',text,end='\\n'*2)\n",
        "print('Summary\\n', summary)\n",
        "\n",
        "print()\n",
        "print(f'Original {len(sent_tokenize(text))} sentences, Summarized {len(sent_tokenize(summary))} sentences')"
      ],
      "metadata": {
        "id": "rgDzDQ5d0r21",
        "colab": {
          "base_uri": "https://localhost:8080/"
        },
        "outputId": "c5538881-b7f3-418f-8ada-cdc25b158f0f"
      },
      "execution_count": null,
      "outputs": [
        {
          "output_type": "stream",
          "name": "stdout",
          "text": [
            "Sentences [\" right now, there's a shortage of truck drivers in the us and worldwide, exacerbated by the e-commerce boom brought on by the pandemic.\", 'one solution to the problem is autonomous trucks, and several companies are in a race to be the first to launch one.', 'among them is san diego-based tusimple.founded in 2015, tusimple has completed about 2 million miles of road tests with its 70 prototype trucks across the us, china and europe.', \"although these are simply commercially available trucks retrofitted with its technology, tusimple has deals in place with two of the world's largest truck manufacturers -- navistar in the us and traton, volkswagen's trucking business, in europe -- to design and build fully autonomous models, which it hopes to launch by 2024. photos: the yara birkeland is what its builders call the world's first zero-emission, autonomous cargo ship.\", 'the ship is scheduled to make its first journey between two norwegian towns before the end of the year.', \"click through to see more forms of transport set to transform the future.hide caption 1 of 13 photos: pictured here as a rendering, oceanbird is a wind-powered transatlantic car carrier that cuts carbon emissions by 90%, compared to a standard car carrier.hide caption 2 of 13 photos: it's not just maritime ships that are going green.\", 'cities around the world are adopting electric ferries.', \"norwegian startup zeabuz hopes its self-driving electric ferry  will help revive urban waterways.hide caption 3 of 13 photos: in china, a new maglev high-speed train rolls off the production line in qingdao, east china's shandong province, on july 20. it has a top speed of 600 km per hour -- currently the fastest ground vehicle available globally.\", 'hide caption 4 of 13 photos: reaching speeds of up to 1,000 kilometers  per hour, hyperloop could be a sustainable replacement to short-haul flights.', 'dutch company hardt  started work on its hyperloop test facility in europe, anticipated to open in 2022.hide caption 5 of 13 photos: hyperloop is like a bullet train, without tracks and rails.', 'floating pods are propelled through a low-pressure steel tube using magnetic levitation.', \"virgin has been running tests with passengers on its xp-2 vehicle, pictured here.hide caption 6 of 13 photos: low carbon travel isn't just about switching to sustainable fuel sources -- it's also about redesigning the transport itself.\", 'a \"flying-v\" plane designed by delft\\'s university of technology in the netherlands and dutch airline klm can cut fuel consumption by 20%.', 'ultimately, researchers hope to switch out the kerosene with a sustainable fuel source, like liquid hydrogen.hide caption 7 of 13 photos: hydrogen aviation could provide a sustainable solution for short and medium-haul flights.', 'in september, airbus unveiled plans for three hydrogen-powered, zero-emission aircraft which can carry 100 to 200 passengers.', \"it hopes to launch the first zeroe aircraft in 2035.hide caption 8 of 13 photos: in december 2019, canadian airline harbour air flew the world's first all-electric, zero-emission commercial aircraft.\", \"the six-seater seaplane was retrofitted with magnix's magni500 all-electric motor.\", \"harbour air -- which carries half a million passengers annually -- hopes to become the world's first all-electric airline.\", 'hide caption 9 of 13 photos: in the case of electric bikes, the future is now: one retailer reported the sale of e-bikes and e-scooters had increased 230% this year.', 'e-bikes give the user a boost to their pedaling, allowing them to go further with less effort.', 'e-bikes are now even available on ride-share apps, like uber.hide caption 10 of 13 photos: while sleeper trains or buses might be the way most of us get some shut-eye on overnight travel, this rendering of a self-driving hotel suite from toronto-based designer steve lee of aprilli design studio might offer a plush alternative in the future.hide caption 11 of 13 photos: in the uae, these futuristic-looking pods are undergoing testing on a 400-meter line in sharjah, which borders dubai.', \"belarus-based usky transport says its pods can help cities solve traffic problems.hide caption 12 of 13 photos: the coradia ilint by french rail transport company alstom is the world's first hydrogen-powered passenger train.\", \"it began testing in germany in 2018, and in september 2020 entered regular service in austria.hide caption 13 of 13no sleeptusimple's latest road test involved hauling fresh produce 951 miles, from nogales, arizona to oklahoma city.\", 'the pickup and the dropoff were handled by a human driver, but for the bulk of the route -- from tucson to dallas -- the truck drove itself.', 'read more\"today, because the system is not fully ready, we have a safety driver and a safety engineer on board at all times when we\\'re testing, but we drove in full autonomy: the driver wasn\\'t touching the wheel,\" said cheng lu, tusimple\\'s president and ceo.', \"the journey was completed in 14 hours versus the usual 24 with a human driver, mostly because a truck doesn't need to sleep.\", '\"in the us, a driver can only work 11 hours a day.', 'we simply had a handoff when our first pair of drivers had to stop because they reached their 11 hours of operation,\" said lu.', \"that, of course, negates the advantage of an autonomous system, so the idea is that once tusimple's trucks hit the market, there will be no need to have anyone onboard.\", \"picking up the watermelons still required the human touch.unlike self-driving cars, which are a still a way from being commercially available, tusimple trucks won't be required to operate in bustling city traffic, but only on stretches of highway that have been thoroughly mapped via the company's own software.\", '\"we collect data from the roads, and we create this very detailed, high definition map of each route.', 'that adds another layer of safety for the vehicles,\" said lu.', 'as a result, tusimple\\'s trucks will only be able to self-drive along these pre-mapped trade corridors, which lu calls \"virtual railroads,\" and nowhere else.', \"this swarm of robots gets smarter the more it worksaccording to the company, in the us 80% of goods travel through just 10% of the nation's trade corridors, so even selective mapping allows for capturing a large portion of the business.\", 'tusimple is currently mapping routes between arizona and texas, and plans to have mapped routes across the nation by 2024. its plans are dependent on state legislation, however, because currently some states do not allow for testing of autonomous trucks on public roads.', 'happier drivers?the technology will add about $50,000 to the cost of a truck, making the final price roughly $200,000.', \"according to lu, that's still cheaper than paying for a human driver.\", '\"if you take $50,000 and divide it by 1 million miles, the average lifespan of a truck, that means you\\'re adding five cents per mile.', \"but you're saving the cost of a human driver, which based on average us wages is about $80,000 to $120,000 per year -- or 80 cents to $1.20 per mile.\", 'today, the direct labor cost is about 50% of the cost of operating a truck,\" he said.', \"read: a robotic 'ironhand' could protect factory workers from injuriesthat doesn't mean driverless trucks will take away jobs, according to lu.\", 'by focusing on the \"middle mile,\" rather than on the pickup and delivery of the goods, tusimple believes it can create new freight capacity without creating new demand for drivers, while at the same time protecting existing jobs.', '\"a ups driver is dropping off 200 packages a day -- that\\'s not what autonomy is meant for.', 'we believe that every driver will be able to retire as a driver, even if they enter the workforce today,\" said lu.', \"tusimple's autonomous fleet.instead, tusimple aims to take over the routes between terminals and distribution centers, which involve long stretches of monotonous driving.\", '\"take phoenix to el paso: that\\'s a six-hour drive.', \"a person cannot make the round trip, because it's more than 11 hours.\", \"but the truck can go back and forth all day, the most mundane job that drivers don't want to do.\", 'that means you free up that human driver to do the first and the last mile .they get to work a full day, which is a more efficient use of their time, and they get to go home at night to their family,\" said lu.no distractions although lu says that the reliability of both the software and the hardware still needs to be increased, tusimple is planning its first fully autonomous tests, without a human safety driver in the cabin at all, before the end of the year.', 'the results of such tests will indicate whether the company can meet its goal to launch its own trucks by 2024. lu says that 7,000 have been reserved in the us alone.', 'photos: the robots running our warehouses photos: the robots running our warehousesrobots are an increasingly familiar presence in warehouses.', 'at the south-east london warehouse run by british online supermarket ocado, 3,000 robots fulfill shopping orders.', 'when an order is sent to the warehouse, the bots spring to life and head towards the container they require.', 'scroll through to see more robots that are revolutionizing warehouses.hide caption 1 of 8 photos: the robots running our warehousesin response to the coronavirus pandemic, mit collaborated with ava robotics and the greater boston food bank to design a robot that can use uv light to sanitize the floor of a 4,000-square foot warehouse in just 30 minutes.', 'hide caption 2 of 8 photos: the robots running our warehousesseven-foot \"model-t\" robots produced by japanese startup telexistence have been stacking shelves in two of tokyo\\'s largest convenience store franchises.', 'featuring cameras, microphones and sensors, the model-t uses three \"fingers\" to stock items such as bottled drinks, cans and rice bowls.', 'the robot is controlled by shop staff remotely.hide caption 3 of 8 photos: the robots running our warehousesus company boston dynamics has become known for its advanced work robots.', '\"handle\" is made for the warehouse and equipped with an on-board vision system.', 'it can lift boxes weighing over 30 pounds.', 'hide caption 4 of 8 photos: the robots running our warehousesstretch is the latest robot from boston dynamics and can work in warehouses and distribution centers.', \"designed to keep human workers out of harm's way, stretch's tentacle-like grippers mean it can manipulate boxes.\", 'hide caption 5 of 8 photos: the robots running our warehousesalthough not specifically designed for warehouses, boston dynamics\\' dog-like robot \"spot\" can lift objects, pick itself up after a fall, open and walk through doors, and even remind people to practice social distancing.', 'hide caption 6 of 8 photos: the robots running our warehousesthis robot is used to plant seeds and check plants at the \"nordic harvest\" vertical farm  based in taastrup, denmark.', \"the indoor farm is one of the biggest in europe.hide caption 7 of 8 photos: the robots running our warehousesrobots sort packages at a warehouse run by jd.com -- one of china's largest e-commerce firms, in wuhan, china, ahead of the annual singles day online shopping bonanza, in 2019.hide caption 8 of 8 tusimple has prominent competitors, such as google spinoff waymo and uber-backed aurora, but those are working on a wider range of self-driving vehicles, including passenger cars.\", 'tusimple is working exclusively on driverless trucks, like us companies plus and embark.', 'grayson brulte, an autonomy expert at consulting firm brulte & co., believes tusimple is on the right track.', '\"the biggest competitive advantage that tusimple has over its competitors is that their technology was purpose-built for trucking.', \"they're not trying to port an autonomy system built for passenger vehicles in dense urban environments to trucking or to build a virtual driver which can both drive passenger vehicles and class-8 trucks.\", 'these are different skills and different systems altogether,\" he said.', 'removing the human element on long trucking routes has other benefits.', 'the company says its trucks react 15 times faster than human drivers, and can see farther down the road, even at night.', '\"in the us every year there are about 5,000 fatalities involving trucks, and most are due to human error,\" said lu.', '\"the truck doesn\\'t get tired, doesn\\'t watch a movie or look at a phone.', 'it doesn\\'t get distracted.\"']\n",
            "TF matrix {' right now, the': {'right': 0.037037037037037035, 'shortag': 0.037037037037037035, 'truck': 0.037037037037037035, 'driver': 0.037037037037037035, 'us': 0.037037037037037035, 'worldwid': 0.037037037037037035, 'exacerb': 0.037037037037037035, 'boom': 0.037037037037037035, 'brought': 0.037037037037037035, 'pandem': 0.037037037037037035}, 'one solution to': {'one': 0.08333333333333333, 'solut': 0.041666666666666664, 'problem': 0.041666666666666664, 'autonom': 0.041666666666666664, 'truck': 0.041666666666666664, 'sever': 0.041666666666666664, 'compani': 0.041666666666666664, 'race': 0.041666666666666664, 'first': 0.041666666666666664, 'launch': 0.041666666666666664}, 'among them is s': {'among': 0.03125, 'san': 0.03125, '2015': 0.03125, 'tusimpl': 0.03125, 'ha': 0.03125, 'complet': 0.03125, '2': 0.03125, 'million': 0.03125, 'mile': 0.03125, 'road': 0.03125, 'test': 0.03125, '70': 0.03125, 'prototyp': 0.03125, 'truck': 0.03125, 'across': 0.03125, 'us': 0.03125, 'china': 0.03125, 'europ': 0.03125}, 'although these ': {'although': 0.012987012987012988, 'simpli': 0.012987012987012988, 'commerci': 0.012987012987012988, 'avail': 0.012987012987012988, 'truck': 0.03896103896103896, 'retrofit': 0.012987012987012988, 'technolog': 0.012987012987012988, 'tusimpl': 0.012987012987012988, 'ha': 0.012987012987012988, 'deal': 0.012987012987012988, 'place': 0.012987012987012988, 'two': 0.012987012987012988, 'world': 0.025974025974025976, 'largest': 0.012987012987012988, 'manufactur': 0.012987012987012988, 'navistar': 0.012987012987012988, 'us': 0.012987012987012988, 'traton': 0.012987012987012988, 'volkswagen': 0.012987012987012988, 'busi': 0.012987012987012988, 'europ': 0.012987012987012988, 'design': 0.012987012987012988, 'build': 0.012987012987012988, 'fulli': 0.012987012987012988, 'autonom': 0.025974025974025976, 'model': 0.012987012987012988, 'hope': 0.012987012987012988, 'launch': 0.012987012987012988, 'photo': 0.012987012987012988, 'yara': 0.012987012987012988, 'birkeland': 0.012987012987012988, 'builder': 0.012987012987012988, 'call': 0.012987012987012988, 'first': 0.012987012987012988, 'cargo': 0.012987012987012988, 'ship': 0.012987012987012988}, 'the ship is sch': {'ship': 0.05, 'schedul': 0.05, 'make': 0.05, 'first': 0.05, 'journey': 0.05, 'two': 0.05, 'norwegian': 0.05, 'town': 0.05, 'befor': 0.05, 'end': 0.05, 'year': 0.05}, 'click through t': {'click': 0.015873015873015872, 'see': 0.015873015873015872, 'form': 0.015873015873015872, 'transport': 0.015873015873015872, 'set': 0.015873015873015872, 'transform': 0.015873015873015872, 'caption': 0.031746031746031744, '1': 0.015873015873015872, '13': 0.031746031746031744, 'photo': 0.031746031746031744, 'pictur': 0.015873015873015872, 'render': 0.015873015873015872, 'oceanbird': 0.015873015873015872, 'transatlant': 0.015873015873015872, 'car': 0.031746031746031744, 'carrier': 0.015873015873015872, 'cut': 0.015873015873015872, 'carbon': 0.015873015873015872, 'emiss': 0.015873015873015872, '90': 0.015873015873015872, 'compar': 0.015873015873015872, 'standard': 0.015873015873015872, '2': 0.015873015873015872, 'maritim': 0.015873015873015872, 'ship': 0.015873015873015872, 'go': 0.015873015873015872, 'green': 0.015873015873015872}, 'cities around t': {'citi': 0.1111111111111111, 'around': 0.1111111111111111, 'world': 0.1111111111111111, 'adopt': 0.1111111111111111, 'electr': 0.1111111111111111, 'ferri': 0.1111111111111111}, 'norwegian start': {'norwegian': 0.015873015873015872, 'startup': 0.015873015873015872, 'zeabuz': 0.015873015873015872, 'hope': 0.015873015873015872, 'electr': 0.015873015873015872, 'ferri': 0.015873015873015872, 'help': 0.015873015873015872, 'reviv': 0.015873015873015872, 'urban': 0.015873015873015872, 'caption': 0.015873015873015872, '3': 0.015873015873015872, '13': 0.015873015873015872, 'photo': 0.015873015873015872, 'china': 0.031746031746031744, 'new': 0.015873015873015872, 'maglev': 0.015873015873015872, 'train': 0.015873015873015872, 'roll': 0.015873015873015872, 'product': 0.015873015873015872, 'line': 0.015873015873015872, 'qingdao': 0.015873015873015872, 'east': 0.015873015873015872, 'shandong': 0.015873015873015872, 'provinc': 0.015873015873015872, 'juli': 0.015873015873015872, 'ha': 0.015873015873015872, 'top': 0.015873015873015872, 'speed': 0.015873015873015872, '600': 0.015873015873015872, 'km': 0.015873015873015872, 'per': 0.015873015873015872, 'hour': 0.015873015873015872, 'current': 0.015873015873015872, 'fastest': 0.015873015873015872, 'ground': 0.015873015873015872, 'vehicl': 0.015873015873015872, 'avail': 0.015873015873015872, 'global': 0.015873015873015872}, 'hide caption 4 ': {'hide': 0.03571428571428571, 'caption': 0.03571428571428571, '4': 0.03571428571428571, '8': 0.03571428571428571, 'photo': 0.03571428571428571, 'robot': 0.07142857142857142, 'run': 0.03571428571428571, 'warehousesstretch': 0.03571428571428571, 'latest': 0.03571428571428571, 'boston': 0.03571428571428571, 'dynam': 0.03571428571428571, 'work': 0.03571428571428571, 'warehous': 0.03571428571428571, 'distribut': 0.03571428571428571, 'center': 0.03571428571428571}, 'dutch company h': {'dutch': 0.027777777777777776, 'compani': 0.027777777777777776, 'hardt': 0.027777777777777776, 'start': 0.027777777777777776, 'work': 0.027777777777777776, 'hyperloop': 0.05555555555555555, 'test': 0.027777777777777776, 'facil': 0.027777777777777776, 'europ': 0.027777777777777776, 'anticip': 0.027777777777777776, 'open': 0.027777777777777776, 'caption': 0.027777777777777776, '5': 0.027777777777777776, '13': 0.027777777777777776, 'photo': 0.027777777777777776, 'like': 0.027777777777777776, 'bullet': 0.027777777777777776, 'train': 0.027777777777777776, 'without': 0.027777777777777776, 'track': 0.027777777777777776, 'rail': 0.027777777777777776}, 'floating pods a': {'float': 0.07692307692307693, 'pod': 0.07692307692307693, 'propel': 0.07692307692307693, 'steel': 0.07692307692307693, 'tube': 0.07692307692307693, 'use': 0.07692307692307693, 'magnet': 0.07692307692307693, 'levit': 0.07692307692307693}, 'virgin has been': {'virgin': 0.023809523809523808, 'ha': 0.023809523809523808, 'run': 0.023809523809523808, 'test': 0.023809523809523808, 'passeng': 0.023809523809523808, 'vehicl': 0.023809523809523808, 'pictur': 0.023809523809523808, 'caption': 0.023809523809523808, '6': 0.023809523809523808, '13': 0.023809523809523808, 'photo': 0.023809523809523808, 'low': 0.023809523809523808, 'carbon': 0.023809523809523808, 'travel': 0.023809523809523808, 'switch': 0.023809523809523808, 'sustain': 0.023809523809523808, 'fuel': 0.023809523809523808, 'sourc': 0.023809523809523808, 'also': 0.023809523809523808, 'redesign': 0.023809523809523808, 'transport': 0.023809523809523808}, 'a \"flying-v\" pl': {'plane': 0.037037037037037035, 'design': 0.037037037037037035, 'delft': 0.037037037037037035, 'univers': 0.037037037037037035, 'technolog': 0.037037037037037035, 'netherland': 0.037037037037037035, 'dutch': 0.037037037037037035, 'airlin': 0.037037037037037035, 'klm': 0.037037037037037035, 'cut': 0.037037037037037035, 'fuel': 0.037037037037037035, 'consumpt': 0.037037037037037035, '20': 0.037037037037037035}, 'ultimately, res': {'ultim': 0.02702702702702703, 'research': 0.02702702702702703, 'hope': 0.02702702702702703, 'switch': 0.02702702702702703, 'kerosen': 0.02702702702702703, 'sustain': 0.05405405405405406, 'fuel': 0.02702702702702703, 'sourc': 0.02702702702702703, 'like': 0.02702702702702703, 'liquid': 0.02702702702702703, 'caption': 0.02702702702702703, '7': 0.02702702702702703, '13': 0.02702702702702703, 'photo': 0.02702702702702703, 'hydrogen': 0.02702702702702703, 'aviat': 0.02702702702702703, 'could': 0.02702702702702703, 'provid': 0.02702702702702703, 'solut': 0.02702702702702703, 'short': 0.02702702702702703, 'flight': 0.02702702702702703}, 'in september, a': {'septemb': 0.05, 'airbu': 0.05, 'unveil': 0.05, 'plan': 0.05, 'three': 0.05, 'aircraft': 0.05, 'carri': 0.05, '100': 0.05, '200': 0.05, 'passeng': 0.05}, 'it hopes to lau': {'hope': 0.02857142857142857, 'launch': 0.02857142857142857, 'first': 0.05714285714285714, 'zero': 0.02857142857142857, 'aircraft': 0.05714285714285714, 'caption': 0.02857142857142857, '8': 0.02857142857142857, '13': 0.02857142857142857, 'photo': 0.02857142857142857, 'decemb': 0.02857142857142857, '2019': 0.02857142857142857, 'canadian': 0.02857142857142857, 'airlin': 0.02857142857142857, 'harbour': 0.02857142857142857, 'air': 0.02857142857142857, 'flew': 0.02857142857142857, 'world': 0.02857142857142857, 'commerci': 0.02857142857142857}, 'the six-seater ': {'seaplan': 0.08333333333333333, 'wa': 0.08333333333333333, 'retrofit': 0.08333333333333333, 'magnix': 0.08333333333333333, 'magni500': 0.08333333333333333, 'motor': 0.08333333333333333}, 'harbour air -- ': {'harbour': 0.047619047619047616, 'air': 0.047619047619047616, 'carri': 0.047619047619047616, 'half': 0.047619047619047616, 'million': 0.047619047619047616, 'passeng': 0.047619047619047616, 'annual': 0.047619047619047616, 'hope': 0.047619047619047616, 'becom': 0.047619047619047616, 'world': 0.047619047619047616, 'first': 0.047619047619047616, 'airlin': 0.047619047619047616}, 'hide caption 9 ': {'hide': 0.02857142857142857, 'caption': 0.02857142857142857, '9': 0.02857142857142857, '13': 0.02857142857142857, 'photo': 0.02857142857142857, 'case': 0.02857142857142857, 'electr': 0.02857142857142857, 'bike': 0.02857142857142857, 'futur': 0.02857142857142857, 'one': 0.02857142857142857, 'retail': 0.02857142857142857, 'report': 0.02857142857142857, 'sale': 0.02857142857142857, 'increas': 0.02857142857142857, '230': 0.02857142857142857, 'thi': 0.02857142857142857, 'year': 0.02857142857142857}, 'e-bikes give th': {'give': 0.05263157894736842, 'user': 0.05263157894736842, 'boost': 0.05263157894736842, 'pedal': 0.05263157894736842, 'allow': 0.05263157894736842, 'go': 0.05263157894736842, 'less': 0.05263157894736842, 'effort': 0.05263157894736842}, 'e-bikes are now': {'even': 0.011494252873563218, 'avail': 0.011494252873563218, 'app': 0.011494252873563218, 'like': 0.011494252873563218, 'caption': 0.022988505747126436, '10': 0.011494252873563218, '13': 0.022988505747126436, 'photo': 0.022988505747126436, 'sleeper': 0.011494252873563218, 'train': 0.011494252873563218, 'buse': 0.011494252873563218, 'might': 0.022988505747126436, 'way': 0.011494252873563218, 'us': 0.011494252873563218, 'get': 0.011494252873563218, 'overnight': 0.011494252873563218, 'travel': 0.011494252873563218, 'thi': 0.011494252873563218, 'render': 0.011494252873563218, 'hotel': 0.011494252873563218, 'suit': 0.011494252873563218, 'design': 0.022988505747126436, 'steve': 0.011494252873563218, 'lee': 0.011494252873563218, 'aprilli': 0.011494252873563218, 'studio': 0.011494252873563218, 'offer': 0.011494252873563218, 'plush': 0.011494252873563218, 'altern': 0.011494252873563218, '11': 0.011494252873563218, 'uae': 0.011494252873563218, 'pod': 0.011494252873563218, 'undergo': 0.011494252873563218, 'test': 0.011494252873563218, 'line': 0.011494252873563218, 'sharjah': 0.011494252873563218, 'border': 0.011494252873563218, 'dubai': 0.011494252873563218}, 'belarus-based u': {'uski': 0.027777777777777776, 'transport': 0.05555555555555555, 'say': 0.027777777777777776, 'pod': 0.027777777777777776, 'help': 0.027777777777777776, 'citi': 0.027777777777777776, 'solv': 0.027777777777777776, 'traffic': 0.027777777777777776, 'caption': 0.027777777777777776, '12': 0.027777777777777776, '13': 0.027777777777777776, 'photo': 0.027777777777777776, 'coradia': 0.027777777777777776, 'ilint': 0.027777777777777776, 'french': 0.027777777777777776, 'rail': 0.027777777777777776, 'compani': 0.027777777777777776, 'alstom': 0.027777777777777776, 'world': 0.027777777777777776, 'first': 0.027777777777777776, 'passeng': 0.027777777777777776, 'train': 0.027777777777777776}, 'it began testin': {'began': 0.024390243902439025, 'test': 0.04878048780487805, 'germani': 0.024390243902439025, '2018': 0.024390243902439025, 'septemb': 0.024390243902439025, '2020': 0.024390243902439025, 'enter': 0.024390243902439025, 'regular': 0.024390243902439025, 'servic': 0.024390243902439025, 'caption': 0.024390243902439025, '13': 0.024390243902439025, '13no': 0.024390243902439025, 'sleeptusimpl': 0.024390243902439025, 'latest': 0.024390243902439025, 'road': 0.024390243902439025, 'involv': 0.024390243902439025, 'haul': 0.024390243902439025, 'fresh': 0.024390243902439025, 'produc': 0.024390243902439025, '951': 0.024390243902439025, 'mile': 0.024390243902439025, 'nogal': 0.024390243902439025, 'arizona': 0.024390243902439025, 'oklahoma': 0.024390243902439025, 'citi': 0.024390243902439025}, 'the pickup and ': {'pickup': 0.03333333333333333, 'dropoff': 0.03333333333333333, 'handl': 0.03333333333333333, 'human': 0.03333333333333333, 'driver': 0.03333333333333333, 'bulk': 0.03333333333333333, 'rout': 0.03333333333333333, 'tucson': 0.03333333333333333, 'dalla': 0.03333333333333333, 'truck': 0.03333333333333333, 'drove': 0.03333333333333333}, 'read more\"today': {'read': 0.017241379310344827, 'today': 0.017241379310344827, 'becaus': 0.017241379310344827, 'system': 0.017241379310344827, 'fulli': 0.017241379310344827, 'readi': 0.017241379310344827, 'safeti': 0.034482758620689655, 'driver': 0.034482758620689655, 'engin': 0.017241379310344827, 'board': 0.017241379310344827, 'time': 0.017241379310344827, 'test': 0.017241379310344827, 'drove': 0.017241379310344827, 'full': 0.017241379310344827, 'autonomi': 0.017241379310344827, 'wa': 0.017241379310344827, 'touch': 0.017241379310344827, 'wheel': 0.017241379310344827, 'said': 0.017241379310344827, 'cheng': 0.017241379310344827, 'lu': 0.017241379310344827, 'tusimpl': 0.017241379310344827, 'presid': 0.017241379310344827, 'ceo': 0.017241379310344827}, 'the journey was': {'journey': 0.038461538461538464, 'wa': 0.038461538461538464, 'complet': 0.038461538461538464, '14': 0.038461538461538464, 'hour': 0.038461538461538464, 'versu': 0.038461538461538464, 'usual': 0.038461538461538464, '24': 0.038461538461538464, 'human': 0.038461538461538464, 'driver': 0.038461538461538464, 'mostli': 0.038461538461538464, 'becaus': 0.038461538461538464, 'truck': 0.038461538461538464, 'doe': 0.038461538461538464, 'need': 0.038461538461538464, 'sleep': 0.038461538461538464}, '\"in the us, a d': {'us': 0.06666666666666667, 'driver': 0.06666666666666667, 'onli': 0.06666666666666667, 'work': 0.06666666666666667, '11': 0.06666666666666667, 'hour': 0.06666666666666667, 'day': 0.06666666666666667}, 'we simply had a': {'simpli': 0.037037037037037035, 'handoff': 0.037037037037037035, 'first': 0.037037037037037035, 'pair': 0.037037037037037035, 'driver': 0.037037037037037035, 'stop': 0.037037037037037035, 'becaus': 0.037037037037037035, 'reach': 0.037037037037037035, '11': 0.037037037037037035, 'hour': 0.037037037037037035, 'oper': 0.037037037037037035, 'said': 0.037037037037037035, 'lu': 0.037037037037037035}, 'that, of course': {'cours': 0.027777777777777776, 'negat': 0.027777777777777776, 'advantag': 0.027777777777777776, 'autonom': 0.027777777777777776, 'system': 0.027777777777777776, 'idea': 0.027777777777777776, 'onc': 0.027777777777777776, 'tusimpl': 0.027777777777777776, 'truck': 0.027777777777777776, 'hit': 0.027777777777777776, 'market': 0.027777777777777776, 'need': 0.027777777777777776, 'anyon': 0.027777777777777776, 'onboard': 0.027777777777777776}, 'picking up the ': {'pick': 0.018518518518518517, 'watermelon': 0.018518518518518517, 'still': 0.037037037037037035, 'requir': 0.037037037037037035, 'human': 0.018518518518518517, 'car': 0.018518518518518517, 'way': 0.018518518518518517, 'commerci': 0.018518518518518517, 'avail': 0.018518518518518517, 'tusimpl': 0.018518518518518517, 'truck': 0.018518518518518517, 'wo': 0.018518518518518517, 'oper': 0.018518518518518517, 'bustl': 0.018518518518518517, 'citi': 0.018518518518518517, 'traffic': 0.018518518518518517, 'onli': 0.018518518518518517, 'stretch': 0.018518518518518517, 'highway': 0.018518518518518517, 'thoroughli': 0.018518518518518517, 'map': 0.018518518518518517, 'via': 0.018518518518518517, 'compani': 0.018518518518518517, 'softwar': 0.018518518518518517}, '\"we collect dat': {'collect': 0.045454545454545456, 'data': 0.045454545454545456, 'road': 0.045454545454545456, 'creat': 0.045454545454545456, 'thi': 0.045454545454545456, 'veri': 0.045454545454545456, 'detail': 0.045454545454545456, 'high': 0.045454545454545456, 'definit': 0.045454545454545456, 'map': 0.045454545454545456, 'rout': 0.045454545454545456}, 'that adds anoth': {'add': 0.07142857142857142, 'anoth': 0.07142857142857142, 'layer': 0.07142857142857142, 'safeti': 0.07142857142857142, 'vehicl': 0.07142857142857142, 'said': 0.07142857142857142, 'lu': 0.07142857142857142}, 'as a result, tu': {'result': 0.03225806451612903, 'tusimpl': 0.03225806451612903, 'truck': 0.03225806451612903, 'onli': 0.03225806451612903, 'abl': 0.03225806451612903, 'along': 0.03225806451612903, 'trade': 0.03225806451612903, 'corridor': 0.03225806451612903, 'lu': 0.03225806451612903, 'call': 0.03225806451612903, 'virtual': 0.03225806451612903, 'railroad': 0.03225806451612903, 'nowher': 0.03225806451612903, 'els': 0.03225806451612903}, 'this swarm of r': {'thi': 0.02127659574468085, 'swarm': 0.02127659574468085, 'robot': 0.02127659574468085, 'get': 0.02127659574468085, 'smarter': 0.02127659574468085, 'worksaccord': 0.02127659574468085, 'compani': 0.02127659574468085, 'us': 0.02127659574468085, '80': 0.02127659574468085, 'good': 0.02127659574468085, 'travel': 0.02127659574468085, '10': 0.02127659574468085, 'nation': 0.02127659574468085, 'trade': 0.02127659574468085, 'corridor': 0.02127659574468085, 'even': 0.02127659574468085, 'select': 0.02127659574468085, 'map': 0.02127659574468085, 'allow': 0.02127659574468085, 'captur': 0.02127659574468085, 'larg': 0.02127659574468085, 'portion': 0.02127659574468085, 'busi': 0.02127659574468085}, 'tusimple is cur': {'tusimpl': 0.02127659574468085, 'current': 0.0425531914893617, 'map': 0.0425531914893617, 'rout': 0.0425531914893617, 'arizona': 0.02127659574468085, 'texa': 0.02127659574468085, 'plan': 0.0425531914893617, 'across': 0.02127659574468085, 'nation': 0.02127659574468085, 'depend': 0.02127659574468085, 'state': 0.0425531914893617, 'legisl': 0.02127659574468085, 'howev': 0.02127659574468085, 'becaus': 0.02127659574468085, 'allow': 0.02127659574468085, 'test': 0.02127659574468085, 'autonom': 0.02127659574468085, 'truck': 0.02127659574468085, 'public': 0.02127659574468085, 'road': 0.02127659574468085}, 'happier drivers': {'happier': 0.04, 'driver': 0.04, 'technolog': 0.04, 'add': 0.04, 'cost': 0.04, 'truck': 0.04, 'make': 0.04, 'final': 0.04, 'price': 0.04, 'roughli': 0.04}, 'according to lu': {'accord': 0.06666666666666667, 'lu': 0.06666666666666667, 'still': 0.06666666666666667, 'cheaper': 0.06666666666666667, 'pay': 0.06666666666666667, 'human': 0.06666666666666667, 'driver': 0.06666666666666667}, '\"if you take $5': {'take': 0.03225806451612903, 'divid': 0.03225806451612903, '1': 0.03225806451612903, 'million': 0.03225806451612903, 'mile': 0.06451612903225806, 'averag': 0.03225806451612903, 'lifespan': 0.03225806451612903, 'truck': 0.03225806451612903, 'mean': 0.03225806451612903, 'ad': 0.03225806451612903, 'five': 0.03225806451612903, 'cent': 0.03225806451612903, 'per': 0.03225806451612903}, \"but you're savi\": {'save': 0.027777777777777776, 'cost': 0.027777777777777776, 'human': 0.027777777777777776, 'driver': 0.027777777777777776, 'base': 0.027777777777777776, 'averag': 0.027777777777777776, 'us': 0.027777777777777776, 'wage': 0.027777777777777776, 'per': 0.05555555555555555, 'year': 0.027777777777777776, '80': 0.027777777777777776, 'cent': 0.027777777777777776, 'mile': 0.027777777777777776}, 'today, the dire': {'today': 0.045454545454545456, 'direct': 0.045454545454545456, 'labor': 0.045454545454545456, 'cost': 0.09090909090909091, '50': 0.045454545454545456, 'oper': 0.045454545454545456, 'truck': 0.045454545454545456, 'said': 0.045454545454545456}, 'read: a robotic': {'read': 0.038461538461538464, 'robot': 0.038461538461538464, 'could': 0.038461538461538464, 'protect': 0.038461538461538464, 'factori': 0.038461538461538464, 'worker': 0.038461538461538464, 'injuriesthat': 0.038461538461538464, 'doe': 0.038461538461538464, 'mean': 0.038461538461538464, 'driverless': 0.038461538461538464, 'truck': 0.038461538461538464, 'take': 0.038461538461538464, 'away': 0.038461538461538464, 'job': 0.038461538461538464, 'accord': 0.038461538461538464, 'lu': 0.038461538461538464}, 'by focusing on ': {'focus': 0.022727272727272728, 'middl': 0.022727272727272728, 'mile': 0.022727272727272728, 'rather': 0.022727272727272728, 'pickup': 0.022727272727272728, 'deliveri': 0.022727272727272728, 'good': 0.022727272727272728, 'tusimpl': 0.022727272727272728, 'believ': 0.022727272727272728, 'creat': 0.045454545454545456, 'new': 0.045454545454545456, 'freight': 0.022727272727272728, 'capac': 0.022727272727272728, 'without': 0.022727272727272728, 'demand': 0.022727272727272728, 'driver': 0.022727272727272728, 'time': 0.022727272727272728, 'protect': 0.022727272727272728, 'exist': 0.022727272727272728, 'job': 0.022727272727272728}, '\"a ups driver i': {'driver': 0.047619047619047616, 'drop': 0.047619047619047616, '200': 0.047619047619047616, 'packag': 0.047619047619047616, 'day': 0.047619047619047616, 'autonomi': 0.047619047619047616, 'meant': 0.047619047619047616}, 'we believe that': {'believ': 0.038461538461538464, 'everi': 0.038461538461538464, 'driver': 0.07692307692307693, 'abl': 0.038461538461538464, 'retir': 0.038461538461538464, 'even': 0.038461538461538464, 'enter': 0.038461538461538464, 'workforc': 0.038461538461538464, 'today': 0.038461538461538464, 'said': 0.038461538461538464, 'lu': 0.038461538461538464}, \"tusimple's auto\": {'tusimpl': 0.07692307692307693, 'autonom': 0.038461538461538464, 'aim': 0.038461538461538464, 'take': 0.038461538461538464, 'rout': 0.038461538461538464, 'termin': 0.038461538461538464, 'distribut': 0.038461538461538464, 'center': 0.038461538461538464, 'involv': 0.038461538461538464, 'long': 0.038461538461538464, 'stretch': 0.038461538461538464, 'monoton': 0.038461538461538464, 'drive': 0.038461538461538464}, '\"take phoenix t': {'take': 0.07692307692307693, 'phoenix': 0.07692307692307693, 'el': 0.07692307692307693, 'paso': 0.07692307692307693, 'drive': 0.07692307692307693}, 'a person cannot': {'person': 0.058823529411764705, 'make': 0.058823529411764705, 'round': 0.058823529411764705, 'trip': 0.058823529411764705, 'becaus': 0.058823529411764705, '11': 0.058823529411764705, 'hour': 0.058823529411764705}, 'but the truck c': {'truck': 0.043478260869565216, 'go': 0.043478260869565216, 'back': 0.043478260869565216, 'forth': 0.043478260869565216, 'day': 0.043478260869565216, 'mundan': 0.043478260869565216, 'job': 0.043478260869565216, 'driver': 0.043478260869565216, 'want': 0.043478260869565216}, 'that means you ': {'mean': 0.010416666666666666, 'free': 0.010416666666666666, 'human': 0.020833333333333332, 'driver': 0.020833333333333332, 'first': 0.020833333333333332, 'last': 0.010416666666666666, 'mile': 0.010416666666666666, 'get': 0.020833333333333332, 'work': 0.010416666666666666, 'full': 0.010416666666666666, 'day': 0.010416666666666666, 'effici': 0.010416666666666666, 'use': 0.010416666666666666, 'time': 0.010416666666666666, 'go': 0.010416666666666666, 'home': 0.010416666666666666, 'night': 0.010416666666666666, 'famili': 0.010416666666666666, 'said': 0.010416666666666666, 'distract': 0.010416666666666666, 'although': 0.010416666666666666, 'lu': 0.010416666666666666, 'say': 0.010416666666666666, 'reliabl': 0.010416666666666666, 'softwar': 0.010416666666666666, 'hardwar': 0.010416666666666666, 'still': 0.010416666666666666, 'need': 0.010416666666666666, 'increas': 0.010416666666666666, 'tusimpl': 0.010416666666666666, 'plan': 0.010416666666666666, 'fulli': 0.010416666666666666, 'autonom': 0.010416666666666666, 'test': 0.010416666666666666, 'without': 0.010416666666666666, 'safeti': 0.010416666666666666, 'cabin': 0.010416666666666666, 'befor': 0.010416666666666666, 'end': 0.010416666666666666, 'year': 0.010416666666666666}, 'the results of ': {'result': 0.030303030303030304, 'test': 0.030303030303030304, 'indic': 0.030303030303030304, 'whether': 0.030303030303030304, 'compani': 0.030303030303030304, 'meet': 0.030303030303030304, 'goal': 0.030303030303030304, 'launch': 0.030303030303030304, 'truck': 0.030303030303030304, 'lu': 0.030303030303030304, 'say': 0.030303030303030304, 'reserv': 0.030303030303030304, 'us': 0.030303030303030304, 'alon': 0.030303030303030304}, 'photos: the rob': {'photo': 0.09090909090909091, 'robot': 0.09090909090909091, 'run': 0.09090909090909091, 'warehous': 0.09090909090909091, 'warehousesrobot': 0.045454545454545456, 'increasingli': 0.045454545454545456, 'familiar': 0.045454545454545456, 'presenc': 0.045454545454545456}, 'at the south-ea': {'london': 0.05555555555555555, 'warehous': 0.05555555555555555, 'run': 0.05555555555555555, 'british': 0.05555555555555555, 'onlin': 0.05555555555555555, 'supermarket': 0.05555555555555555, 'ocado': 0.05555555555555555, 'robot': 0.05555555555555555, 'fulfil': 0.05555555555555555, 'shop': 0.05555555555555555, 'order': 0.05555555555555555}, 'when an order i': {'order': 0.045454545454545456, 'sent': 0.045454545454545456, 'warehous': 0.045454545454545456, 'bot': 0.045454545454545456, 'spring': 0.045454545454545456, 'life': 0.045454545454545456, 'head': 0.045454545454545456, 'toward': 0.045454545454545456, 'contain': 0.045454545454545456, 'requir': 0.045454545454545456}, 'scroll through ': {'scroll': 0.01639344262295082, 'see': 0.01639344262295082, 'robot': 0.06557377049180328, 'revolution': 0.01639344262295082, 'caption': 0.01639344262295082, '1': 0.01639344262295082, '8': 0.01639344262295082, 'photo': 0.01639344262295082, 'run': 0.01639344262295082, 'warehousesin': 0.01639344262295082, 'respons': 0.01639344262295082, 'coronaviru': 0.01639344262295082, 'pandem': 0.01639344262295082, 'mit': 0.01639344262295082, 'collabor': 0.01639344262295082, 'ava': 0.01639344262295082, 'greater': 0.01639344262295082, 'boston': 0.01639344262295082, 'food': 0.01639344262295082, 'bank': 0.01639344262295082, 'design': 0.01639344262295082, 'use': 0.01639344262295082, 'uv': 0.01639344262295082, 'light': 0.01639344262295082, 'sanit': 0.01639344262295082, 'floor': 0.01639344262295082, 'foot': 0.01639344262295082, 'warehous': 0.01639344262295082, '30': 0.01639344262295082, 'minut': 0.01639344262295082}, 'hide caption 2 ': {'hide': 0.02857142857142857, 'caption': 0.02857142857142857, '2': 0.02857142857142857, '8': 0.02857142857142857, 'photo': 0.02857142857142857, 'robot': 0.05714285714285714, 'run': 0.02857142857142857, 'produc': 0.02857142857142857, 'japanes': 0.02857142857142857, 'startup': 0.02857142857142857, 'telexist': 0.02857142857142857, 'stack': 0.02857142857142857, 'shelv': 0.02857142857142857, 'two': 0.02857142857142857, 'tokyo': 0.02857142857142857, 'largest': 0.02857142857142857, 'conveni': 0.02857142857142857, 'store': 0.02857142857142857, 'franchis': 0.02857142857142857}, 'featuring camer': {'featur': 0.037037037037037035, 'camera': 0.037037037037037035, 'microphon': 0.037037037037037035, 'sensor': 0.037037037037037035, 'use': 0.037037037037037035, 'three': 0.037037037037037035, 'finger': 0.037037037037037035, 'stock': 0.037037037037037035, 'item': 0.037037037037037035, 'bottl': 0.037037037037037035, 'drink': 0.037037037037037035, 'rice': 0.037037037037037035, 'bowl': 0.037037037037037035}, 'the robot is co': {'robot': 0.0967741935483871, 'control': 0.03225806451612903, 'shop': 0.03225806451612903, 'staff': 0.03225806451612903, 'caption': 0.03225806451612903, '3': 0.03225806451612903, '8': 0.03225806451612903, 'photo': 0.03225806451612903, 'run': 0.03225806451612903, 'warehousesu': 0.03225806451612903, 'compani': 0.03225806451612903, 'boston': 0.03225806451612903, 'dynam': 0.03225806451612903, 'ha': 0.03225806451612903, 'becom': 0.03225806451612903, 'known': 0.03225806451612903, 'advanc': 0.03225806451612903, 'work': 0.03225806451612903}, '\"handle\" is mad': {'handl': 0.0625, 'made': 0.0625, 'warehous': 0.0625, 'equip': 0.0625, 'vision': 0.0625, 'system': 0.0625}, 'it can lift box': {'lift': 0.1111111111111111, 'box': 0.1111111111111111, 'weigh': 0.1111111111111111, '30': 0.1111111111111111, 'pound': 0.1111111111111111}, 'designed to kee': {'design': 0.047619047619047616, 'keep': 0.047619047619047616, 'human': 0.047619047619047616, 'worker': 0.047619047619047616, 'harm': 0.047619047619047616, 'way': 0.047619047619047616, 'stretch': 0.047619047619047616, 'gripper': 0.047619047619047616, 'mean': 0.047619047619047616, 'manipul': 0.047619047619047616, 'box': 0.047619047619047616}, 'hide caption 5 ': {'hide': 0.019230769230769232, 'caption': 0.019230769230769232, '5': 0.019230769230769232, '8': 0.019230769230769232, 'photo': 0.019230769230769232, 'robot': 0.038461538461538464, 'run': 0.019230769230769232, 'warehousesalthough': 0.019230769230769232, 'specif': 0.019230769230769232, 'design': 0.019230769230769232, 'warehous': 0.019230769230769232, 'boston': 0.019230769230769232, 'dynam': 0.019230769230769232, 'spot': 0.019230769230769232, 'lift': 0.019230769230769232, 'object': 0.019230769230769232, 'pick': 0.019230769230769232, 'fall': 0.019230769230769232, 'open': 0.019230769230769232, 'walk': 0.019230769230769232, 'door': 0.019230769230769232, 'even': 0.019230769230769232, 'remind': 0.019230769230769232, 'peopl': 0.019230769230769232, 'practic': 0.019230769230769232, 'social': 0.019230769230769232, 'distanc': 0.019230769230769232}, 'hide caption 6 ': {'hide': 0.02857142857142857, 'caption': 0.02857142857142857, '6': 0.02857142857142857, '8': 0.02857142857142857, 'photo': 0.02857142857142857, 'robot': 0.05714285714285714, 'run': 0.02857142857142857, 'warehousesthi': 0.02857142857142857, 'use': 0.02857142857142857, 'plant': 0.05714285714285714, 'seed': 0.02857142857142857, 'check': 0.02857142857142857, 'nordic': 0.02857142857142857, 'harvest': 0.02857142857142857, 'vertic': 0.02857142857142857, 'farm': 0.02857142857142857, 'base': 0.02857142857142857, 'taastrup': 0.02857142857142857, 'denmark': 0.02857142857142857}, 'the indoor farm': {'indoor': 0.011235955056179775, 'farm': 0.011235955056179775, 'one': 0.02247191011235955, 'biggest': 0.011235955056179775, 'caption': 0.02247191011235955, '7': 0.011235955056179775, '8': 0.033707865168539325, 'photo': 0.011235955056179775, 'robot': 0.011235955056179775, 'run': 0.02247191011235955, 'warehousesrobot': 0.011235955056179775, 'sort': 0.011235955056179775, 'packag': 0.011235955056179775, 'warehous': 0.011235955056179775, 'china': 0.02247191011235955, 'largest': 0.011235955056179775, 'firm': 0.011235955056179775, 'wuhan': 0.011235955056179775, 'ahead': 0.011235955056179775, 'annual': 0.011235955056179775, 'singl': 0.011235955056179775, 'day': 0.011235955056179775, 'onlin': 0.011235955056179775, 'shop': 0.011235955056179775, 'bonanza': 0.011235955056179775, 'tusimpl': 0.011235955056179775, 'ha': 0.011235955056179775, 'promin': 0.011235955056179775, 'competitor': 0.011235955056179775, 'googl': 0.011235955056179775, 'spinoff': 0.011235955056179775, 'waymo': 0.011235955056179775, 'aurora': 0.011235955056179775, 'work': 0.011235955056179775, 'wider': 0.011235955056179775, 'rang': 0.011235955056179775, 'vehicl': 0.011235955056179775, 'includ': 0.011235955056179775, 'passeng': 0.011235955056179775, 'car': 0.011235955056179775}, 'tusimple is wor': {'tusimpl': 0.06666666666666667, 'work': 0.06666666666666667, 'exclus': 0.06666666666666667, 'driverless': 0.06666666666666667, 'truck': 0.06666666666666667, 'like': 0.06666666666666667, 'us': 0.06666666666666667, 'compani': 0.06666666666666667, 'plu': 0.06666666666666667, 'embark': 0.06666666666666667}, 'grayson brulte,': {'grayson': 0.047619047619047616, 'brult': 0.09523809523809523, 'autonomi': 0.047619047619047616, 'expert': 0.047619047619047616, 'consult': 0.047619047619047616, 'firm': 0.047619047619047616, 'believ': 0.047619047619047616, 'tusimpl': 0.047619047619047616, 'right': 0.047619047619047616, 'track': 0.047619047619047616}, '\"the biggest co': {'biggest': 0.05, 'competit': 0.05, 'advantag': 0.05, 'tusimpl': 0.05, 'ha': 0.05, 'competitor': 0.05, 'technolog': 0.05, 'wa': 0.05, 'truck': 0.05}, \"they're not try\": {'tri': 0.02857142857142857, 'port': 0.02857142857142857, 'autonomi': 0.02857142857142857, 'system': 0.02857142857142857, 'built': 0.02857142857142857, 'passeng': 0.05714285714285714, 'vehicl': 0.05714285714285714, 'dens': 0.02857142857142857, 'urban': 0.02857142857142857, 'environ': 0.02857142857142857, 'truck': 0.05714285714285714, 'build': 0.02857142857142857, 'virtual': 0.02857142857142857, 'driver': 0.02857142857142857, 'drive': 0.02857142857142857}, 'these are diffe': {'differ': 0.15384615384615385, 'skill': 0.07692307692307693, 'system': 0.07692307692307693, 'altogeth': 0.07692307692307693, 'said': 0.07692307692307693}, 'removing the hu': {'remov': 0.08333333333333333, 'human': 0.08333333333333333, 'element': 0.08333333333333333, 'long': 0.08333333333333333, 'truck': 0.08333333333333333, 'rout': 0.08333333333333333, 'ha': 0.08333333333333333, 'benefit': 0.08333333333333333}, 'the company say': {'compani': 0.04, 'say': 0.04, 'truck': 0.04, 'react': 0.04, '15': 0.04, 'time': 0.04, 'faster': 0.04, 'human': 0.04, 'driver': 0.04, 'see': 0.04, 'farther': 0.04, 'road': 0.04, 'even': 0.04, 'night': 0.04}, '\"in the us ever': {'us': 0.038461538461538464, 'everi': 0.038461538461538464, 'year': 0.038461538461538464, 'fatal': 0.038461538461538464, 'involv': 0.038461538461538464, 'truck': 0.038461538461538464, 'due': 0.038461538461538464, 'human': 0.038461538461538464, 'error': 0.038461538461538464, 'said': 0.038461538461538464, 'lu': 0.038461538461538464}, '\"the truck does': {'truck': 0.05263157894736842, 'doe': 0.10526315789473684, 'get': 0.05263157894736842, 'tire': 0.05263157894736842, 'watch': 0.05263157894736842, 'movi': 0.05263157894736842, 'look': 0.05263157894736842, 'phone': 0.05263157894736842}, \"it doesn't get \": {'doe': 0.14285714285714285, 'get': 0.14285714285714285, 'distract': 0.14285714285714285}}\n",
            "IDF matrix {' right now, the': {'right': 1.568201724066995, 'shortag': 1.8692317197309762, 'truck': 0.45425837176015826, 'driver': 0.5904781187781472, 'us': 0.8692317197309762, 'worldwid': 1.8692317197309762, 'exacerb': 1.8692317197309762, 'boom': 1.8692317197309762, 'brought': 1.8692317197309762, 'pandem': 1.568201724066995}, 'one solution to': {'one': 1.1702617153949575, 'solut': 1.568201724066995, 'problem': 1.8692317197309762, 'autonom': 1.0241336797167193, 'truck': 0.45425837176015826, 'sever': 1.8692317197309762, 'compani': 0.9149892102916513, 'race': 1.8692317197309762, 'first': 0.8692317197309762, 'launch': 1.2671717284030137}, 'among them is s': {'among': 1.8692317197309762, 'san': 1.8692317197309762, '2015': 1.8692317197309762, 'tusimpl': 0.693140460675295, 'ha': 0.9661417327390326, 'complet': 1.568201724066995, '2': 1.3921104650113139, 'million': 1.3921104650113139, 'mile': 1.0241336797167193, 'road': 1.1702617153949575, 'test': 0.8692317197309762, '70': 1.8692317197309762, 'prototyp': 1.8692317197309762, 'truck': 0.45425837176015826, 'across': 1.568201724066995, 'us': 0.8692317197309762, 'china': 1.1702617153949575, 'europ': 1.3921104650113139}, 'although these ': {'although': 1.568201724066995, 'simpli': 1.568201724066995, 'commerci': 1.3921104650113139, 'avail': 1.2671717284030137, 'truck': 0.45425837176015826, 'retrofit': 1.568201724066995, 'technolog': 1.2671717284030137, 'tusimpl': 0.693140460675295, 'ha': 0.9661417327390326, 'deal': 1.8692317197309762, 'place': 1.8692317197309762, 'two': 1.3921104650113139, 'world': 1.0910804693473326, 'largest': 1.3921104650113139, 'manufactur': 1.8692317197309762, 'navistar': 1.8692317197309762, 'us': 0.8692317197309762, 'traton': 1.8692317197309762, 'volkswagen': 1.8692317197309762, 'busi': 1.568201724066995, 'europ': 1.3921104650113139, 'design': 1.0241336797167193, 'build': 1.568201724066995, 'fulli': 1.3921104650113139, 'autonom': 1.0241336797167193, 'model': 1.8692317197309762, 'hope': 1.1702617153949575, 'launch': 1.2671717284030137, 'photo': 0.5470124249970569, 'yara': 1.8692317197309762, 'birkeland': 1.8692317197309762, 'builder': 1.8692317197309762, 'call': 1.568201724066995, 'first': 0.8692317197309762, 'cargo': 1.8692317197309762, 'ship': 1.3921104650113139}, 'the ship is sch': {'ship': 1.3921104650113139, 'schedul': 1.8692317197309762, 'make': 1.3921104650113139, 'first': 0.8692317197309762, 'journey': 1.568201724066995, 'two': 1.3921104650113139, 'norwegian': 1.568201724066995, 'town': 1.8692317197309762, 'befor': 1.568201724066995, 'end': 1.568201724066995, 'year': 1.1702617153949575}, 'click through t': {'click': 1.8692317197309762, 'see': 1.3921104650113139, 'form': 1.8692317197309762, 'transport': 1.2671717284030137, 'set': 1.8692317197309762, 'transform': 1.8692317197309762, 'caption': 0.568201724066995, '1': 1.3921104650113139, '13': 0.7900504736833514, 'photo': 0.5470124249970569, 'pictur': 1.568201724066995, 'render': 1.568201724066995, 'oceanbird': 1.8692317197309762, 'transatlant': 1.8692317197309762, 'car': 1.2671717284030137, 'carrier': 1.8692317197309762, 'cut': 1.568201724066995, 'carbon': 1.568201724066995, 'emiss': 1.8692317197309762, '90': 1.8692317197309762, 'compar': 1.8692317197309762, 'standard': 1.8692317197309762, '2': 1.3921104650113139, 'maritim': 1.8692317197309762, 'ship': 1.3921104650113139, 'go': 1.2671717284030137, 'green': 1.8692317197309762}, 'cities around t': {'citi': 1.2671717284030137, 'around': 1.8692317197309762, 'world': 1.0910804693473326, 'adopt': 1.8692317197309762, 'electr': 1.3921104650113139, 'ferri': 1.568201724066995}, 'norwegian start': {'norwegian': 1.568201724066995, 'startup': 1.568201724066995, 'zeabuz': 1.8692317197309762, 'hope': 1.1702617153949575, 'electr': 1.3921104650113139, 'ferri': 1.568201724066995, 'help': 1.568201724066995, 'reviv': 1.8692317197309762, 'urban': 1.568201724066995, 'caption': 0.568201724066995, '3': 1.568201724066995, '13': 0.7900504736833514, 'photo': 0.5470124249970569, 'china': 1.1702617153949575, 'new': 1.3921104650113139, 'maglev': 1.8692317197309762, 'train': 1.2671717284030137, 'roll': 1.8692317197309762, 'product': 1.8692317197309762, 'line': 1.568201724066995, 'qingdao': 1.8692317197309762, 'east': 1.8692317197309762, 'shandong': 1.8692317197309762, 'provinc': 1.8692317197309762, 'juli': 1.8692317197309762, 'ha': 0.9661417327390326, 'top': 1.8692317197309762, 'speed': 1.8692317197309762, '600': 1.8692317197309762, 'km': 1.8692317197309762, 'per': 1.2671717284030137, 'hour': 1.1702617153949575, 'current': 1.3921104650113139, 'fastest': 1.8692317197309762, 'ground': 1.8692317197309762, 'vehicl': 1.0910804693473326, 'avail': 1.2671717284030137, 'global': 1.8692317197309762}, 'hide caption 4 ': {'hide': 1.1702617153949575, 'caption': 0.568201724066995, '4': 1.8692317197309762, '8': 0.8692317197309762, 'photo': 0.5470124249970569, 'robot': 0.5470124249970569, 'run': 0.7900504736833514, 'warehousesstretch': 1.8692317197309762, 'latest': 1.568201724066995, 'boston': 1.2671717284030137, 'dynam': 1.3921104650113139, 'work': 1.0241336797167193, 'warehous': 0.9149892102916513, 'distribut': 1.568201724066995, 'center': 1.568201724066995}, 'dutch company h': {'dutch': 1.568201724066995, 'compani': 0.9149892102916513, 'hardt': 1.8692317197309762, 'start': 1.8692317197309762, 'work': 1.0241336797167193, 'hyperloop': 1.568201724066995, 'test': 0.8692317197309762, 'facil': 1.8692317197309762, 'europ': 1.3921104650113139, 'anticip': 1.8692317197309762, 'open': 1.568201724066995, 'caption': 0.568201724066995, '5': 1.568201724066995, '13': 0.7900504736833514, 'photo': 0.5470124249970569, 'like': 1.2671717284030137, 'bullet': 1.8692317197309762, 'train': 1.2671717284030137, 'without': 1.3921104650113139, 'track': 1.568201724066995, 'rail': 1.568201724066995}, 'floating pods a': {'float': 1.8692317197309762, 'pod': 1.3921104650113139, 'propel': 1.8692317197309762, 'steel': 1.8692317197309762, 'tube': 1.8692317197309762, 'use': 1.1702617153949575, 'magnet': 1.8692317197309762, 'levit': 1.8692317197309762}, 'virgin has been': {'virgin': 1.8692317197309762, 'ha': 0.9661417327390326, 'run': 0.7900504736833514, 'test': 0.8692317197309762, 'passeng': 1.0241336797167193, 'vehicl': 1.0910804693473326, 'pictur': 1.568201724066995, 'caption': 0.568201724066995, '6': 1.568201724066995, '13': 0.7900504736833514, 'photo': 0.5470124249970569, 'low': 1.8692317197309762, 'carbon': 1.568201724066995, 'travel': 1.3921104650113139, 'switch': 1.568201724066995, 'sustain': 1.3921104650113139, 'fuel': 1.3921104650113139, 'sourc': 1.568201724066995, 'also': 1.8692317197309762, 'redesign': 1.8692317197309762, 'transport': 1.2671717284030137}, 'a \"flying-v\" pl': {'plane': 1.8692317197309762, 'design': 1.0241336797167193, 'delft': 1.8692317197309762, 'univers': 1.8692317197309762, 'technolog': 1.2671717284030137, 'netherland': 1.8692317197309762, 'dutch': 1.568201724066995, 'airlin': 1.3921104650113139, 'klm': 1.8692317197309762, 'cut': 1.568201724066995, 'fuel': 1.3921104650113139, 'consumpt': 1.8692317197309762, '20': 1.8692317197309762}, 'ultimately, res': {'ultim': 1.8692317197309762, 'research': 1.8692317197309762, 'hope': 1.1702617153949575, 'switch': 1.568201724066995, 'kerosen': 1.8692317197309762, 'sustain': 1.3921104650113139, 'fuel': 1.3921104650113139, 'sourc': 1.568201724066995, 'like': 1.2671717284030137, 'liquid': 1.8692317197309762, 'caption': 0.568201724066995, '7': 1.568201724066995, '13': 0.7900504736833514, 'photo': 0.5470124249970569, 'hydrogen': 1.8692317197309762, 'aviat': 1.8692317197309762, 'could': 1.568201724066995, 'provid': 1.8692317197309762, 'solut': 1.568201724066995, 'short': 1.8692317197309762, 'flight': 1.8692317197309762}, 'in september, a': {'septemb': 1.568201724066995, 'airbu': 1.8692317197309762, 'unveil': 1.8692317197309762, 'plan': 1.2671717284030137, 'three': 1.568201724066995, 'aircraft': 1.3921104650113139, 'carri': 1.568201724066995, '100': 1.8692317197309762, '200': 1.568201724066995, 'passeng': 1.0241336797167193}, 'it hopes to lau': {'hope': 1.1702617153949575, 'launch': 1.2671717284030137, 'first': 0.8692317197309762, 'zero': 1.8692317197309762, 'aircraft': 1.3921104650113139, 'caption': 0.568201724066995, '8': 0.8692317197309762, '13': 0.7900504736833514, 'photo': 0.5470124249970569, 'decemb': 1.8692317197309762, '2019': 1.8692317197309762, 'canadian': 1.8692317197309762, 'airlin': 1.3921104650113139, 'harbour': 1.568201724066995, 'air': 1.568201724066995, 'flew': 1.8692317197309762, 'world': 1.0910804693473326, 'commerci': 1.3921104650113139}, 'the six-seater ': {'seaplan': 1.8692317197309762, 'wa': 1.2671717284030137, 'retrofit': 1.568201724066995, 'magnix': 1.8692317197309762, 'magni500': 1.8692317197309762, 'motor': 1.8692317197309762}, 'harbour air -- ': {'harbour': 1.568201724066995, 'air': 1.568201724066995, 'carri': 1.568201724066995, 'half': 1.8692317197309762, 'million': 1.3921104650113139, 'passeng': 1.0241336797167193, 'annual': 1.568201724066995, 'hope': 1.1702617153949575, 'becom': 1.568201724066995, 'world': 1.0910804693473326, 'first': 0.8692317197309762, 'airlin': 1.3921104650113139}, 'hide caption 9 ': {'hide': 1.1702617153949575, 'caption': 0.568201724066995, '9': 1.8692317197309762, '13': 0.7900504736833514, 'photo': 0.5470124249970569, 'case': 1.8692317197309762, 'electr': 1.3921104650113139, 'bike': 1.8692317197309762, 'futur': 1.8692317197309762, 'one': 1.1702617153949575, 'retail': 1.8692317197309762, 'report': 1.8692317197309762, 'sale': 1.8692317197309762, 'increas': 1.568201724066995, '230': 1.8692317197309762, 'thi': 1.2671717284030137, 'year': 1.1702617153949575}, 'e-bikes give th': {'give': 1.8692317197309762, 'user': 1.8692317197309762, 'boost': 1.8692317197309762, 'pedal': 1.8692317197309762, 'allow': 1.3921104650113139, 'go': 1.2671717284030137, 'less': 1.8692317197309762, 'effort': 1.8692317197309762}, 'e-bikes are now': {'even': 1.1702617153949575, 'avail': 1.2671717284030137, 'app': 1.8692317197309762, 'like': 1.2671717284030137, 'caption': 0.568201724066995, '10': 1.568201724066995, '13': 0.7900504736833514, 'photo': 0.5470124249970569, 'sleeper': 1.8692317197309762, 'train': 1.2671717284030137, 'buse': 1.8692317197309762, 'might': 1.568201724066995, 'way': 1.3921104650113139, 'us': 0.8692317197309762, 'get': 1.0910804693473326, 'overnight': 1.8692317197309762, 'travel': 1.3921104650113139, 'thi': 1.2671717284030137, 'render': 1.568201724066995, 'hotel': 1.8692317197309762, 'suit': 1.8692317197309762, 'design': 1.0241336797167193, 'steve': 1.8692317197309762, 'lee': 1.8692317197309762, 'aprilli': 1.8692317197309762, 'studio': 1.8692317197309762, 'offer': 1.8692317197309762, 'plush': 1.8692317197309762, 'altern': 1.8692317197309762, '11': 1.2671717284030137, 'uae': 1.8692317197309762, 'pod': 1.3921104650113139, 'undergo': 1.8692317197309762, 'test': 0.8692317197309762, 'line': 1.568201724066995, 'sharjah': 1.8692317197309762, 'border': 1.8692317197309762, 'dubai': 1.8692317197309762}, 'belarus-based u': {'uski': 1.8692317197309762, 'transport': 1.2671717284030137, 'say': 1.2671717284030137, 'pod': 1.3921104650113139, 'help': 1.568201724066995, 'citi': 1.2671717284030137, 'solv': 1.8692317197309762, 'traffic': 1.568201724066995, 'caption': 0.568201724066995, '12': 1.8692317197309762, '13': 0.7900504736833514, 'photo': 0.5470124249970569, 'coradia': 1.8692317197309762, 'ilint': 1.8692317197309762, 'french': 1.8692317197309762, 'rail': 1.568201724066995, 'compani': 0.9149892102916513, 'alstom': 1.8692317197309762, 'world': 1.0910804693473326, 'first': 0.8692317197309762, 'passeng': 1.0241336797167193, 'train': 1.2671717284030137}, 'it began testin': {'began': 1.8692317197309762, 'test': 0.8692317197309762, 'germani': 1.8692317197309762, '2018': 1.8692317197309762, 'septemb': 1.568201724066995, '2020': 1.8692317197309762, 'enter': 1.568201724066995, 'regular': 1.8692317197309762, 'servic': 1.8692317197309762, 'caption': 0.568201724066995, '13': 0.7900504736833514, '13no': 1.8692317197309762, 'sleeptusimpl': 1.8692317197309762, 'latest': 1.568201724066995, 'road': 1.1702617153949575, 'involv': 1.3921104650113139, 'haul': 1.8692317197309762, 'fresh': 1.8692317197309762, 'produc': 1.568201724066995, '951': 1.8692317197309762, 'mile': 1.0241336797167193, 'nogal': 1.8692317197309762, 'arizona': 1.568201724066995, 'oklahoma': 1.8692317197309762, 'citi': 1.2671717284030137}, 'the pickup and ': {'pickup': 1.568201724066995, 'dropoff': 1.8692317197309762, 'handl': 1.568201724066995, 'human': 0.8278390345727511, 'driver': 0.5904781187781472, 'bulk': 1.8692317197309762, 'rout': 1.0910804693473326, 'tucson': 1.8692317197309762, 'dalla': 1.8692317197309762, 'truck': 0.45425837176015826, 'drove': 1.568201724066995}, 'read more\"today': {'read': 1.568201724066995, 'today': 1.3921104650113139, 'becaus': 1.1702617153949575, 'system': 1.1702617153949575, 'fulli': 1.3921104650113139, 'readi': 1.8692317197309762, 'safeti': 1.2671717284030137, 'driver': 0.5904781187781472, 'engin': 1.8692317197309762, 'board': 1.8692317197309762, 'time': 1.2671717284030137, 'test': 0.8692317197309762, 'drove': 1.568201724066995, 'full': 1.568201724066995, 'autonomi': 1.2671717284030137, 'wa': 1.2671717284030137, 'touch': 1.8692317197309762, 'wheel': 1.8692317197309762, 'said': 0.9661417327390326, 'cheng': 1.8692317197309762, 'lu': 0.8692317197309762, 'tusimpl': 0.693140460675295, 'presid': 1.8692317197309762, 'ceo': 1.8692317197309762}, 'the journey was': {'journey': 1.568201724066995, 'wa': 1.2671717284030137, 'complet': 1.568201724066995, '14': 1.8692317197309762, 'hour': 1.1702617153949575, 'versu': 1.8692317197309762, 'usual': 1.8692317197309762, '24': 1.8692317197309762, 'human': 0.8278390345727511, 'driver': 0.5904781187781472, 'mostli': 1.8692317197309762, 'becaus': 1.1702617153949575, 'truck': 0.45425837176015826, 'doe': 1.1702617153949575, 'need': 1.3921104650113139, 'sleep': 1.8692317197309762}, '\"in the us, a d': {'us': 0.8692317197309762, 'driver': 0.5904781187781472, 'onli': 1.3921104650113139, 'work': 1.0241336797167193, '11': 1.2671717284030137, 'hour': 1.1702617153949575, 'day': 1.1702617153949575}, 'we simply had a': {'simpli': 1.568201724066995, 'handoff': 1.8692317197309762, 'first': 0.8692317197309762, 'pair': 1.8692317197309762, 'driver': 0.5904781187781472, 'stop': 1.8692317197309762, 'becaus': 1.1702617153949575, 'reach': 1.8692317197309762, '11': 1.2671717284030137, 'hour': 1.1702617153949575, 'oper': 1.3921104650113139, 'said': 0.9661417327390326, 'lu': 0.8692317197309762}, 'that, of course': {'cours': 1.8692317197309762, 'negat': 1.8692317197309762, 'advantag': 1.568201724066995, 'autonom': 1.0241336797167193, 'system': 1.1702617153949575, 'idea': 1.8692317197309762, 'onc': 1.8692317197309762, 'tusimpl': 0.693140460675295, 'truck': 0.45425837176015826, 'hit': 1.8692317197309762, 'market': 1.8692317197309762, 'need': 1.3921104650113139, 'anyon': 1.8692317197309762, 'onboard': 1.8692317197309762}, 'picking up the ': {'pick': 1.568201724066995, 'watermelon': 1.8692317197309762, 'still': 1.2671717284030137, 'requir': 1.3921104650113139, 'human': 0.8278390345727511, 'car': 1.2671717284030137, 'way': 1.3921104650113139, 'commerci': 1.3921104650113139, 'avail': 1.2671717284030137, 'tusimpl': 0.693140460675295, 'truck': 0.45425837176015826, 'wo': 1.8692317197309762, 'oper': 1.3921104650113139, 'bustl': 1.8692317197309762, 'citi': 1.2671717284030137, 'traffic': 1.568201724066995, 'onli': 1.3921104650113139, 'stretch': 1.3921104650113139, 'highway': 1.8692317197309762, 'thoroughli': 1.8692317197309762, 'map': 1.1702617153949575, 'via': 1.8692317197309762, 'compani': 0.9149892102916513, 'softwar': 1.568201724066995}, '\"we collect dat': {'collect': 1.8692317197309762, 'data': 1.8692317197309762, 'road': 1.1702617153949575, 'creat': 1.3921104650113139, 'thi': 1.2671717284030137, 'veri': 1.8692317197309762, 'detail': 1.8692317197309762, 'high': 1.8692317197309762, 'definit': 1.8692317197309762, 'map': 1.1702617153949575, 'rout': 1.0910804693473326}, 'that adds anoth': {'add': 1.568201724066995, 'anoth': 1.8692317197309762, 'layer': 1.8692317197309762, 'safeti': 1.2671717284030137, 'vehicl': 1.0910804693473326, 'said': 0.9661417327390326, 'lu': 0.8692317197309762}, 'as a result, tu': {'result': 1.568201724066995, 'tusimpl': 0.693140460675295, 'truck': 0.45425837176015826, 'onli': 1.3921104650113139, 'abl': 1.568201724066995, 'along': 1.8692317197309762, 'trade': 1.568201724066995, 'corridor': 1.568201724066995, 'lu': 0.8692317197309762, 'call': 1.568201724066995, 'virtual': 1.568201724066995, 'railroad': 1.8692317197309762, 'nowher': 1.8692317197309762, 'els': 1.8692317197309762}, 'this swarm of r': {'thi': 1.2671717284030137, 'swarm': 1.8692317197309762, 'robot': 0.5470124249970569, 'get': 1.0910804693473326, 'smarter': 1.8692317197309762, 'worksaccord': 1.8692317197309762, 'compani': 0.9149892102916513, 'us': 0.8692317197309762, '80': 1.568201724066995, 'good': 1.568201724066995, 'travel': 1.3921104650113139, '10': 1.568201724066995, 'nation': 1.568201724066995, 'trade': 1.568201724066995, 'corridor': 1.568201724066995, 'even': 1.1702617153949575, 'select': 1.8692317197309762, 'map': 1.1702617153949575, 'allow': 1.3921104650113139, 'captur': 1.8692317197309762, 'larg': 1.8692317197309762, 'portion': 1.8692317197309762, 'busi': 1.568201724066995}, 'tusimple is cur': {'tusimpl': 0.693140460675295, 'current': 1.3921104650113139, 'map': 1.1702617153949575, 'rout': 1.0910804693473326, 'arizona': 1.568201724066995, 'texa': 1.8692317197309762, 'plan': 1.2671717284030137, 'across': 1.568201724066995, 'nation': 1.568201724066995, 'depend': 1.8692317197309762, 'state': 1.568201724066995, 'legisl': 1.8692317197309762, 'howev': 1.8692317197309762, 'becaus': 1.1702617153949575, 'allow': 1.3921104650113139, 'test': 0.8692317197309762, 'autonom': 1.0241336797167193, 'truck': 0.45425837176015826, 'public': 1.8692317197309762, 'road': 1.1702617153949575}, 'happier drivers': {'happier': 1.8692317197309762, 'driver': 0.5904781187781472, 'technolog': 1.2671717284030137, 'add': 1.568201724066995, 'cost': 1.2671717284030137, 'truck': 0.45425837176015826, 'make': 1.3921104650113139, 'final': 1.8692317197309762, 'price': 1.8692317197309762, 'roughli': 1.8692317197309762}, 'according to lu': {'accord': 1.568201724066995, 'lu': 0.8692317197309762, 'still': 1.2671717284030137, 'cheaper': 1.8692317197309762, 'pay': 1.8692317197309762, 'human': 0.8278390345727511, 'driver': 0.5904781187781472}, '\"if you take $5': {'take': 1.2671717284030137, 'divid': 1.8692317197309762, '1': 1.3921104650113139, 'million': 1.3921104650113139, 'mile': 1.0241336797167193, 'averag': 1.568201724066995, 'lifespan': 1.8692317197309762, 'truck': 0.45425837176015826, 'mean': 1.2671717284030137, 'ad': 1.8692317197309762, 'five': 1.8692317197309762, 'cent': 1.568201724066995, 'per': 1.2671717284030137}, \"but you're savi\": {'save': 1.8692317197309762, 'cost': 1.2671717284030137, 'human': 0.8278390345727511, 'driver': 0.5904781187781472, 'base': 1.568201724066995, 'averag': 1.568201724066995, 'us': 0.8692317197309762, 'wage': 1.8692317197309762, 'per': 1.2671717284030137, 'year': 1.1702617153949575, '80': 1.568201724066995, 'cent': 1.568201724066995, 'mile': 1.0241336797167193}, 'today, the dire': {'today': 1.3921104650113139, 'direct': 1.8692317197309762, 'labor': 1.8692317197309762, 'cost': 1.2671717284030137, '50': 1.8692317197309762, 'oper': 1.3921104650113139, 'truck': 0.45425837176015826, 'said': 0.9661417327390326}, 'read: a robotic': {'read': 1.568201724066995, 'robot': 0.5470124249970569, 'could': 1.568201724066995, 'protect': 1.568201724066995, 'factori': 1.8692317197309762, 'worker': 1.568201724066995, 'injuriesthat': 1.8692317197309762, 'doe': 1.1702617153949575, 'mean': 1.2671717284030137, 'driverless': 1.568201724066995, 'truck': 0.45425837176015826, 'take': 1.2671717284030137, 'away': 1.8692317197309762, 'job': 1.3921104650113139, 'accord': 1.568201724066995, 'lu': 0.8692317197309762}, 'by focusing on ': {'focus': 1.8692317197309762, 'middl': 1.8692317197309762, 'mile': 1.0241336797167193, 'rather': 1.8692317197309762, 'pickup': 1.568201724066995, 'deliveri': 1.8692317197309762, 'good': 1.568201724066995, 'tusimpl': 0.693140460675295, 'believ': 1.3921104650113139, 'creat': 1.3921104650113139, 'new': 1.3921104650113139, 'freight': 1.8692317197309762, 'capac': 1.8692317197309762, 'without': 1.3921104650113139, 'demand': 1.8692317197309762, 'driver': 0.5904781187781472, 'time': 1.2671717284030137, 'protect': 1.568201724066995, 'exist': 1.8692317197309762, 'job': 1.3921104650113139}, '\"a ups driver i': {'driver': 0.5904781187781472, 'drop': 1.8692317197309762, '200': 1.568201724066995, 'packag': 1.568201724066995, 'day': 1.1702617153949575, 'autonomi': 1.2671717284030137, 'meant': 1.8692317197309762}, 'we believe that': {'believ': 1.3921104650113139, 'everi': 1.568201724066995, 'driver': 0.5904781187781472, 'abl': 1.568201724066995, 'retir': 1.8692317197309762, 'even': 1.1702617153949575, 'enter': 1.568201724066995, 'workforc': 1.8692317197309762, 'today': 1.3921104650113139, 'said': 0.9661417327390326, 'lu': 0.8692317197309762}, \"tusimple's auto\": {'tusimpl': 0.693140460675295, 'autonom': 1.0241336797167193, 'aim': 1.8692317197309762, 'take': 1.2671717284030137, 'rout': 1.0910804693473326, 'termin': 1.8692317197309762, 'distribut': 1.568201724066995, 'center': 1.568201724066995, 'involv': 1.3921104650113139, 'long': 1.568201724066995, 'stretch': 1.3921104650113139, 'monoton': 1.8692317197309762, 'drive': 1.3921104650113139}, '\"take phoenix t': {'take': 1.2671717284030137, 'phoenix': 1.8692317197309762, 'el': 1.8692317197309762, 'paso': 1.8692317197309762, 'drive': 1.3921104650113139}, 'a person cannot': {'person': 1.8692317197309762, 'make': 1.3921104650113139, 'round': 1.8692317197309762, 'trip': 1.8692317197309762, 'becaus': 1.1702617153949575, '11': 1.2671717284030137, 'hour': 1.1702617153949575}, 'but the truck c': {'truck': 0.45425837176015826, 'go': 1.2671717284030137, 'back': 1.8692317197309762, 'forth': 1.8692317197309762, 'day': 1.1702617153949575, 'mundan': 1.8692317197309762, 'job': 1.3921104650113139, 'driver': 0.5904781187781472, 'want': 1.8692317197309762}, 'that means you ': {'mean': 1.2671717284030137, 'free': 1.8692317197309762, 'human': 0.8278390345727511, 'driver': 0.5904781187781472, 'first': 0.8692317197309762, 'last': 1.8692317197309762, 'mile': 1.0241336797167193, 'get': 1.0910804693473326, 'work': 1.0241336797167193, 'full': 1.568201724066995, 'day': 1.1702617153949575, 'effici': 1.8692317197309762, 'use': 1.1702617153949575, 'time': 1.2671717284030137, 'go': 1.2671717284030137, 'home': 1.8692317197309762, 'night': 1.568201724066995, 'famili': 1.8692317197309762, 'said': 0.9661417327390326, 'distract': 1.568201724066995, 'although': 1.568201724066995, 'lu': 0.8692317197309762, 'say': 1.2671717284030137, 'reliabl': 1.8692317197309762, 'softwar': 1.568201724066995, 'hardwar': 1.8692317197309762, 'still': 1.2671717284030137, 'need': 1.3921104650113139, 'increas': 1.568201724066995, 'tusimpl': 0.693140460675295, 'plan': 1.2671717284030137, 'fulli': 1.3921104650113139, 'autonom': 1.0241336797167193, 'test': 0.8692317197309762, 'without': 1.3921104650113139, 'safeti': 1.2671717284030137, 'cabin': 1.8692317197309762, 'befor': 1.568201724066995, 'end': 1.568201724066995, 'year': 1.1702617153949575}, 'the results of ': {'result': 1.568201724066995, 'test': 0.8692317197309762, 'indic': 1.8692317197309762, 'whether': 1.8692317197309762, 'compani': 0.9149892102916513, 'meet': 1.8692317197309762, 'goal': 1.8692317197309762, 'launch': 1.2671717284030137, 'truck': 0.45425837176015826, 'lu': 0.8692317197309762, 'say': 1.2671717284030137, 'reserv': 1.8692317197309762, 'us': 0.8692317197309762, 'alon': 1.8692317197309762}, 'photos: the rob': {'photo': 0.5470124249970569, 'robot': 0.5470124249970569, 'run': 0.7900504736833514, 'warehous': 0.9149892102916513, 'warehousesrobot': 1.568201724066995, 'increasingli': 1.8692317197309762, 'familiar': 1.8692317197309762, 'presenc': 1.8692317197309762}, 'at the south-ea': {'london': 1.8692317197309762, 'warehous': 0.9149892102916513, 'run': 0.7900504736833514, 'british': 1.8692317197309762, 'onlin': 1.568201724066995, 'supermarket': 1.8692317197309762, 'ocado': 1.8692317197309762, 'robot': 0.5470124249970569, 'fulfil': 1.8692317197309762, 'shop': 1.3921104650113139, 'order': 1.568201724066995}, 'when an order i': {'order': 1.568201724066995, 'sent': 1.8692317197309762, 'warehous': 0.9149892102916513, 'bot': 1.8692317197309762, 'spring': 1.8692317197309762, 'life': 1.8692317197309762, 'head': 1.8692317197309762, 'toward': 1.8692317197309762, 'contain': 1.8692317197309762, 'requir': 1.3921104650113139}, 'scroll through ': {'scroll': 1.8692317197309762, 'see': 1.3921104650113139, 'robot': 0.5470124249970569, 'revolution': 1.8692317197309762, 'caption': 0.568201724066995, '1': 1.3921104650113139, '8': 0.8692317197309762, 'photo': 0.5470124249970569, 'run': 0.7900504736833514, 'warehousesin': 1.8692317197309762, 'respons': 1.8692317197309762, 'coronaviru': 1.8692317197309762, 'pandem': 1.568201724066995, 'mit': 1.8692317197309762, 'collabor': 1.8692317197309762, 'ava': 1.8692317197309762, 'greater': 1.8692317197309762, 'boston': 1.2671717284030137, 'food': 1.8692317197309762, 'bank': 1.8692317197309762, 'design': 1.0241336797167193, 'use': 1.1702617153949575, 'uv': 1.8692317197309762, 'light': 1.8692317197309762, 'sanit': 1.8692317197309762, 'floor': 1.8692317197309762, 'foot': 1.8692317197309762, 'warehous': 0.9149892102916513, '30': 1.568201724066995, 'minut': 1.8692317197309762}, 'hide caption 2 ': {'hide': 1.1702617153949575, 'caption': 0.568201724066995, '2': 1.3921104650113139, '8': 0.8692317197309762, 'photo': 0.5470124249970569, 'robot': 0.5470124249970569, 'run': 0.7900504736833514, 'produc': 1.568201724066995, 'japanes': 1.8692317197309762, 'startup': 1.568201724066995, 'telexist': 1.8692317197309762, 'stack': 1.8692317197309762, 'shelv': 1.8692317197309762, 'two': 1.3921104650113139, 'tokyo': 1.8692317197309762, 'largest': 1.3921104650113139, 'conveni': 1.8692317197309762, 'store': 1.8692317197309762, 'franchis': 1.8692317197309762}, 'featuring camer': {'featur': 1.8692317197309762, 'camera': 1.8692317197309762, 'microphon': 1.8692317197309762, 'sensor': 1.8692317197309762, 'use': 1.1702617153949575, 'three': 1.568201724066995, 'finger': 1.8692317197309762, 'stock': 1.8692317197309762, 'item': 1.8692317197309762, 'bottl': 1.8692317197309762, 'drink': 1.8692317197309762, 'rice': 1.8692317197309762, 'bowl': 1.8692317197309762}, 'the robot is co': {'robot': 0.5470124249970569, 'control': 1.8692317197309762, 'shop': 1.3921104650113139, 'staff': 1.8692317197309762, 'caption': 0.568201724066995, '3': 1.568201724066995, '8': 0.8692317197309762, 'photo': 0.5470124249970569, 'run': 0.7900504736833514, 'warehousesu': 1.8692317197309762, 'compani': 0.9149892102916513, 'boston': 1.2671717284030137, 'dynam': 1.3921104650113139, 'ha': 0.9661417327390326, 'becom': 1.568201724066995, 'known': 1.8692317197309762, 'advanc': 1.8692317197309762, 'work': 1.0241336797167193}, '\"handle\" is mad': {'handl': 1.568201724066995, 'made': 1.8692317197309762, 'warehous': 0.9149892102916513, 'equip': 1.8692317197309762, 'vision': 1.8692317197309762, 'system': 1.1702617153949575}, 'it can lift box': {'lift': 1.568201724066995, 'box': 1.568201724066995, 'weigh': 1.8692317197309762, '30': 1.568201724066995, 'pound': 1.8692317197309762}, 'designed to kee': {'design': 1.0241336797167193, 'keep': 1.8692317197309762, 'human': 0.8278390345727511, 'worker': 1.568201724066995, 'harm': 1.8692317197309762, 'way': 1.3921104650113139, 'stretch': 1.3921104650113139, 'gripper': 1.8692317197309762, 'mean': 1.2671717284030137, 'manipul': 1.8692317197309762, 'box': 1.568201724066995}, 'hide caption 5 ': {'hide': 1.1702617153949575, 'caption': 0.568201724066995, '5': 1.568201724066995, '8': 0.8692317197309762, 'photo': 0.5470124249970569, 'robot': 0.5470124249970569, 'run': 0.7900504736833514, 'warehousesalthough': 1.8692317197309762, 'specif': 1.8692317197309762, 'design': 1.0241336797167193, 'warehous': 0.9149892102916513, 'boston': 1.2671717284030137, 'dynam': 1.3921104650113139, 'spot': 1.8692317197309762, 'lift': 1.568201724066995, 'object': 1.8692317197309762, 'pick': 1.568201724066995, 'fall': 1.8692317197309762, 'open': 1.568201724066995, 'walk': 1.8692317197309762, 'door': 1.8692317197309762, 'even': 1.1702617153949575, 'remind': 1.8692317197309762, 'peopl': 1.8692317197309762, 'practic': 1.8692317197309762, 'social': 1.8692317197309762, 'distanc': 1.8692317197309762}, 'hide caption 6 ': {'hide': 1.1702617153949575, 'caption': 0.568201724066995, '6': 1.568201724066995, '8': 0.8692317197309762, 'photo': 0.5470124249970569, 'robot': 0.5470124249970569, 'run': 0.7900504736833514, 'warehousesthi': 1.8692317197309762, 'use': 1.1702617153949575, 'plant': 1.568201724066995, 'seed': 1.8692317197309762, 'check': 1.8692317197309762, 'nordic': 1.8692317197309762, 'harvest': 1.8692317197309762, 'vertic': 1.8692317197309762, 'farm': 1.568201724066995, 'base': 1.568201724066995, 'taastrup': 1.8692317197309762, 'denmark': 1.8692317197309762}, 'the indoor farm': {'indoor': 1.8692317197309762, 'farm': 1.568201724066995, 'one': 1.1702617153949575, 'biggest': 1.568201724066995, 'caption': 0.568201724066995, '7': 1.568201724066995, '8': 0.8692317197309762, 'photo': 0.5470124249970569, 'robot': 0.5470124249970569, 'run': 0.7900504736833514, 'warehousesrobot': 1.568201724066995, 'sort': 1.8692317197309762, 'packag': 1.568201724066995, 'warehous': 0.9149892102916513, 'china': 1.1702617153949575, 'largest': 1.3921104650113139, 'firm': 1.568201724066995, 'wuhan': 1.8692317197309762, 'ahead': 1.8692317197309762, 'annual': 1.568201724066995, 'singl': 1.8692317197309762, 'day': 1.1702617153949575, 'onlin': 1.568201724066995, 'shop': 1.3921104650113139, 'bonanza': 1.8692317197309762, 'tusimpl': 0.693140460675295, 'ha': 0.9661417327390326, 'promin': 1.8692317197309762, 'competitor': 1.568201724066995, 'googl': 1.8692317197309762, 'spinoff': 1.8692317197309762, 'waymo': 1.8692317197309762, 'aurora': 1.8692317197309762, 'work': 1.0241336797167193, 'wider': 1.8692317197309762, 'rang': 1.8692317197309762, 'vehicl': 1.0910804693473326, 'includ': 1.8692317197309762, 'passeng': 1.0241336797167193, 'car': 1.2671717284030137}, 'tusimple is wor': {'tusimpl': 0.693140460675295, 'work': 1.0241336797167193, 'exclus': 1.8692317197309762, 'driverless': 1.568201724066995, 'truck': 0.45425837176015826, 'like': 1.2671717284030137, 'us': 0.8692317197309762, 'compani': 0.9149892102916513, 'plu': 1.8692317197309762, 'embark': 1.8692317197309762}, 'grayson brulte,': {'grayson': 1.8692317197309762, 'brult': 1.568201724066995, 'autonomi': 1.2671717284030137, 'expert': 1.8692317197309762, 'consult': 1.8692317197309762, 'firm': 1.568201724066995, 'believ': 1.3921104650113139, 'tusimpl': 0.693140460675295, 'right': 1.568201724066995, 'track': 1.568201724066995}, '\"the biggest co': {'biggest': 1.568201724066995, 'competit': 1.8692317197309762, 'advantag': 1.568201724066995, 'tusimpl': 0.693140460675295, 'ha': 0.9661417327390326, 'competitor': 1.568201724066995, 'technolog': 1.2671717284030137, 'wa': 1.2671717284030137, 'truck': 0.45425837176015826}, \"they're not try\": {'tri': 1.8692317197309762, 'port': 1.8692317197309762, 'autonomi': 1.2671717284030137, 'system': 1.1702617153949575, 'built': 1.8692317197309762, 'passeng': 1.0241336797167193, 'vehicl': 1.0910804693473326, 'dens': 1.8692317197309762, 'urban': 1.568201724066995, 'environ': 1.8692317197309762, 'truck': 0.45425837176015826, 'build': 1.568201724066995, 'virtual': 1.568201724066995, 'driver': 0.5904781187781472, 'drive': 1.3921104650113139}, 'these are diffe': {'differ': 1.568201724066995, 'skill': 1.8692317197309762, 'system': 1.1702617153949575, 'altogeth': 1.8692317197309762, 'said': 0.9661417327390326}, 'removing the hu': {'remov': 1.8692317197309762, 'human': 0.8278390345727511, 'element': 1.8692317197309762, 'long': 1.568201724066995, 'truck': 0.45425837176015826, 'rout': 1.0910804693473326, 'ha': 0.9661417327390326, 'benefit': 1.8692317197309762}, 'the company say': {'compani': 0.9149892102916513, 'say': 1.2671717284030137, 'truck': 0.45425837176015826, 'react': 1.8692317197309762, '15': 1.8692317197309762, 'time': 1.2671717284030137, 'faster': 1.8692317197309762, 'human': 0.8278390345727511, 'driver': 0.5904781187781472, 'see': 1.3921104650113139, 'farther': 1.8692317197309762, 'road': 1.1702617153949575, 'even': 1.1702617153949575, 'night': 1.568201724066995}, '\"in the us ever': {'us': 0.8692317197309762, 'everi': 1.568201724066995, 'year': 1.1702617153949575, 'fatal': 1.8692317197309762, 'involv': 1.3921104650113139, 'truck': 0.45425837176015826, 'due': 1.8692317197309762, 'human': 0.8278390345727511, 'error': 1.8692317197309762, 'said': 0.9661417327390326, 'lu': 0.8692317197309762}, '\"the truck does': {'truck': 0.45425837176015826, 'doe': 1.1702617153949575, 'get': 1.0910804693473326, 'tire': 1.8692317197309762, 'watch': 1.8692317197309762, 'movi': 1.8692317197309762, 'look': 1.8692317197309762, 'phone': 1.8692317197309762}, \"it doesn't get \": {'doe': 1.1702617153949575, 'get': 1.0910804693473326, 'distract': 1.568201724066995}}\n",
            "TF-IDF matrix {' right now, the': {'right': 0.058081545335814624, 'shortag': 0.0692308044344806, 'truck': 0.01682438413926512, 'driver': 0.02186955995474619, 'us': 0.03219376739744356, 'worldwid': 0.0692308044344806, 'exacerb': 0.0692308044344806, 'boom': 0.0692308044344806, 'brought': 0.0692308044344806, 'pandem': 0.058081545335814624}, 'one solution to': {'one': 0.09752180961624646, 'solut': 0.06534173850279146, 'problem': 0.07788465498879067, 'autonom': 0.042672236654863305, 'truck': 0.01892743215667326, 'sever': 0.07788465498879067, 'compani': 0.0381245504288188, 'race': 0.07788465498879067, 'first': 0.03621798832212401, 'launch': 0.052798822016792236}, 'among them is s': {'among': 0.05841349124159301, 'san': 0.05841349124159301, '2015': 0.05841349124159301, 'tusimpl': 0.02166063939610297, 'ha': 0.03019192914809477, 'complet': 0.04900630387709359, '2': 0.04350345203160356, 'million': 0.04350345203160356, 'mile': 0.03200417749114748, 'road': 0.03657067860609242, 'test': 0.027163491241593007, '70': 0.05841349124159301, 'prototyp': 0.05841349124159301, 'truck': 0.014195574117504946, 'across': 0.04900630387709359, 'us': 0.027163491241593007, 'china': 0.03657067860609242, 'europ': 0.04350345203160356}, 'although these ': {'although': 0.02036625615671422, 'simpli': 0.02036625615671422, 'commerci': 0.01807935668845862, 'avail': 0.016456775693545634, 'truck': 0.017698378120525646, 'retrofit': 0.02036625615671422, 'technolog': 0.016456775693545634, 'tusimpl': 0.009001824164614222, 'ha': 0.012547295230377047, 'deal': 0.02427573661988281, 'place': 0.02427573661988281, 'two': 0.01807935668845862, 'world': 0.02833975245058007, 'largest': 0.01807935668845862, 'manufactur': 0.02427573661988281, 'navistar': 0.02427573661988281, 'us': 0.011288723632869821, 'traton': 0.02427573661988281, 'volkswagen': 0.02427573661988281, 'busi': 0.02036625615671422, 'europ': 0.01807935668845862, 'design': 0.013300437398918433, 'build': 0.02036625615671422, 'fulli': 0.01807935668845862, 'autonom': 0.026600874797836866, 'model': 0.02427573661988281, 'hope': 0.01519820409603841, 'launch': 0.016456775693545634, 'photo': 0.007104057467494246, 'yara': 0.02427573661988281, 'birkeland': 0.02427573661988281, 'builder': 0.02427573661988281, 'call': 0.02036625615671422, 'first': 0.011288723632869821, 'cargo': 0.02427573661988281, 'ship': 0.01807935668845862}, 'the ship is sch': {'ship': 0.0696055232505657, 'schedul': 0.09346158598654881, 'make': 0.0696055232505657, 'first': 0.04346158598654881, 'journey': 0.07841008620334976, 'two': 0.0696055232505657, 'norwegian': 0.07841008620334976, 'town': 0.09346158598654881, 'befor': 0.07841008620334976, 'end': 0.07841008620334976, 'year': 0.058513085769747876}, 'click through t': {'click': 0.029670344757634543, 'see': 0.02209699150811609, 'form': 0.029670344757634543, 'transport': 0.020113836958777994, 'set': 0.029670344757634543, 'transform': 0.029670344757634543, 'caption': 0.018038149970380793, '1': 0.02209699150811609, '13': 0.02508096741851909, 'photo': 0.017365473809430376, 'pictur': 0.02489209085820627, 'render': 0.02489209085820627, 'oceanbird': 0.029670344757634543, 'transatlant': 0.029670344757634543, 'car': 0.04022767391755599, 'carrier': 0.029670344757634543, 'cut': 0.02489209085820627, 'carbon': 0.02489209085820627, 'emiss': 0.029670344757634543, '90': 0.029670344757634543, 'compar': 0.029670344757634543, 'standard': 0.029670344757634543, '2': 0.02209699150811609, 'maritim': 0.029670344757634543, 'ship': 0.02209699150811609, 'go': 0.020113836958777994, 'green': 0.029670344757634543}, 'cities around t': {'citi': 0.14079685871144595, 'around': 0.2076924133034418, 'world': 0.12123116326081473, 'adopt': 0.2076924133034418, 'electr': 0.15467894055681264, 'ferri': 0.1742446360074439}, 'norwegian start': {'norwegian': 0.02489209085820627, 'startup': 0.02489209085820627, 'zeabuz': 0.029670344757634543, 'hope': 0.018575582784046942, 'electr': 0.02209699150811609, 'ferri': 0.02489209085820627, 'help': 0.02489209085820627, 'reviv': 0.029670344757634543, 'urban': 0.02489209085820627, 'caption': 0.009019074985190396, '3': 0.02489209085820627, '13': 0.012540483709259545, 'photo': 0.008682736904715188, 'china': 0.037151165568093884, 'new': 0.02209699150811609, 'maglev': 0.029670344757634543, 'train': 0.020113836958777994, 'roll': 0.029670344757634543, 'product': 0.029670344757634543, 'line': 0.02489209085820627, 'qingdao': 0.029670344757634543, 'east': 0.029670344757634543, 'shandong': 0.029670344757634543, 'provinc': 0.029670344757634543, 'juli': 0.029670344757634543, 'ha': 0.015335583059349723, 'top': 0.029670344757634543, 'speed': 0.029670344757634543, '600': 0.029670344757634543, 'km': 0.029670344757634543, 'per': 0.020113836958777994, 'hour': 0.018575582784046942, 'current': 0.02209699150811609, 'fastest': 0.029670344757634543, 'ground': 0.029670344757634543, 'vehicl': 0.01731873760868782, 'avail': 0.020113836958777994, 'global': 0.029670344757634543}, 'hide caption 4 ': {'hide': 0.04179506126410562, 'caption': 0.02029291871667839, '4': 0.06675827570467772, '8': 0.031043989990392006, 'photo': 0.019536158035609177, 'robot': 0.03907231607121835, 'run': 0.028216088345833976, 'warehousesstretch': 0.06675827570467772, 'latest': 0.0560072044309641, 'boston': 0.04525613315725049, 'dynam': 0.0497182308932612, 'work': 0.03657620284702569, 'warehous': 0.03267818608184469, 'distribut': 0.0560072044309641, 'center': 0.0560072044309641}, 'dutch company h': {'dutch': 0.04356115900186097, 'compani': 0.025416366952545868, 'hardt': 0.05192310332586045, 'start': 0.05192310332586045, 'work': 0.028448157769908868, 'hyperloop': 0.08712231800372194, 'test': 0.02414532554808267, 'facil': 0.05192310332586045, 'europ': 0.03866973513920316, 'anticip': 0.05192310332586045, 'open': 0.04356115900186097, 'caption': 0.015783381224083192, '5': 0.04356115900186097, '13': 0.021945846491204204, 'photo': 0.015194789583251581, 'like': 0.03519921467786149, 'bullet': 0.05192310332586045, 'train': 0.03519921467786149, 'without': 0.03866973513920316, 'track': 0.04356115900186097, 'rail': 0.04356115900186097}, 'floating pods a': {'float': 0.14378705536392125, 'pod': 0.10708542038548569, 'propel': 0.14378705536392125, 'steel': 0.14378705536392125, 'tube': 0.14378705536392125, 'use': 0.09002013195345827, 'magnet': 0.14378705536392125, 'levit': 0.14378705536392125}, 'virgin has been': {'virgin': 0.04450551713645181, 'ha': 0.023003374589024583, 'run': 0.018810725563889318, 'test': 0.020695993326928005, 'passeng': 0.024384135231350457, 'vehicl': 0.025978106413031728, 'pictur': 0.0373381362873094, 'caption': 0.013528612477785595, '6': 0.0373381362873094, '13': 0.018810725563889318, 'photo': 0.013024105357072784, 'low': 0.04450551713645181, 'carbon': 0.0373381362873094, 'travel': 0.03314548726217414, 'switch': 0.0373381362873094, 'sustain': 0.03314548726217414, 'fuel': 0.03314548726217414, 'sourc': 0.0373381362873094, 'also': 0.04450551713645181, 'redesign': 0.04450551713645181, 'transport': 0.030170755438166993}, 'a \"flying-v\" pl': {'plane': 0.0692308044344806, 'design': 0.03793087702654516, 'delft': 0.0692308044344806, 'univers': 0.0692308044344806, 'technolog': 0.04693228623714865, 'netherland': 0.0692308044344806, 'dutch': 0.058081545335814624, 'airlin': 0.05155964685227088, 'klm': 0.0692308044344806, 'cut': 0.058081545335814624, 'fuel': 0.05155964685227088, 'consumpt': 0.0692308044344806, '20': 0.0692308044344806}, 'ultimately, res': {'ultim': 0.05051977620894531, 'research': 0.05051977620894531, 'hope': 0.03162869501067453, 'switch': 0.04238383038018906, 'kerosen': 0.05051977620894531, 'sustain': 0.07524921432493589, 'fuel': 0.037624607162467946, 'sourc': 0.04238383038018906, 'like': 0.03424788455143281, 'liquid': 0.05051977620894531, 'caption': 0.015356803353162028, '7': 0.04238383038018906, '13': 0.021352715504955443, 'photo': 0.014784119594515054, 'hydrogen': 0.05051977620894531, 'aviat': 0.05051977620894531, 'could': 0.04238383038018906, 'provid': 0.05051977620894531, 'solut': 0.04238383038018906, 'short': 0.05051977620894531, 'flight': 0.05051977620894531}, 'in september, a': {'septemb': 0.07841008620334976, 'airbu': 0.09346158598654881, 'unveil': 0.09346158598654881, 'plan': 0.06335858642015069, 'three': 0.07841008620334976, 'aircraft': 0.0696055232505657, 'carri': 0.07841008620334976, '100': 0.09346158598654881, '200': 0.07841008620334976, 'passeng': 0.05120668398583597}, 'it hopes to lau': {'hope': 0.0334360490112845, 'launch': 0.03620490652580039, 'first': 0.04967038398462721, 'zero': 0.05340662056374218, 'aircraft': 0.07954916942921793, 'caption': 0.016234334973342715, '8': 0.024835191992313606, '13': 0.022572870676667182, 'photo': 0.01562892642848734, 'decemb': 0.05340662056374218, '2019': 0.05340662056374218, 'canadian': 0.05340662056374218, 'airlin': 0.039774584714608964, 'harbour': 0.04480576354477128, 'air': 0.04480576354477128, 'flew': 0.05340662056374218, 'world': 0.031173727695638073, 'commerci': 0.039774584714608964}, 'the six-seater ': {'seaplan': 0.15576930997758134, 'wa': 0.10559764403358447, 'retrofit': 0.13068347700558292, 'magnix': 0.15576930997758134, 'magni500': 0.15576930997758134, 'motor': 0.15576930997758134}, 'harbour air -- ': {'harbour': 0.0746762725746188, 'air': 0.0746762725746188, 'carri': 0.0746762725746188, 'half': 0.08901103427290362, 'million': 0.06629097452434828, 'passeng': 0.048768270462700915, 'annual': 0.0746762725746188, 'hope': 0.05572674835214083, 'becom': 0.0746762725746188, 'world': 0.051956212826063455, 'first': 0.04139198665385601, 'airlin': 0.06629097452434828}, 'hide caption 9 ': {'hide': 0.0334360490112845, 'caption': 0.016234334973342715, '9': 0.05340662056374218, '13': 0.022572870676667182, 'photo': 0.01562892642848734, 'case': 0.05340662056374218, 'electr': 0.039774584714608964, 'bike': 0.05340662056374218, 'futur': 0.05340662056374218, 'one': 0.0334360490112845, 'retail': 0.05340662056374218, 'report': 0.05340662056374218, 'sale': 0.05340662056374218, 'increas': 0.04480576354477128, '230': 0.05340662056374218, 'thi': 0.03620490652580039, 'year': 0.0334360490112845}, 'e-bikes give th': {'give': 0.09838061682794612, 'user': 0.09838061682794612, 'boost': 0.09838061682794612, 'pedal': 0.09838061682794612, 'allow': 0.07326897184270073, 'go': 0.06669324886331651, 'less': 0.09838061682794612, 'effort': 0.09838061682794612}, 'e-bikes are now': {'even': 0.013451284084999512, 'avail': 0.01456519228049441, 'app': 0.02148542206587329, 'like': 0.01456519228049441, 'caption': 0.013062108599241264, '10': 0.01802530717318385, '13': 0.018162079854789685, 'photo': 0.012574998275794412, 'sleeper': 0.02148542206587329, 'train': 0.01456519228049441, 'buse': 0.02148542206587329, 'might': 0.0360506143463677, 'way': 0.016001269712773724, 'us': 0.009991169192310072, 'get': 0.012541154820084282, 'overnight': 0.02148542206587329, 'travel': 0.016001269712773724, 'thi': 0.01456519228049441, 'render': 0.01802530717318385, 'hotel': 0.02148542206587329, 'suit': 0.02148542206587329, 'design': 0.023543302981993548, 'steve': 0.02148542206587329, 'lee': 0.02148542206587329, 'aprilli': 0.02148542206587329, 'studio': 0.02148542206587329, 'offer': 0.02148542206587329, 'plush': 0.02148542206587329, 'altern': 0.02148542206587329, '11': 0.01456519228049441, 'uae': 0.02148542206587329, 'pod': 0.016001269712773724, 'undergo': 0.02148542206587329, 'test': 0.009991169192310072, 'line': 0.01802530717318385, 'sharjah': 0.02148542206587329, 'border': 0.02148542206587329, 'dubai': 0.02148542206587329}, 'belarus-based u': {'uski': 0.05192310332586045, 'transport': 0.07039842935572298, 'say': 0.03519921467786149, 'pod': 0.03866973513920316, 'help': 0.04356115900186097, 'citi': 0.03519921467786149, 'solv': 0.05192310332586045, 'traffic': 0.04356115900186097, 'caption': 0.015783381224083192, '12': 0.05192310332586045, '13': 0.021945846491204204, 'photo': 0.015194789583251581, 'coradia': 0.05192310332586045, 'ilint': 0.05192310332586045, 'french': 0.05192310332586045, 'rail': 0.04356115900186097, 'compani': 0.025416366952545868, 'alstom': 0.05192310332586045, 'world': 0.030307790815203683, 'first': 0.02414532554808267, 'passeng': 0.028448157769908868, 'train': 0.03519921467786149}, 'it began testin': {'began': 0.045591017554414054, 'test': 0.042401547303950064, 'germani': 0.045591017554414054, '2018': 0.045591017554414054, 'septemb': 0.038248822538219394, '2020': 0.045591017554414054, 'enter': 0.038248822538219394, 'regular': 0.045591017554414054, 'servic': 0.045591017554414054, 'caption': 0.013858578635780366, '13': 0.019269523748374425, '13no': 0.045591017554414054, 'sleeptusimpl': 0.045591017554414054, 'latest': 0.038248822538219394, 'road': 0.028542968668169695, 'involv': 0.033953913780763754, 'haul': 0.045591017554414054, 'fresh': 0.045591017554414054, 'produc': 0.038248822538219394, '951': 0.045591017554414054, 'mile': 0.024978870236993155, 'nogal': 0.045591017554414054, 'arizona': 0.038248822538219394, 'oklahoma': 0.045591017554414054, 'citi': 0.030906627522024725}, 'the pickup and ': {'pickup': 0.052273390802233165, 'dropoff': 0.06230772399103254, 'handl': 0.052273390802233165, 'human': 0.02759463448575837, 'driver': 0.019682603959271572, 'bulk': 0.06230772399103254, 'rout': 0.03636934897824442, 'tucson': 0.06230772399103254, 'dalla': 0.06230772399103254, 'truck': 0.015141945725338609, 'drove': 0.052273390802233165}, 'read more\"today': {'read': 0.027037960759775777, 'today': 0.024001904569160584, 'becaus': 0.020176926127499266, 'system': 0.020176926127499266, 'fulli': 0.024001904569160584, 'readi': 0.03222813309880993, 'safeti': 0.04369557684148323, 'driver': 0.020361314440625763, 'engin': 0.03222813309880993, 'board': 0.03222813309880993, 'time': 0.021847788420741615, 'test': 0.014986753788465108, 'drove': 0.027037960759775777, 'full': 0.027037960759775777, 'autonomi': 0.021847788420741615, 'wa': 0.021847788420741615, 'touch': 0.03222813309880993, 'wheel': 0.03222813309880993, 'said': 0.016657616081707457, 'cheng': 0.03222813309880993, 'lu': 0.014986753788465108, 'tusimpl': 0.011950697597849913, 'presid': 0.03222813309880993, 'ceo': 0.03222813309880993}, 'the journey was': {'journey': 0.06031545092565366, 'wa': 0.04873737416934668, 'complet': 0.06031545092565366, '14': 0.07189352768196063, 'hour': 0.04501006597672914, 'versu': 0.07189352768196063, 'usual': 0.07189352768196063, '24': 0.07189352768196063, 'human': 0.03183996286818273, 'driver': 0.022710696876082584, 'mostli': 0.07189352768196063, 'becaus': 0.04501006597672914, 'truck': 0.017471475836929165, 'doe': 0.04501006597672914, 'need': 0.05354271019274284, 'sleep': 0.07189352768196063}, '\"in the us, a d': {'us': 0.057948781315398414, 'driver': 0.039365207918543144, 'onli': 0.0928073643340876, 'work': 0.06827557864778129, '11': 0.08447811522686759, 'hour': 0.07801744769299716, 'day': 0.07801744769299716}, 'we simply had a': {'simpli': 0.058081545335814624, 'handoff': 0.0692308044344806, 'first': 0.03219376739744356, 'pair': 0.0692308044344806, 'driver': 0.02186955995474619, 'stop': 0.0692308044344806, 'becaus': 0.043343026496109535, 'reach': 0.0692308044344806, '11': 0.04693228623714865, 'hour': 0.043343026496109535, 'oper': 0.05155964685227088, 'said': 0.035783027138482686, 'lu': 0.03219376739744356}, 'that, of course': {'cours': 0.05192310332586045, 'negat': 0.05192310332586045, 'advantag': 0.04356115900186097, 'autonom': 0.028448157769908868, 'system': 0.03250726987208215, 'idea': 0.05192310332586045, 'onc': 0.05192310332586045, 'tusimpl': 0.01925390168542486, 'truck': 0.01261828810444884, 'hit': 0.05192310332586045, 'market': 0.05192310332586045, 'need': 0.03866973513920316, 'anyon': 0.05192310332586045, 'onboard': 0.05192310332586045}, 'picking up the ': {'pick': 0.029040772667907312, 'watermelon': 0.0346154022172403, 'still': 0.04693228623714865, 'requir': 0.05155964685227088, 'human': 0.015330352492087982, 'car': 0.023466143118574326, 'way': 0.02577982342613544, 'commerci': 0.02577982342613544, 'avail': 0.023466143118574326, 'tusimpl': 0.012835934456949907, 'truck': 0.00841219206963256, 'wo': 0.0346154022172403, 'oper': 0.02577982342613544, 'bustl': 0.0346154022172403, 'citi': 0.023466143118574326, 'traffic': 0.029040772667907312, 'onli': 0.02577982342613544, 'stretch': 0.02577982342613544, 'highway': 0.0346154022172403, 'thoroughli': 0.0346154022172403, 'map': 0.021671513248054768, 'via': 0.0346154022172403, 'compani': 0.016944244635030577, 'softwar': 0.029040772667907312}, '\"we collect dat': {'collect': 0.08496507816958983, 'data': 0.08496507816958983, 'road': 0.053193714336134436, 'creat': 0.06327774840960518, 'thi': 0.057598714927409714, 'veri': 0.08496507816958983, 'detail': 0.08496507816958983, 'high': 0.08496507816958983, 'definit': 0.08496507816958983, 'map': 0.053193714336134436, 'rout': 0.04959456678851512}, 'that adds anoth': {'add': 0.1120144088619282, 'anoth': 0.13351655140935545, 'layer': 0.13351655140935545, 'safeti': 0.09051226631450097, 'vehicl': 0.07793431923909518, 'said': 0.06901012376707376, 'lu': 0.06208797998078401}, 'as a result, tu': {'result': 0.0505871523892579, 'tusimpl': 0.022359369699203064, 'truck': 0.014653495863230911, 'onli': 0.044906789193913346, 'abl': 0.0505871523892579, 'along': 0.06029779741067665, 'trade': 0.0505871523892579, 'corridor': 0.0505871523892579, 'lu': 0.02803973289454762, 'call': 0.0505871523892579, 'virtual': 0.0505871523892579, 'railroad': 0.06029779741067665, 'nowher': 0.06029779741067665, 'els': 0.06029779741067665}, 'this swarm of r': {'thi': 0.02696110060431944, 'swarm': 0.039770887653850555, 'robot': 0.011638562233979934, 'get': 0.023214478071219843, 'smarter': 0.039770887653850555, 'worksaccord': 0.039770887653850555, 'compani': 0.01946785553812024, 'us': 0.018494291909169708, '80': 0.033365994129084996, 'good': 0.033365994129084996, 'travel': 0.029619371595985402, '10': 0.033365994129084996, 'nation': 0.033365994129084996, 'trade': 0.033365994129084996, 'corridor': 0.033365994129084996, 'even': 0.024899185433935263, 'select': 0.039770887653850555, 'map': 0.024899185433935263, 'allow': 0.029619371595985402, 'captur': 0.039770887653850555, 'larg': 0.039770887653850555, 'portion': 0.039770887653850555, 'busi': 0.033365994129084996}, 'tusimple is cur': {'tusimpl': 0.014747669376070105, 'current': 0.059238743191970804, 'map': 0.04979837086787053, 'rout': 0.046428956142439685, 'arizona': 0.033365994129084996, 'texa': 0.039770887653850555, 'plan': 0.05392220120863888, 'across': 0.033365994129084996, 'nation': 0.033365994129084996, 'depend': 0.039770887653850555, 'state': 0.06673198825816999, 'legisl': 0.039770887653850555, 'howev': 0.039770887653850555, 'becaus': 0.024899185433935263, 'allow': 0.029619371595985402, 'test': 0.018494291909169708, 'autonom': 0.02179007829184509, 'truck': 0.009665071739577836, 'public': 0.039770887653850555, 'road': 0.024899185433935263}, 'happier drivers': {'happier': 0.07476926878923905, 'driver': 0.023619124751125885, 'technolog': 0.05068686913612055, 'add': 0.0627280689626798, 'cost': 0.05068686913612055, 'truck': 0.01817033487040633, 'make': 0.055684418600452555, 'final': 0.07476926878923905, 'price': 0.07476926878923905, 'roughli': 0.07476926878923905}, 'according to lu': {'accord': 0.10454678160446633, 'lu': 0.057948781315398414, 'still': 0.08447811522686759, 'cheaper': 0.12461544798206509, 'pay': 0.12461544798206509, 'human': 0.05518926897151674, 'driver': 0.039365207918543144}, '\"if you take $5': {'take': 0.040876507367839154, 'divid': 0.06029779741067665, '1': 0.044906789193913346, 'million': 0.044906789193913346, 'mile': 0.06607314062688512, 'averag': 0.0505871523892579, 'lifespan': 0.06029779741067665, 'truck': 0.014653495863230911, 'mean': 0.040876507367839154, 'ad': 0.06029779741067665, 'five': 0.06029779741067665, 'cent': 0.0505871523892579, 'per': 0.040876507367839154}, \"but you're savi\": {'save': 0.05192310332586045, 'cost': 0.03519921467786149, 'human': 0.022995528738131973, 'driver': 0.016402169966059643, 'base': 0.04356115900186097, 'averag': 0.04356115900186097, 'us': 0.02414532554808267, 'wage': 0.05192310332586045, 'per': 0.07039842935572298, 'year': 0.03250726987208215, '80': 0.04356115900186097, 'cent': 0.04356115900186097, 'mile': 0.028448157769908868}, 'today, the dire': {'today': 0.06327774840960518, 'direct': 0.08496507816958983, 'labor': 0.08496507816958983, 'cost': 0.11519742985481943, '50': 0.08496507816958983, 'oper': 0.06327774840960518, 'truck': 0.020648107807279922, 'said': 0.043915533306319664}, 'read: a robotic': {'read': 0.06031545092565366, 'robot': 0.02103893942296373, 'could': 0.06031545092565366, 'protect': 0.06031545092565366, 'factori': 0.07189352768196063, 'worker': 0.06031545092565366, 'injuriesthat': 0.07189352768196063, 'doe': 0.04501006597672914, 'mean': 0.04873737416934668, 'driverless': 0.06031545092565366, 'truck': 0.017471475836929165, 'take': 0.04873737416934668, 'away': 0.07189352768196063, 'job': 0.05354271019274284, 'accord': 0.06031545092565366, 'lu': 0.03343198922042216}, 'by focusing on ': {'focus': 0.042482539084794914, 'middl': 0.042482539084794914, 'mile': 0.023275765448107257, 'rather': 0.042482539084794914, 'pickup': 0.035640948274249885, 'deliveri': 0.042482539084794914, 'good': 0.035640948274249885, 'tusimpl': 0.015753192288074886, 'believ': 0.03163887420480259, 'creat': 0.06327774840960518, 'new': 0.06327774840960518, 'freight': 0.042482539084794914, 'capac': 0.042482539084794914, 'without': 0.03163887420480259, 'demand': 0.042482539084794914, 'driver': 0.01341995724495789, 'time': 0.028799357463704857, 'protect': 0.035640948274249885, 'exist': 0.042482539084794914, 'job': 0.03163887420480259}, '\"a ups driver i': {'driver': 0.028118005656102243, 'drop': 0.08901103427290362, '200': 0.0746762725746188, 'packag': 0.0746762725746188, 'day': 0.05572674835214083, 'autonomi': 0.060341510876333986, 'meant': 0.08901103427290362}, 'we believe that': {'believ': 0.05354271019274284, 'everi': 0.06031545092565366, 'driver': 0.04542139375216517, 'abl': 0.06031545092565366, 'retir': 0.07189352768196063, 'even': 0.04501006597672914, 'enter': 0.06031545092565366, 'workforc': 0.07189352768196063, 'today': 0.05354271019274284, 'said': 0.037159297413039714, 'lu': 0.03343198922042216}, \"tusimple's auto\": {'tusimpl': 0.053318496975022694, 'autonom': 0.039389756912181516, 'aim': 0.07189352768196063, 'take': 0.04873737416934668, 'rout': 0.041964633436435875, 'termin': 0.07189352768196063, 'distribut': 0.06031545092565366, 'center': 0.06031545092565366, 'involv': 0.05354271019274284, 'long': 0.06031545092565366, 'stretch': 0.05354271019274284, 'monoton': 0.07189352768196063, 'drive': 0.05354271019274284}, '\"take phoenix t': {'take': 0.09747474833869336, 'phoenix': 0.14378705536392125, 'el': 0.14378705536392125, 'paso': 0.14378705536392125, 'drive': 0.10708542038548569}, 'a person cannot': {'person': 0.1099548070429986, 'make': 0.08188885088301846, 'round': 0.1099548070429986, 'trip': 0.1099548070429986, 'becaus': 0.06883892443499749, '11': 0.0745395134354714, 'hour': 0.06883892443499749}, 'but the truck c': {'truck': 0.019750363989572098, 'go': 0.05509442297404407, 'back': 0.0812709443361294, 'forth': 0.0812709443361294, 'day': 0.05088094414760685, 'mundan': 0.0812709443361294, 'job': 0.060526541957013645, 'driver': 0.0256729616860064, 'want': 0.0812709443361294}, 'that means you ': {'mean': 0.013199705504198059, 'free': 0.019471163747197668, 'human': 0.01724664655359898, 'driver': 0.012301627474544732, 'first': 0.018108994161062004, 'last': 0.019471163747197668, 'mile': 0.010668059163715826, 'get': 0.022730843111402763, 'work': 0.010668059163715826, 'full': 0.016335434625697864, 'day': 0.012190226202030807, 'effici': 0.019471163747197668, 'use': 0.012190226202030807, 'time': 0.013199705504198059, 'go': 0.013199705504198059, 'home': 0.019471163747197668, 'night': 0.016335434625697864, 'famili': 0.019471163747197668, 'said': 0.010063976382698256, 'distract': 0.016335434625697864, 'although': 0.016335434625697864, 'lu': 0.009054497080531002, 'say': 0.013199705504198059, 'reliabl': 0.019471163747197668, 'softwar': 0.016335434625697864, 'hardwar': 0.019471163747197668, 'still': 0.013199705504198059, 'need': 0.014501150677201185, 'increas': 0.016335434625697864, 'tusimpl': 0.007220213132034322, 'plan': 0.013199705504198059, 'fulli': 0.014501150677201185, 'autonom': 0.010668059163715826, 'test': 0.009054497080531002, 'without': 0.014501150677201185, 'safeti': 0.013199705504198059, 'cabin': 0.019471163747197668, 'befor': 0.016335434625697864, 'end': 0.016335434625697864, 'year': 0.012190226202030807}, 'the results of ': {'result': 0.04752126436566652, 'test': 0.026340355143362918, 'indic': 0.05664338544639322, 'whether': 0.05664338544639322, 'compani': 0.027726945766413675, 'meet': 0.05664338544639322, 'goal': 0.05664338544639322, 'launch': 0.03839914328493981, 'truck': 0.013765405204853282, 'lu': 0.026340355143362918, 'say': 0.03839914328493981, 'reserv': 0.05664338544639322, 'us': 0.026340355143362918, 'alon': 0.05664338544639322}, 'photos: the rob': {'photo': 0.04972840227245972, 'robot': 0.04972840227245972, 'run': 0.07182277033485013, 'warehous': 0.08318083729924103, 'warehousesrobot': 0.07128189654849977, 'increasingli': 0.08496507816958983, 'familiar': 0.08496507816958983, 'presenc': 0.08496507816958983}, 'at the south-ea': {'london': 0.1038462066517209, 'warehous': 0.050832733905091736, 'run': 0.04389169298240841, 'british': 0.1038462066517209, 'onlin': 0.08712231800372194, 'supermarket': 0.1038462066517209, 'ocado': 0.1038462066517209, 'robot': 0.030389579166503162, 'fulfil': 0.1038462066517209, 'shop': 0.07733947027840632, 'order': 0.08712231800372194}, 'when an order i': {'order': 0.07128189654849977, 'sent': 0.08496507816958983, 'warehous': 0.041590418649620514, 'bot': 0.08496507816958983, 'spring': 0.08496507816958983, 'life': 0.08496507816958983, 'head': 0.08496507816958983, 'toward': 0.08496507816958983, 'contain': 0.08496507816958983, 'requir': 0.06327774840960518}, 'scroll through ': {'scroll': 0.03064314294640945, 'see': 0.02282148303297236, 'robot': 0.03586966721292177, 'revolution': 0.03064314294640945, 'caption': 0.009314782361754016, '1': 0.02282148303297236, '8': 0.014249700323458627, 'photo': 0.008967416803230443, 'run': 0.012951647109563138, 'warehousesin': 0.03064314294640945, 'respons': 0.03064314294640945, 'coronaviru': 0.03064314294640945, 'pandem': 0.025708224984704837, 'mit': 0.03064314294640945, 'collabor': 0.03064314294640945, 'ava': 0.03064314294640945, 'greater': 0.03064314294640945, 'boston': 0.020773307023000225, 'food': 0.03064314294640945, 'bank': 0.03064314294640945, 'design': 0.01678907671666753, 'use': 0.019184618285163237, 'uv': 0.03064314294640945, 'light': 0.03064314294640945, 'sanit': 0.03064314294640945, 'floor': 0.03064314294640945, 'foot': 0.03064314294640945, 'warehous': 0.014999823119535268, '30': 0.025708224984704837, 'minut': 0.03064314294640945}, 'hide caption 2 ': {'hide': 0.0334360490112845, 'caption': 0.016234334973342715, '2': 0.039774584714608964, '8': 0.024835191992313606, 'photo': 0.01562892642848734, 'robot': 0.03125785285697468, 'run': 0.022572870676667182, 'produc': 0.04480576354477128, 'japanes': 0.05340662056374218, 'startup': 0.04480576354477128, 'telexist': 0.05340662056374218, 'stack': 0.05340662056374218, 'shelv': 0.05340662056374218, 'two': 0.039774584714608964, 'tokyo': 0.05340662056374218, 'largest': 0.039774584714608964, 'conveni': 0.05340662056374218, 'store': 0.05340662056374218, 'franchis': 0.05340662056374218}, 'featuring camer': {'featur': 0.0692308044344806, 'camera': 0.0692308044344806, 'microphon': 0.0692308044344806, 'sensor': 0.0692308044344806, 'use': 0.043343026496109535, 'three': 0.058081545335814624, 'finger': 0.0692308044344806, 'stock': 0.0692308044344806, 'item': 0.0692308044344806, 'bottl': 0.0692308044344806, 'drink': 0.0692308044344806, 'rice': 0.0692308044344806, 'bowl': 0.0692308044344806}, 'the robot is co': {'robot': 0.05293668629003777, 'control': 0.06029779741067665, 'shop': 0.044906789193913346, 'staff': 0.06029779741067665, 'caption': 0.01832908787312887, '3': 0.0505871523892579, '8': 0.02803973289454762, 'photo': 0.017645562096679255, 'run': 0.025485499151075848, 'warehousesu': 0.06029779741067665, 'compani': 0.02951578097715004, 'boston': 0.040876507367839154, 'dynam': 0.044906789193913346, 'ha': 0.031165862346420405, 'becom': 0.0505871523892579, 'known': 0.06029779741067665, 'advanc': 0.06029779741067665, 'work': 0.03303657031344256}, '\"handle\" is mad': {'handl': 0.09801260775418719, 'made': 0.11682698248318601, 'warehous': 0.057186825643228203, 'equip': 0.11682698248318601, 'vision': 0.11682698248318601, 'system': 0.07314135721218484}, 'it can lift box': {'lift': 0.1742446360074439, 'box': 0.1742446360074439, 'weigh': 0.2076924133034418, '30': 0.1742446360074439, 'pound': 0.2076924133034418}, 'designed to kee': {'design': 0.048768270462700915, 'keep': 0.08901103427290362, 'human': 0.03942090640822624, 'worker': 0.0746762725746188, 'harm': 0.08901103427290362, 'way': 0.06629097452434828, 'stretch': 0.06629097452434828, 'gripper': 0.08901103427290362, 'mean': 0.060341510876333986, 'manipul': 0.08901103427290362, 'box': 0.0746762725746188}, 'hide caption 5 ': {'hide': 0.02250503298836457, 'caption': 0.010926956232057597, '5': 0.03015772546282683, '8': 0.01671599461021108, 'photo': 0.010519469711481865, 'robot': 0.02103893942296373, 'run': 0.01519327834006445, 'warehousesalthough': 0.03594676384098031, 'specif': 0.03594676384098031, 'design': 0.019694878456090758, 'warehous': 0.017595946351762527, 'boston': 0.02436868708467334, 'dynam': 0.02677135509637142, 'spot': 0.03594676384098031, 'lift': 0.03015772546282683, 'object': 0.03594676384098031, 'pick': 0.03015772546282683, 'fall': 0.03594676384098031, 'open': 0.03015772546282683, 'walk': 0.03594676384098031, 'door': 0.03594676384098031, 'even': 0.02250503298836457, 'remind': 0.03594676384098031, 'peopl': 0.03594676384098031, 'practic': 0.03594676384098031, 'social': 0.03594676384098031, 'distanc': 0.03594676384098031}, 'hide caption 6 ': {'hide': 0.0334360490112845, 'caption': 0.016234334973342715, '6': 0.04480576354477128, '8': 0.024835191992313606, 'photo': 0.01562892642848734, 'robot': 0.03125785285697468, 'run': 0.022572870676667182, 'warehousesthi': 0.05340662056374218, 'use': 0.0334360490112845, 'plant': 0.08961152708954256, 'seed': 0.05340662056374218, 'check': 0.05340662056374218, 'nordic': 0.05340662056374218, 'harvest': 0.05340662056374218, 'vertic': 0.05340662056374218, 'farm': 0.04480576354477128, 'base': 0.04480576354477128, 'taastrup': 0.05340662056374218, 'denmark': 0.05340662056374218}, 'the indoor farm': {'indoor': 0.021002603592482877, 'farm': 0.01762024409064039, 'one': 0.02629801607629118, 'biggest': 0.01762024409064039, 'caption': 0.012768578068921236, '7': 0.01762024409064039, '8': 0.02929994560890931, 'photo': 0.0061462070224388415, 'robot': 0.0061462070224388415, 'run': 0.017753943228839355, 'warehousesrobot': 0.01762024409064039, 'sort': 0.021002603592482877, 'packag': 0.01762024409064039, 'warehous': 0.010280777643726419, 'china': 0.02629801607629118, 'largest': 0.01564169061810465, 'firm': 0.01762024409064039, 'wuhan': 0.021002603592482877, 'ahead': 0.021002603592482877, 'annual': 0.01762024409064039, 'singl': 0.021002603592482877, 'day': 0.01314900803814559, 'onlin': 0.01762024409064039, 'shop': 0.01564169061810465, 'bonanza': 0.021002603592482877, 'tusimpl': 0.0077880950637673595, 'ha': 0.010855525086955422, 'promin': 0.021002603592482877, 'competitor': 0.01762024409064039, 'googl': 0.021002603592482877, 'spinoff': 0.021002603592482877, 'waymo': 0.021002603592482877, 'aurora': 0.021002603592482877, 'work': 0.011507119996817071, 'wider': 0.021002603592482877, 'rang': 0.021002603592482877, 'vehicl': 0.012259331116262163, 'includ': 0.021002603592482877, 'passeng': 0.011507119996817071, 'car': 0.014237884588797907}, 'tusimple is wor': {'tusimpl': 0.046209364045019664, 'work': 0.06827557864778129, 'exclus': 0.12461544798206509, 'driverless': 0.10454678160446633, 'truck': 0.030283891450677218, 'like': 0.08447811522686759, 'us': 0.057948781315398414, 'compani': 0.06099928068611008, 'plu': 0.12461544798206509, 'embark': 0.12461544798206509}, 'grayson brulte,': {'grayson': 0.08901103427290362, 'brult': 0.1493525451492376, 'autonomi': 0.060341510876333986, 'expert': 0.08901103427290362, 'consult': 0.08901103427290362, 'firm': 0.0746762725746188, 'believ': 0.06629097452434828, 'tusimpl': 0.03300668860358547, 'right': 0.0746762725746188, 'track': 0.0746762725746188}, '\"the biggest co': {'biggest': 0.07841008620334976, 'competit': 0.09346158598654881, 'advantag': 0.07841008620334976, 'tusimpl': 0.03465702303376475, 'ha': 0.04830708663695163, 'competitor': 0.07841008620334976, 'technolog': 0.06335858642015069, 'wa': 0.06335858642015069, 'truck': 0.022712918588007915}, \"they're not try\": {'tri': 0.05340662056374218, 'port': 0.05340662056374218, 'autonomi': 0.03620490652580039, 'system': 0.0334360490112845, 'built': 0.05340662056374218, 'passeng': 0.0585219245552411, 'vehicl': 0.062347455391276146, 'dens': 0.05340662056374218, 'urban': 0.04480576354477128, 'environ': 0.05340662056374218, 'truck': 0.025957621243437614, 'build': 0.04480576354477128, 'virtual': 0.04480576354477128, 'driver': 0.016870803393661347, 'drive': 0.039774584714608964}, 'these are diffe': {'differ': 0.24126180370261463, 'skill': 0.14378705536392125, 'system': 0.09002013195345827, 'altogeth': 0.14378705536392125, 'said': 0.07431859482607943}, 'removing the hu': {'remov': 0.15576930997758134, 'human': 0.06898658621439592, 'element': 0.15576930997758134, 'long': 0.13068347700558292, 'truck': 0.03785486431334652, 'rout': 0.09092337244561105, 'ha': 0.08051181106158604, 'benefit': 0.15576930997758134}, 'the company say': {'compani': 0.036599568411666054, 'say': 0.05068686913612055, 'truck': 0.01817033487040633, 'react': 0.07476926878923905, '15': 0.07476926878923905, 'time': 0.05068686913612055, 'faster': 0.07476926878923905, 'human': 0.033113561382910044, 'driver': 0.023619124751125885, 'see': 0.055684418600452555, 'farther': 0.07476926878923905, 'road': 0.0468104686157983, 'even': 0.0468104686157983, 'night': 0.0627280689626798}, '\"in the us ever': {'us': 0.03343198922042216, 'everi': 0.06031545092565366, 'year': 0.04501006597672914, 'fatal': 0.07189352768196063, 'involv': 0.05354271019274284, 'truck': 0.017471475836929165, 'due': 0.07189352768196063, 'human': 0.03183996286818273, 'error': 0.07189352768196063, 'said': 0.037159297413039714, 'lu': 0.03343198922042216}, '\"the truck does': {'truck': 0.023908335355797804, 'doe': 0.123185443725785, 'get': 0.05742528786038592, 'tire': 0.09838061682794612, 'watch': 0.09838061682794612, 'movi': 0.09838061682794612, 'look': 0.09838061682794612, 'phone': 0.09838061682794612}, \"it doesn't get \": {'doe': 0.16718024505642248, 'get': 0.15586863847819035, 'distract': 0.2240288177238564}}\n",
            "Sentence Scores {' right now, the': 0.13938225675777155, 'one solution to': 0.1441144129695165, 'among them is s': 0.0919005831529044, 'although these ': 0.0459309561611489, 'the ship is sch': 0.1509462298578742, 'click through t': 0.061236098226713595, 'cities around t': 0.28661948930620007, 'norwegian start': 0.04980697255618727, 'hide caption 4 ': 0.10285771563159171, 'dutch company h': 0.0837825180384334, 'floating pods a': 0.22886976494694128, 'virgin has been': 0.07511617026045524, 'a \"flying-v\" pl': 0.1277686556200878, 'ultimately, res': 0.08622005351289076, 'in september, a': 0.16165417240269073, 'it hopes to lau': 0.09186838737130791, 'the six-seater ': 0.26562262299278466, 'harbour air -- ': 0.13790904342226581, 'hide caption 9 ': 0.09459902768930382, 'e-bikes give th': 0.19224954685263265, 'e-bikes are now': 0.043872081297280895, 'belarus-based u': 0.08130663770432159, 'it began testin': 0.07607074503055908, 'the pickup and ': 0.12540330012662024, 'read more\"today': 0.06461914745055791, 'the journey was': 0.10948967563626721, '\"in the us, a d': 0.18736374285358404, 'we simply had a': 0.11730163364596369, 'that, of course': 0.10602955587865416, 'picking up the ': 0.06671193791138956, '\"we collect dat': 0.14888741065127817, 'that adds anoth': 0.2098240251227616, 'as a result, tu': 0.11031156610860994, 'this swarm of r': 0.07169881562071663, 'tusimple is cur': 0.0818660730526722, 'happier drivers': 0.14187752369216924, 'according to lu': 0.1988448813751153, '\"if you take $5': 0.1168239451001916, \"but you're savi\": 0.10772763847050104, 'today, the dire': 0.1734679780329332, 'read: a robotic': 0.10856136574048732, 'by focusing on ': 0.08330969282759867, '\"a ups driver i': 0.18394510982245274, 'we believe that': 0.13273679790739368, \"tusimple's auto\": 0.12433323770671843, '\"take phoenix t': 0.2726535558026571, 'a person cannot': 0.20299632928968508, 'but the truck c': 0.15370090120987606, 'that means you ': 0.03894415435653164, 'the results of ': 0.10564621866768409, 'photos: the rob': 0.17562639369292, 'at the south-ea': 0.15799409546653817, 'when an order i': 0.16099141916316856, 'scroll through ': 0.057132028550955144, 'hide caption 2 ': 0.08900767358411885, 'featuring camer': 0.13306881575794363, 'the robot is co': 0.09313200839631827, '\"handle\" is mad': 0.22554596257987974, 'it can lift box': 0.3230197891048692, 'designed to kee': 0.1488757765864008, 'hide caption 5 ': 0.0628509871151956, 'hide caption 6 ': 0.09143415285920743, 'the indoor farm': 0.04146823909712566, 'tusimple is wor': 0.16605346699295598, 'grayson brulte,': 0.16364123997237023, '\"the biggest co': 0.15610860456956238, \"they're not try\": 0.10466023364302092, 'these are diffe': 0.28219577353499914, 'removing the hu': 0.20847422677480737, 'the company say': 0.1149324551760023, '\"in the us ever': 0.1273236270583336, '\"the truck does': 0.1884913501201888, \"it doesn't get \": 0.38676942531461733}\n",
            "Threshold 0.13730928905389636\n",
            "\n",
            "Original document\n",
            "  right now, there's a shortage of truck drivers in the us and worldwide, exacerbated by the e-commerce boom brought on by the pandemic. one solution to the problem is autonomous trucks, and several companies are in a race to be the first to launch one. among them is san diego-based tusimple.founded in 2015, tusimple has completed about 2 million miles of road tests with its 70 prototype trucks across the us, china and europe. although these are simply commercially available trucks retrofitted with its technology, tusimple has deals in place with two of the world's largest truck manufacturers -- navistar in the us and traton, volkswagen's trucking business, in europe -- to design and build fully autonomous models, which it hopes to launch by 2024. photos: the yara birkeland is what its builders call the world's first zero-emission, autonomous cargo ship. the ship is scheduled to make its first journey between two norwegian towns before the end of the year. click through to see more forms of transport set to transform the future.hide caption 1 of 13 photos: pictured here as a rendering, oceanbird is a wind-powered transatlantic car carrier that cuts carbon emissions by 90%, compared to a standard car carrier.hide caption 2 of 13 photos: it's not just maritime ships that are going green. cities around the world are adopting electric ferries. norwegian startup zeabuz hopes its self-driving electric ferry  will help revive urban waterways.hide caption 3 of 13 photos: in china, a new maglev high-speed train rolls off the production line in qingdao, east china's shandong province, on july 20. it has a top speed of 600 km per hour -- currently the fastest ground vehicle available globally. hide caption 4 of 13 photos: reaching speeds of up to 1,000 kilometers  per hour, hyperloop could be a sustainable replacement to short-haul flights. dutch company hardt  started work on its hyperloop test facility in europe, anticipated to open in 2022.hide caption 5 of 13 photos: hyperloop is like a bullet train, without tracks and rails. floating pods are propelled through a low-pressure steel tube using magnetic levitation. virgin has been running tests with passengers on its xp-2 vehicle, pictured here.hide caption 6 of 13 photos: low carbon travel isn't just about switching to sustainable fuel sources -- it's also about redesigning the transport itself. a \"flying-v\" plane designed by delft's university of technology in the netherlands and dutch airline klm can cut fuel consumption by 20%. ultimately, researchers hope to switch out the kerosene with a sustainable fuel source, like liquid hydrogen.hide caption 7 of 13 photos: hydrogen aviation could provide a sustainable solution for short and medium-haul flights. in september, airbus unveiled plans for three hydrogen-powered, zero-emission aircraft which can carry 100 to 200 passengers. it hopes to launch the first zeroe aircraft in 2035.hide caption 8 of 13 photos: in december 2019, canadian airline harbour air flew the world's first all-electric, zero-emission commercial aircraft. the six-seater seaplane was retrofitted with magnix's magni500 all-electric motor. harbour air -- which carries half a million passengers annually -- hopes to become the world's first all-electric airline. hide caption 9 of 13 photos: in the case of electric bikes, the future is now: one retailer reported the sale of e-bikes and e-scooters had increased 230% this year. e-bikes give the user a boost to their pedaling, allowing them to go further with less effort. e-bikes are now even available on ride-share apps, like uber.hide caption 10 of 13 photos: while sleeper trains or buses might be the way most of us get some shut-eye on overnight travel, this rendering of a self-driving hotel suite from toronto-based designer steve lee of aprilli design studio might offer a plush alternative in the future.hide caption 11 of 13 photos: in the uae, these futuristic-looking pods are undergoing testing on a 400-meter line in sharjah, which borders dubai. belarus-based usky transport says its pods can help cities solve traffic problems.hide caption 12 of 13 photos: the coradia ilint by french rail transport company alstom is the world's first hydrogen-powered passenger train. it began testing in germany in 2018, and in september 2020 entered regular service in austria.hide caption 13 of 13no sleeptusimple's latest road test involved hauling fresh produce 951 miles, from nogales, arizona to oklahoma city. the pickup and the dropoff were handled by a human driver, but for the bulk of the route -- from tucson to dallas -- the truck drove itself. read more\"today, because the system is not fully ready, we have a safety driver and a safety engineer on board at all times when we're testing, but we drove in full autonomy: the driver wasn't touching the wheel,\" said cheng lu, tusimple's president and ceo. the journey was completed in 14 hours versus the usual 24 with a human driver, mostly because a truck doesn't need to sleep. \"in the us, a driver can only work 11 hours a day. we simply had a handoff when our first pair of drivers had to stop because they reached their 11 hours of operation,\" said lu. that, of course, negates the advantage of an autonomous system, so the idea is that once tusimple's trucks hit the market, there will be no need to have anyone onboard. picking up the watermelons still required the human touch.unlike self-driving cars, which are a still a way from being commercially available, tusimple trucks won't be required to operate in bustling city traffic, but only on stretches of highway that have been thoroughly mapped via the company's own software. \"we collect data from the roads, and we create this very detailed, high definition map of each route. that adds another layer of safety for the vehicles,\" said lu. as a result, tusimple's trucks will only be able to self-drive along these pre-mapped trade corridors, which lu calls \"virtual railroads,\" and nowhere else. this swarm of robots gets smarter the more it worksaccording to the company, in the us 80% of goods travel through just 10% of the nation's trade corridors, so even selective mapping allows for capturing a large portion of the business. tusimple is currently mapping routes between arizona and texas, and plans to have mapped routes across the nation by 2024. its plans are dependent on state legislation, however, because currently some states do not allow for testing of autonomous trucks on public roads. happier drivers?the technology will add about $50,000 to the cost of a truck, making the final price roughly $200,000. according to lu, that's still cheaper than paying for a human driver. \"if you take $50,000 and divide it by 1 million miles, the average lifespan of a truck, that means you're adding five cents per mile. but you're saving the cost of a human driver, which based on average us wages is about $80,000 to $120,000 per year -- or 80 cents to $1.20 per mile. today, the direct labor cost is about 50% of the cost of operating a truck,\" he said. read: a robotic 'ironhand' could protect factory workers from injuriesthat doesn't mean driverless trucks will take away jobs, according to lu. by focusing on the \"middle mile,\" rather than on the pickup and delivery of the goods, tusimple believes it can create new freight capacity without creating new demand for drivers, while at the same time protecting existing jobs. \"a ups driver is dropping off 200 packages a day -- that's not what autonomy is meant for. we believe that every driver will be able to retire as a driver, even if they enter the workforce today,\" said lu. tusimple's autonomous fleet.instead, tusimple aims to take over the routes between terminals and distribution centers, which involve long stretches of monotonous driving. \"take phoenix to el paso: that's a six-hour drive. a person cannot make the round trip, because it's more than 11 hours. but the truck can go back and forth all day, the most mundane job that drivers don't want to do. that means you free up that human driver to do the first and the last mile .they get to work a full day, which is a more efficient use of their time, and they get to go home at night to their family,\" said lu.no distractions although lu says that the reliability of both the software and the hardware still needs to be increased, tusimple is planning its first fully autonomous tests, without a human safety driver in the cabin at all, before the end of the year. the results of such tests will indicate whether the company can meet its goal to launch its own trucks by 2024. lu says that 7,000 have been reserved in the us alone. photos: the robots running our warehouses photos: the robots running our warehousesrobots are an increasingly familiar presence in warehouses. at the south-east london warehouse run by british online supermarket ocado, 3,000 robots fulfill shopping orders. when an order is sent to the warehouse, the bots spring to life and head towards the container they require. scroll through to see more robots that are revolutionizing warehouses.hide caption 1 of 8 photos: the robots running our warehousesin response to the coronavirus pandemic, mit collaborated with ava robotics and the greater boston food bank to design a robot that can use uv light to sanitize the floor of a 4,000-square foot warehouse in just 30 minutes. hide caption 2 of 8 photos: the robots running our warehousesseven-foot \"model-t\" robots produced by japanese startup telexistence have been stacking shelves in two of tokyo's largest convenience store franchises. featuring cameras, microphones and sensors, the model-t uses three \"fingers\" to stock items such as bottled drinks, cans and rice bowls. the robot is controlled by shop staff remotely.hide caption 3 of 8 photos: the robots running our warehousesus company boston dynamics has become known for its advanced work robots. \"handle\" is made for the warehouse and equipped with an on-board vision system. it can lift boxes weighing over 30 pounds. hide caption 4 of 8 photos: the robots running our warehousesstretch is the latest robot from boston dynamics and can work in warehouses and distribution centers. designed to keep human workers out of harm's way, stretch's tentacle-like grippers mean it can manipulate boxes. hide caption 5 of 8 photos: the robots running our warehousesalthough not specifically designed for warehouses, boston dynamics' dog-like robot \"spot\" can lift objects, pick itself up after a fall, open and walk through doors, and even remind people to practice social distancing. hide caption 6 of 8 photos: the robots running our warehousesthis robot is used to plant seeds and check plants at the \"nordic harvest\" vertical farm  based in taastrup, denmark. the indoor farm is one of the biggest in europe.hide caption 7 of 8 photos: the robots running our warehousesrobots sort packages at a warehouse run by jd.com -- one of china's largest e-commerce firms, in wuhan, china, ahead of the annual singles day online shopping bonanza, in 2019.hide caption 8 of 8 tusimple has prominent competitors, such as google spinoff waymo and uber-backed aurora, but those are working on a wider range of self-driving vehicles, including passenger cars. tusimple is working exclusively on driverless trucks, like us companies plus and embark. grayson brulte, an autonomy expert at consulting firm brulte & co., believes tusimple is on the right track. \"the biggest competitive advantage that tusimple has over its competitors is that their technology was purpose-built for trucking. they're not trying to port an autonomy system built for passenger vehicles in dense urban environments to trucking or to build a virtual driver which can both drive passenger vehicles and class-8 trucks. these are different skills and different systems altogether,\" he said. removing the human element on long trucking routes has other benefits. the company says its trucks react 15 times faster than human drivers, and can see farther down the road, even at night. \"in the us every year there are about 5,000 fatalities involving trucks, and most are due to human error,\" said lu. \"the truck doesn't get tired, doesn't watch a movie or look at a phone. it doesn't get distracted.\" \n",
            "\n",
            "Summary\n",
            "  right now, there's a shortage of truck drivers in the us and worldwide, exacerbated by the e-commerce boom brought on by the pandemic. one solution to the problem is autonomous trucks, and several companies are in a race to be the first to launch one. the ship is scheduled to make its first journey between two norwegian towns before the end of the year. cities around the world are adopting electric ferries. floating pods are propelled through a low-pressure steel tube using magnetic levitation. in september, airbus unveiled plans for three hydrogen-powered, zero-emission aircraft which can carry 100 to 200 passengers. the six-seater seaplane was retrofitted with magnix's magni500 all-electric motor. harbour air -- which carries half a million passengers annually -- hopes to become the world's first all-electric airline. e-bikes give the user a boost to their pedaling, allowing them to go further with less effort. \"in the us, a driver can only work 11 hours a day. \"we collect data from the roads, and we create this very detailed, high definition map of each route. that adds another layer of safety for the vehicles,\" said lu. happier drivers?the technology will add about $50,000 to the cost of a truck, making the final price roughly $200,000. according to lu, that's still cheaper than paying for a human driver. today, the direct labor cost is about 50% of the cost of operating a truck,\" he said. \"a ups driver is dropping off 200 packages a day -- that's not what autonomy is meant for. \"take phoenix to el paso: that's a six-hour drive. a person cannot make the round trip, because it's more than 11 hours. but the truck can go back and forth all day, the most mundane job that drivers don't want to do. photos: the robots running our warehouses photos: the robots running our warehousesrobots are an increasingly familiar presence in warehouses. at the south-east london warehouse run by british online supermarket ocado, 3,000 robots fulfill shopping orders. when an order is sent to the warehouse, the bots spring to life and head towards the container they require. \"handle\" is made for the warehouse and equipped with an on-board vision system. it can lift boxes weighing over 30 pounds. designed to keep human workers out of harm's way, stretch's tentacle-like grippers mean it can manipulate boxes. tusimple is working exclusively on driverless trucks, like us companies plus and embark. grayson brulte, an autonomy expert at consulting firm brulte & co., believes tusimple is on the right track. \"the biggest competitive advantage that tusimple has over its competitors is that their technology was purpose-built for trucking. these are different skills and different systems altogether,\" he said. removing the human element on long trucking routes has other benefits. \"the truck doesn't get tired, doesn't watch a movie or look at a phone. it doesn't get distracted.\" \n",
            "\n",
            "Original 74 sentences, Summarized 32 sentences\n"
          ]
        }
      ]
    },
    {
      "cell_type": "markdown",
      "source": [
        "# Creating new CSV"
      ],
      "metadata": {
        "id": "csOML6Zfu28q"
      }
    },
    {
      "cell_type": "markdown",
      "source": [
        "Contains all the article text and summarized version with it's word and sentence count"
      ],
      "metadata": {
        "id": "zuvN8TkMU_rX"
      }
    },
    {
      "cell_type": "code",
      "source": [
        "summarized = []\n",
        "articleSentLength = []\n",
        "articleWordLength = []\n",
        "summSentLength = []\n",
        "summWordLength = []\n",
        "\n",
        "for text in articleText :\n",
        "  sentences = sent_tokenize(text)\n",
        "\n",
        "  articleSentLength.append(len(sentences))\n",
        "  articleWordLength.append(len(word_tokenize(text)))\n",
        "\n",
        "  tf_matrix = create_tf_matrix(sentences)\n",
        "\n",
        "  idf_matrix = create_idf_matrix(sentences)\n",
        "\n",
        "  tf_idf_matrix = create_tf_idf_matrix(tf_matrix, idf_matrix)\n",
        "\n",
        "  sentence_value = create_sentence_score_table(tf_idf_matrix)\n",
        "\n",
        "  threshold = find_average_score(sentence_value)\n",
        "\n",
        "  summary = generate_summary(sentences, sentence_value, threshold)\n",
        "\n",
        "  summarized.append(summary)\n",
        "  summSentLength.append(len(sent_tokenize(summary)))\n",
        "  summWordLength.append(len(word_tokenize(summary)))\n",
        "\n",
        "data = {\n",
        "    \"Original Article\" : articleText,\n",
        "    \"Original Sentence Count\" : articleSentLength,\n",
        "    \"Original Word Count\" : articleWordLength,\n",
        "    \"Summary\" : summarized,\n",
        "    \"Summary Sentence Count\" : summSentLength,\n",
        "    \"Summary Word Count\" : summWordLength,\n",
        "  }\n",
        "\n",
        "df2 = pd.DataFrame(data)\n",
        "\n",
        "df2.to_csv('/content/drive/MyDrive/csv_coll/CNN_Articels_clean/Articels_Summarized.csv')"
      ],
      "metadata": {
        "id": "o6XDS4Ihq4j4"
      },
      "execution_count": null,
      "outputs": []
    }
  ]
}